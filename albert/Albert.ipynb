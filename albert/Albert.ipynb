{
  "nbformat": 4,
  "nbformat_minor": 0,
  "metadata": {
    "colab": {
      "name": "Albert.ipynb",
      "provenance": [],
      "collapsed_sections": [],
      "mount_file_id": "1NXZ55t8AtduVSlK_8oaFSVbP7lHAP4m9",
      "authorship_tag": "ABX9TyOBrhombwOVBR3PvgkKfyCw",
      "include_colab_link": true
    },
    "kernelspec": {
      "name": "python3",
      "display_name": "Python 3"
    },
    "language_info": {
      "name": "python"
    },
    "widgets": {
      "application/vnd.jupyter.widget-state+json": {
        "9177d35360524c3092ff9b6cfbc863c4": {
          "model_module": "@jupyter-widgets/controls",
          "model_name": "HBoxModel",
          "model_module_version": "1.5.0",
          "state": {
            "_dom_classes": [],
            "_model_module": "@jupyter-widgets/controls",
            "_model_module_version": "1.5.0",
            "_model_name": "HBoxModel",
            "_view_count": null,
            "_view_module": "@jupyter-widgets/controls",
            "_view_module_version": "1.5.0",
            "_view_name": "HBoxView",
            "box_style": "",
            "children": [
              "IPY_MODEL_d6b746dec3c347e8ab0d4d00c717125a",
              "IPY_MODEL_a54c41213f684f998c7b5d035fdb8502",
              "IPY_MODEL_2be78983d334413ea04a37457aeb71a5"
            ],
            "layout": "IPY_MODEL_514f51de82c24499bf677707b6261d54"
          }
        },
        "d6b746dec3c347e8ab0d4d00c717125a": {
          "model_module": "@jupyter-widgets/controls",
          "model_name": "HTMLModel",
          "model_module_version": "1.5.0",
          "state": {
            "_dom_classes": [],
            "_model_module": "@jupyter-widgets/controls",
            "_model_module_version": "1.5.0",
            "_model_name": "HTMLModel",
            "_view_count": null,
            "_view_module": "@jupyter-widgets/controls",
            "_view_module_version": "1.5.0",
            "_view_name": "HTMLView",
            "description": "",
            "description_tooltip": null,
            "layout": "IPY_MODEL_a385d2b61afa4337a6e2108ab205ce99",
            "placeholder": "​",
            "style": "IPY_MODEL_97681519aaea4bbebe7c21c1cfd624d0",
            "value": "Downloading: 100%"
          }
        },
        "a54c41213f684f998c7b5d035fdb8502": {
          "model_module": "@jupyter-widgets/controls",
          "model_name": "FloatProgressModel",
          "model_module_version": "1.5.0",
          "state": {
            "_dom_classes": [],
            "_model_module": "@jupyter-widgets/controls",
            "_model_module_version": "1.5.0",
            "_model_name": "FloatProgressModel",
            "_view_count": null,
            "_view_module": "@jupyter-widgets/controls",
            "_view_module_version": "1.5.0",
            "_view_name": "ProgressView",
            "bar_style": "success",
            "description": "",
            "description_tooltip": null,
            "layout": "IPY_MODEL_80a6908a5b6c4020bf100f2aa4608c9b",
            "max": 717,
            "min": 0,
            "orientation": "horizontal",
            "style": "IPY_MODEL_74747a42e72142958bf97de428950d63",
            "value": 717
          }
        },
        "2be78983d334413ea04a37457aeb71a5": {
          "model_module": "@jupyter-widgets/controls",
          "model_name": "HTMLModel",
          "model_module_version": "1.5.0",
          "state": {
            "_dom_classes": [],
            "_model_module": "@jupyter-widgets/controls",
            "_model_module_version": "1.5.0",
            "_model_name": "HTMLModel",
            "_view_count": null,
            "_view_module": "@jupyter-widgets/controls",
            "_view_module_version": "1.5.0",
            "_view_name": "HTMLView",
            "description": "",
            "description_tooltip": null,
            "layout": "IPY_MODEL_e0fe7d33f6864182bf56d0a450ed776c",
            "placeholder": "​",
            "style": "IPY_MODEL_4b7c96186c6e4cde9937004a04f8d06e",
            "value": " 717/717 [00:00&lt;00:00, 9.44kB/s]"
          }
        },
        "514f51de82c24499bf677707b6261d54": {
          "model_module": "@jupyter-widgets/base",
          "model_name": "LayoutModel",
          "model_module_version": "1.2.0",
          "state": {
            "_model_module": "@jupyter-widgets/base",
            "_model_module_version": "1.2.0",
            "_model_name": "LayoutModel",
            "_view_count": null,
            "_view_module": "@jupyter-widgets/base",
            "_view_module_version": "1.2.0",
            "_view_name": "LayoutView",
            "align_content": null,
            "align_items": null,
            "align_self": null,
            "border": null,
            "bottom": null,
            "display": null,
            "flex": null,
            "flex_flow": null,
            "grid_area": null,
            "grid_auto_columns": null,
            "grid_auto_flow": null,
            "grid_auto_rows": null,
            "grid_column": null,
            "grid_gap": null,
            "grid_row": null,
            "grid_template_areas": null,
            "grid_template_columns": null,
            "grid_template_rows": null,
            "height": null,
            "justify_content": null,
            "justify_items": null,
            "left": null,
            "margin": null,
            "max_height": null,
            "max_width": null,
            "min_height": null,
            "min_width": null,
            "object_fit": null,
            "object_position": null,
            "order": null,
            "overflow": null,
            "overflow_x": null,
            "overflow_y": null,
            "padding": null,
            "right": null,
            "top": null,
            "visibility": null,
            "width": null
          }
        },
        "a385d2b61afa4337a6e2108ab205ce99": {
          "model_module": "@jupyter-widgets/base",
          "model_name": "LayoutModel",
          "model_module_version": "1.2.0",
          "state": {
            "_model_module": "@jupyter-widgets/base",
            "_model_module_version": "1.2.0",
            "_model_name": "LayoutModel",
            "_view_count": null,
            "_view_module": "@jupyter-widgets/base",
            "_view_module_version": "1.2.0",
            "_view_name": "LayoutView",
            "align_content": null,
            "align_items": null,
            "align_self": null,
            "border": null,
            "bottom": null,
            "display": null,
            "flex": null,
            "flex_flow": null,
            "grid_area": null,
            "grid_auto_columns": null,
            "grid_auto_flow": null,
            "grid_auto_rows": null,
            "grid_column": null,
            "grid_gap": null,
            "grid_row": null,
            "grid_template_areas": null,
            "grid_template_columns": null,
            "grid_template_rows": null,
            "height": null,
            "justify_content": null,
            "justify_items": null,
            "left": null,
            "margin": null,
            "max_height": null,
            "max_width": null,
            "min_height": null,
            "min_width": null,
            "object_fit": null,
            "object_position": null,
            "order": null,
            "overflow": null,
            "overflow_x": null,
            "overflow_y": null,
            "padding": null,
            "right": null,
            "top": null,
            "visibility": null,
            "width": null
          }
        },
        "97681519aaea4bbebe7c21c1cfd624d0": {
          "model_module": "@jupyter-widgets/controls",
          "model_name": "DescriptionStyleModel",
          "model_module_version": "1.5.0",
          "state": {
            "_model_module": "@jupyter-widgets/controls",
            "_model_module_version": "1.5.0",
            "_model_name": "DescriptionStyleModel",
            "_view_count": null,
            "_view_module": "@jupyter-widgets/base",
            "_view_module_version": "1.2.0",
            "_view_name": "StyleView",
            "description_width": ""
          }
        },
        "80a6908a5b6c4020bf100f2aa4608c9b": {
          "model_module": "@jupyter-widgets/base",
          "model_name": "LayoutModel",
          "model_module_version": "1.2.0",
          "state": {
            "_model_module": "@jupyter-widgets/base",
            "_model_module_version": "1.2.0",
            "_model_name": "LayoutModel",
            "_view_count": null,
            "_view_module": "@jupyter-widgets/base",
            "_view_module_version": "1.2.0",
            "_view_name": "LayoutView",
            "align_content": null,
            "align_items": null,
            "align_self": null,
            "border": null,
            "bottom": null,
            "display": null,
            "flex": null,
            "flex_flow": null,
            "grid_area": null,
            "grid_auto_columns": null,
            "grid_auto_flow": null,
            "grid_auto_rows": null,
            "grid_column": null,
            "grid_gap": null,
            "grid_row": null,
            "grid_template_areas": null,
            "grid_template_columns": null,
            "grid_template_rows": null,
            "height": null,
            "justify_content": null,
            "justify_items": null,
            "left": null,
            "margin": null,
            "max_height": null,
            "max_width": null,
            "min_height": null,
            "min_width": null,
            "object_fit": null,
            "object_position": null,
            "order": null,
            "overflow": null,
            "overflow_x": null,
            "overflow_y": null,
            "padding": null,
            "right": null,
            "top": null,
            "visibility": null,
            "width": null
          }
        },
        "74747a42e72142958bf97de428950d63": {
          "model_module": "@jupyter-widgets/controls",
          "model_name": "ProgressStyleModel",
          "model_module_version": "1.5.0",
          "state": {
            "_model_module": "@jupyter-widgets/controls",
            "_model_module_version": "1.5.0",
            "_model_name": "ProgressStyleModel",
            "_view_count": null,
            "_view_module": "@jupyter-widgets/base",
            "_view_module_version": "1.2.0",
            "_view_name": "StyleView",
            "bar_color": null,
            "description_width": ""
          }
        },
        "e0fe7d33f6864182bf56d0a450ed776c": {
          "model_module": "@jupyter-widgets/base",
          "model_name": "LayoutModel",
          "model_module_version": "1.2.0",
          "state": {
            "_model_module": "@jupyter-widgets/base",
            "_model_module_version": "1.2.0",
            "_model_name": "LayoutModel",
            "_view_count": null,
            "_view_module": "@jupyter-widgets/base",
            "_view_module_version": "1.2.0",
            "_view_name": "LayoutView",
            "align_content": null,
            "align_items": null,
            "align_self": null,
            "border": null,
            "bottom": null,
            "display": null,
            "flex": null,
            "flex_flow": null,
            "grid_area": null,
            "grid_auto_columns": null,
            "grid_auto_flow": null,
            "grid_auto_rows": null,
            "grid_column": null,
            "grid_gap": null,
            "grid_row": null,
            "grid_template_areas": null,
            "grid_template_columns": null,
            "grid_template_rows": null,
            "height": null,
            "justify_content": null,
            "justify_items": null,
            "left": null,
            "margin": null,
            "max_height": null,
            "max_width": null,
            "min_height": null,
            "min_width": null,
            "object_fit": null,
            "object_position": null,
            "order": null,
            "overflow": null,
            "overflow_x": null,
            "overflow_y": null,
            "padding": null,
            "right": null,
            "top": null,
            "visibility": null,
            "width": null
          }
        },
        "4b7c96186c6e4cde9937004a04f8d06e": {
          "model_module": "@jupyter-widgets/controls",
          "model_name": "DescriptionStyleModel",
          "model_module_version": "1.5.0",
          "state": {
            "_model_module": "@jupyter-widgets/controls",
            "_model_module_version": "1.5.0",
            "_model_name": "DescriptionStyleModel",
            "_view_count": null,
            "_view_module": "@jupyter-widgets/base",
            "_view_module_version": "1.2.0",
            "_view_name": "StyleView",
            "description_width": ""
          }
        },
        "e48e4787755445c0b5e7b7da9d3e5f07": {
          "model_module": "@jupyter-widgets/controls",
          "model_name": "HBoxModel",
          "model_module_version": "1.5.0",
          "state": {
            "_dom_classes": [],
            "_model_module": "@jupyter-widgets/controls",
            "_model_module_version": "1.5.0",
            "_model_name": "HBoxModel",
            "_view_count": null,
            "_view_module": "@jupyter-widgets/controls",
            "_view_module_version": "1.5.0",
            "_view_name": "HBoxView",
            "box_style": "",
            "children": [
              "IPY_MODEL_5a52d7105da6499886fdde9400854734",
              "IPY_MODEL_e599e990dcff43c394d34bc0c5cf4f2a",
              "IPY_MODEL_f15eb4b74d5a490bacb0b5fbf501845f"
            ],
            "layout": "IPY_MODEL_925f8238985a497795cda2a7657d7980"
          }
        },
        "5a52d7105da6499886fdde9400854734": {
          "model_module": "@jupyter-widgets/controls",
          "model_name": "HTMLModel",
          "model_module_version": "1.5.0",
          "state": {
            "_dom_classes": [],
            "_model_module": "@jupyter-widgets/controls",
            "_model_module_version": "1.5.0",
            "_model_name": "HTMLModel",
            "_view_count": null,
            "_view_module": "@jupyter-widgets/controls",
            "_view_module_version": "1.5.0",
            "_view_name": "HTMLView",
            "description": "",
            "description_tooltip": null,
            "layout": "IPY_MODEL_0c84c73f905d49aea291ab4e99a62d86",
            "placeholder": "​",
            "style": "IPY_MODEL_b3e6d90279b84852a4b8d2c0758d6557",
            "value": "Downloading: 100%"
          }
        },
        "e599e990dcff43c394d34bc0c5cf4f2a": {
          "model_module": "@jupyter-widgets/controls",
          "model_name": "FloatProgressModel",
          "model_module_version": "1.5.0",
          "state": {
            "_dom_classes": [],
            "_model_module": "@jupyter-widgets/controls",
            "_model_module_version": "1.5.0",
            "_model_name": "FloatProgressModel",
            "_view_count": null,
            "_view_module": "@jupyter-widgets/controls",
            "_view_module_version": "1.5.0",
            "_view_name": "ProgressView",
            "bar_style": "success",
            "description": "",
            "description_tooltip": null,
            "layout": "IPY_MODEL_e7bfee9b89d44a99b86dfc46fbb596b2",
            "max": 760289,
            "min": 0,
            "orientation": "horizontal",
            "style": "IPY_MODEL_b3639b19c61745fcbc003b7a88162b01",
            "value": 760289
          }
        },
        "f15eb4b74d5a490bacb0b5fbf501845f": {
          "model_module": "@jupyter-widgets/controls",
          "model_name": "HTMLModel",
          "model_module_version": "1.5.0",
          "state": {
            "_dom_classes": [],
            "_model_module": "@jupyter-widgets/controls",
            "_model_module_version": "1.5.0",
            "_model_name": "HTMLModel",
            "_view_count": null,
            "_view_module": "@jupyter-widgets/controls",
            "_view_module_version": "1.5.0",
            "_view_name": "HTMLView",
            "description": "",
            "description_tooltip": null,
            "layout": "IPY_MODEL_dc18647a113c453695d2d4dd85909d24",
            "placeholder": "​",
            "style": "IPY_MODEL_8b528f6b976d41b4a0ad3f100462fdf7",
            "value": " 760k/760k [00:00&lt;00:00, 523kB/s]"
          }
        },
        "925f8238985a497795cda2a7657d7980": {
          "model_module": "@jupyter-widgets/base",
          "model_name": "LayoutModel",
          "model_module_version": "1.2.0",
          "state": {
            "_model_module": "@jupyter-widgets/base",
            "_model_module_version": "1.2.0",
            "_model_name": "LayoutModel",
            "_view_count": null,
            "_view_module": "@jupyter-widgets/base",
            "_view_module_version": "1.2.0",
            "_view_name": "LayoutView",
            "align_content": null,
            "align_items": null,
            "align_self": null,
            "border": null,
            "bottom": null,
            "display": null,
            "flex": null,
            "flex_flow": null,
            "grid_area": null,
            "grid_auto_columns": null,
            "grid_auto_flow": null,
            "grid_auto_rows": null,
            "grid_column": null,
            "grid_gap": null,
            "grid_row": null,
            "grid_template_areas": null,
            "grid_template_columns": null,
            "grid_template_rows": null,
            "height": null,
            "justify_content": null,
            "justify_items": null,
            "left": null,
            "margin": null,
            "max_height": null,
            "max_width": null,
            "min_height": null,
            "min_width": null,
            "object_fit": null,
            "object_position": null,
            "order": null,
            "overflow": null,
            "overflow_x": null,
            "overflow_y": null,
            "padding": null,
            "right": null,
            "top": null,
            "visibility": null,
            "width": null
          }
        },
        "0c84c73f905d49aea291ab4e99a62d86": {
          "model_module": "@jupyter-widgets/base",
          "model_name": "LayoutModel",
          "model_module_version": "1.2.0",
          "state": {
            "_model_module": "@jupyter-widgets/base",
            "_model_module_version": "1.2.0",
            "_model_name": "LayoutModel",
            "_view_count": null,
            "_view_module": "@jupyter-widgets/base",
            "_view_module_version": "1.2.0",
            "_view_name": "LayoutView",
            "align_content": null,
            "align_items": null,
            "align_self": null,
            "border": null,
            "bottom": null,
            "display": null,
            "flex": null,
            "flex_flow": null,
            "grid_area": null,
            "grid_auto_columns": null,
            "grid_auto_flow": null,
            "grid_auto_rows": null,
            "grid_column": null,
            "grid_gap": null,
            "grid_row": null,
            "grid_template_areas": null,
            "grid_template_columns": null,
            "grid_template_rows": null,
            "height": null,
            "justify_content": null,
            "justify_items": null,
            "left": null,
            "margin": null,
            "max_height": null,
            "max_width": null,
            "min_height": null,
            "min_width": null,
            "object_fit": null,
            "object_position": null,
            "order": null,
            "overflow": null,
            "overflow_x": null,
            "overflow_y": null,
            "padding": null,
            "right": null,
            "top": null,
            "visibility": null,
            "width": null
          }
        },
        "b3e6d90279b84852a4b8d2c0758d6557": {
          "model_module": "@jupyter-widgets/controls",
          "model_name": "DescriptionStyleModel",
          "model_module_version": "1.5.0",
          "state": {
            "_model_module": "@jupyter-widgets/controls",
            "_model_module_version": "1.5.0",
            "_model_name": "DescriptionStyleModel",
            "_view_count": null,
            "_view_module": "@jupyter-widgets/base",
            "_view_module_version": "1.2.0",
            "_view_name": "StyleView",
            "description_width": ""
          }
        },
        "e7bfee9b89d44a99b86dfc46fbb596b2": {
          "model_module": "@jupyter-widgets/base",
          "model_name": "LayoutModel",
          "model_module_version": "1.2.0",
          "state": {
            "_model_module": "@jupyter-widgets/base",
            "_model_module_version": "1.2.0",
            "_model_name": "LayoutModel",
            "_view_count": null,
            "_view_module": "@jupyter-widgets/base",
            "_view_module_version": "1.2.0",
            "_view_name": "LayoutView",
            "align_content": null,
            "align_items": null,
            "align_self": null,
            "border": null,
            "bottom": null,
            "display": null,
            "flex": null,
            "flex_flow": null,
            "grid_area": null,
            "grid_auto_columns": null,
            "grid_auto_flow": null,
            "grid_auto_rows": null,
            "grid_column": null,
            "grid_gap": null,
            "grid_row": null,
            "grid_template_areas": null,
            "grid_template_columns": null,
            "grid_template_rows": null,
            "height": null,
            "justify_content": null,
            "justify_items": null,
            "left": null,
            "margin": null,
            "max_height": null,
            "max_width": null,
            "min_height": null,
            "min_width": null,
            "object_fit": null,
            "object_position": null,
            "order": null,
            "overflow": null,
            "overflow_x": null,
            "overflow_y": null,
            "padding": null,
            "right": null,
            "top": null,
            "visibility": null,
            "width": null
          }
        },
        "b3639b19c61745fcbc003b7a88162b01": {
          "model_module": "@jupyter-widgets/controls",
          "model_name": "ProgressStyleModel",
          "model_module_version": "1.5.0",
          "state": {
            "_model_module": "@jupyter-widgets/controls",
            "_model_module_version": "1.5.0",
            "_model_name": "ProgressStyleModel",
            "_view_count": null,
            "_view_module": "@jupyter-widgets/base",
            "_view_module_version": "1.2.0",
            "_view_name": "StyleView",
            "bar_color": null,
            "description_width": ""
          }
        },
        "dc18647a113c453695d2d4dd85909d24": {
          "model_module": "@jupyter-widgets/base",
          "model_name": "LayoutModel",
          "model_module_version": "1.2.0",
          "state": {
            "_model_module": "@jupyter-widgets/base",
            "_model_module_version": "1.2.0",
            "_model_name": "LayoutModel",
            "_view_count": null,
            "_view_module": "@jupyter-widgets/base",
            "_view_module_version": "1.2.0",
            "_view_name": "LayoutView",
            "align_content": null,
            "align_items": null,
            "align_self": null,
            "border": null,
            "bottom": null,
            "display": null,
            "flex": null,
            "flex_flow": null,
            "grid_area": null,
            "grid_auto_columns": null,
            "grid_auto_flow": null,
            "grid_auto_rows": null,
            "grid_column": null,
            "grid_gap": null,
            "grid_row": null,
            "grid_template_areas": null,
            "grid_template_columns": null,
            "grid_template_rows": null,
            "height": null,
            "justify_content": null,
            "justify_items": null,
            "left": null,
            "margin": null,
            "max_height": null,
            "max_width": null,
            "min_height": null,
            "min_width": null,
            "object_fit": null,
            "object_position": null,
            "order": null,
            "overflow": null,
            "overflow_x": null,
            "overflow_y": null,
            "padding": null,
            "right": null,
            "top": null,
            "visibility": null,
            "width": null
          }
        },
        "8b528f6b976d41b4a0ad3f100462fdf7": {
          "model_module": "@jupyter-widgets/controls",
          "model_name": "DescriptionStyleModel",
          "model_module_version": "1.5.0",
          "state": {
            "_model_module": "@jupyter-widgets/controls",
            "_model_module_version": "1.5.0",
            "_model_name": "DescriptionStyleModel",
            "_view_count": null,
            "_view_module": "@jupyter-widgets/base",
            "_view_module_version": "1.2.0",
            "_view_name": "StyleView",
            "description_width": ""
          }
        },
        "e89120912b634ecb96eea13527cf2b6b": {
          "model_module": "@jupyter-widgets/controls",
          "model_name": "HBoxModel",
          "model_module_version": "1.5.0",
          "state": {
            "_dom_classes": [],
            "_model_module": "@jupyter-widgets/controls",
            "_model_module_version": "1.5.0",
            "_model_name": "HBoxModel",
            "_view_count": null,
            "_view_module": "@jupyter-widgets/controls",
            "_view_module_version": "1.5.0",
            "_view_name": "HBoxView",
            "box_style": "",
            "children": [
              "IPY_MODEL_67b2c62f6a0c421daf867e35b9773809",
              "IPY_MODEL_7b5a498b2ddd405cb85cfa40e44ba940",
              "IPY_MODEL_0b02fb4ab8eb4ce1888ddcd14356c245"
            ],
            "layout": "IPY_MODEL_5d0e897b8a6d4283aa177140a93c5879"
          }
        },
        "67b2c62f6a0c421daf867e35b9773809": {
          "model_module": "@jupyter-widgets/controls",
          "model_name": "HTMLModel",
          "model_module_version": "1.5.0",
          "state": {
            "_dom_classes": [],
            "_model_module": "@jupyter-widgets/controls",
            "_model_module_version": "1.5.0",
            "_model_name": "HTMLModel",
            "_view_count": null,
            "_view_module": "@jupyter-widgets/controls",
            "_view_module_version": "1.5.0",
            "_view_name": "HTMLView",
            "description": "",
            "description_tooltip": null,
            "layout": "IPY_MODEL_855f80326698449985e099574afa33c8",
            "placeholder": "​",
            "style": "IPY_MODEL_e6d268a6f1534e8798ec7a7ab44166e5",
            "value": "Downloading: 100%"
          }
        },
        "7b5a498b2ddd405cb85cfa40e44ba940": {
          "model_module": "@jupyter-widgets/controls",
          "model_name": "FloatProgressModel",
          "model_module_version": "1.5.0",
          "state": {
            "_dom_classes": [],
            "_model_module": "@jupyter-widgets/controls",
            "_model_module_version": "1.5.0",
            "_model_name": "FloatProgressModel",
            "_view_count": null,
            "_view_module": "@jupyter-widgets/controls",
            "_view_module_version": "1.5.0",
            "_view_name": "ProgressView",
            "bar_style": "success",
            "description": "",
            "description_tooltip": null,
            "layout": "IPY_MODEL_fc69aa694b6d453a85db0e46b18d4fc9",
            "max": 234922444,
            "min": 0,
            "orientation": "horizontal",
            "style": "IPY_MODEL_6b760b49bea449ee97beca4ac7c10f28",
            "value": 234922444
          }
        },
        "0b02fb4ab8eb4ce1888ddcd14356c245": {
          "model_module": "@jupyter-widgets/controls",
          "model_name": "HTMLModel",
          "model_module_version": "1.5.0",
          "state": {
            "_dom_classes": [],
            "_model_module": "@jupyter-widgets/controls",
            "_model_module_version": "1.5.0",
            "_model_name": "HTMLModel",
            "_view_count": null,
            "_view_module": "@jupyter-widgets/controls",
            "_view_module_version": "1.5.0",
            "_view_name": "HTMLView",
            "description": "",
            "description_tooltip": null,
            "layout": "IPY_MODEL_e30b843afc484025a04d2dde0bb969af",
            "placeholder": "​",
            "style": "IPY_MODEL_e51d4694ec984ed0b1193534b7ca0850",
            "value": " 235M/235M [00:07&lt;00:00, 52.3MB/s]"
          }
        },
        "5d0e897b8a6d4283aa177140a93c5879": {
          "model_module": "@jupyter-widgets/base",
          "model_name": "LayoutModel",
          "model_module_version": "1.2.0",
          "state": {
            "_model_module": "@jupyter-widgets/base",
            "_model_module_version": "1.2.0",
            "_model_name": "LayoutModel",
            "_view_count": null,
            "_view_module": "@jupyter-widgets/base",
            "_view_module_version": "1.2.0",
            "_view_name": "LayoutView",
            "align_content": null,
            "align_items": null,
            "align_self": null,
            "border": null,
            "bottom": null,
            "display": null,
            "flex": null,
            "flex_flow": null,
            "grid_area": null,
            "grid_auto_columns": null,
            "grid_auto_flow": null,
            "grid_auto_rows": null,
            "grid_column": null,
            "grid_gap": null,
            "grid_row": null,
            "grid_template_areas": null,
            "grid_template_columns": null,
            "grid_template_rows": null,
            "height": null,
            "justify_content": null,
            "justify_items": null,
            "left": null,
            "margin": null,
            "max_height": null,
            "max_width": null,
            "min_height": null,
            "min_width": null,
            "object_fit": null,
            "object_position": null,
            "order": null,
            "overflow": null,
            "overflow_x": null,
            "overflow_y": null,
            "padding": null,
            "right": null,
            "top": null,
            "visibility": null,
            "width": null
          }
        },
        "855f80326698449985e099574afa33c8": {
          "model_module": "@jupyter-widgets/base",
          "model_name": "LayoutModel",
          "model_module_version": "1.2.0",
          "state": {
            "_model_module": "@jupyter-widgets/base",
            "_model_module_version": "1.2.0",
            "_model_name": "LayoutModel",
            "_view_count": null,
            "_view_module": "@jupyter-widgets/base",
            "_view_module_version": "1.2.0",
            "_view_name": "LayoutView",
            "align_content": null,
            "align_items": null,
            "align_self": null,
            "border": null,
            "bottom": null,
            "display": null,
            "flex": null,
            "flex_flow": null,
            "grid_area": null,
            "grid_auto_columns": null,
            "grid_auto_flow": null,
            "grid_auto_rows": null,
            "grid_column": null,
            "grid_gap": null,
            "grid_row": null,
            "grid_template_areas": null,
            "grid_template_columns": null,
            "grid_template_rows": null,
            "height": null,
            "justify_content": null,
            "justify_items": null,
            "left": null,
            "margin": null,
            "max_height": null,
            "max_width": null,
            "min_height": null,
            "min_width": null,
            "object_fit": null,
            "object_position": null,
            "order": null,
            "overflow": null,
            "overflow_x": null,
            "overflow_y": null,
            "padding": null,
            "right": null,
            "top": null,
            "visibility": null,
            "width": null
          }
        },
        "e6d268a6f1534e8798ec7a7ab44166e5": {
          "model_module": "@jupyter-widgets/controls",
          "model_name": "DescriptionStyleModel",
          "model_module_version": "1.5.0",
          "state": {
            "_model_module": "@jupyter-widgets/controls",
            "_model_module_version": "1.5.0",
            "_model_name": "DescriptionStyleModel",
            "_view_count": null,
            "_view_module": "@jupyter-widgets/base",
            "_view_module_version": "1.2.0",
            "_view_name": "StyleView",
            "description_width": ""
          }
        },
        "fc69aa694b6d453a85db0e46b18d4fc9": {
          "model_module": "@jupyter-widgets/base",
          "model_name": "LayoutModel",
          "model_module_version": "1.2.0",
          "state": {
            "_model_module": "@jupyter-widgets/base",
            "_model_module_version": "1.2.0",
            "_model_name": "LayoutModel",
            "_view_count": null,
            "_view_module": "@jupyter-widgets/base",
            "_view_module_version": "1.2.0",
            "_view_name": "LayoutView",
            "align_content": null,
            "align_items": null,
            "align_self": null,
            "border": null,
            "bottom": null,
            "display": null,
            "flex": null,
            "flex_flow": null,
            "grid_area": null,
            "grid_auto_columns": null,
            "grid_auto_flow": null,
            "grid_auto_rows": null,
            "grid_column": null,
            "grid_gap": null,
            "grid_row": null,
            "grid_template_areas": null,
            "grid_template_columns": null,
            "grid_template_rows": null,
            "height": null,
            "justify_content": null,
            "justify_items": null,
            "left": null,
            "margin": null,
            "max_height": null,
            "max_width": null,
            "min_height": null,
            "min_width": null,
            "object_fit": null,
            "object_position": null,
            "order": null,
            "overflow": null,
            "overflow_x": null,
            "overflow_y": null,
            "padding": null,
            "right": null,
            "top": null,
            "visibility": null,
            "width": null
          }
        },
        "6b760b49bea449ee97beca4ac7c10f28": {
          "model_module": "@jupyter-widgets/controls",
          "model_name": "ProgressStyleModel",
          "model_module_version": "1.5.0",
          "state": {
            "_model_module": "@jupyter-widgets/controls",
            "_model_module_version": "1.5.0",
            "_model_name": "ProgressStyleModel",
            "_view_count": null,
            "_view_module": "@jupyter-widgets/base",
            "_view_module_version": "1.2.0",
            "_view_name": "StyleView",
            "bar_color": null,
            "description_width": ""
          }
        },
        "e30b843afc484025a04d2dde0bb969af": {
          "model_module": "@jupyter-widgets/base",
          "model_name": "LayoutModel",
          "model_module_version": "1.2.0",
          "state": {
            "_model_module": "@jupyter-widgets/base",
            "_model_module_version": "1.2.0",
            "_model_name": "LayoutModel",
            "_view_count": null,
            "_view_module": "@jupyter-widgets/base",
            "_view_module_version": "1.2.0",
            "_view_name": "LayoutView",
            "align_content": null,
            "align_items": null,
            "align_self": null,
            "border": null,
            "bottom": null,
            "display": null,
            "flex": null,
            "flex_flow": null,
            "grid_area": null,
            "grid_auto_columns": null,
            "grid_auto_flow": null,
            "grid_auto_rows": null,
            "grid_column": null,
            "grid_gap": null,
            "grid_row": null,
            "grid_template_areas": null,
            "grid_template_columns": null,
            "grid_template_rows": null,
            "height": null,
            "justify_content": null,
            "justify_items": null,
            "left": null,
            "margin": null,
            "max_height": null,
            "max_width": null,
            "min_height": null,
            "min_width": null,
            "object_fit": null,
            "object_position": null,
            "order": null,
            "overflow": null,
            "overflow_x": null,
            "overflow_y": null,
            "padding": null,
            "right": null,
            "top": null,
            "visibility": null,
            "width": null
          }
        },
        "e51d4694ec984ed0b1193534b7ca0850": {
          "model_module": "@jupyter-widgets/controls",
          "model_name": "DescriptionStyleModel",
          "model_module_version": "1.5.0",
          "state": {
            "_model_module": "@jupyter-widgets/controls",
            "_model_module_version": "1.5.0",
            "_model_name": "DescriptionStyleModel",
            "_view_count": null,
            "_view_module": "@jupyter-widgets/base",
            "_view_module_version": "1.2.0",
            "_view_name": "StyleView",
            "description_width": ""
          }
        }
      }
    },
    "accelerator": "GPU",
    "gpuClass": "standard"
  },
  "cells": [
    {
      "cell_type": "markdown",
      "metadata": {
        "id": "view-in-github",
        "colab_type": "text"
      },
      "source": [
        "<a href=\"https://colab.research.google.com/github/aislinblack/CS6120-NLP-Project/blob/main/albert/Albert.ipynb\" target=\"_parent\"><img src=\"https://colab.research.google.com/assets/colab-badge.svg\" alt=\"Open In Colab\"/></a>"
      ]
    },
    {
      "cell_type": "code",
      "execution_count": null,
      "metadata": {
        "id": "ox2B6F1TehHK"
      },
      "outputs": [],
      "source": [
        ""
      ]
    },
    {
      "cell_type": "markdown",
      "metadata": {
        "id": "1qfQAtRsMVl7"
      },
      "source": [
        "# Question and Answering with ALBERT\n",
        "\n",
        "Based on the following jupyter notebook https://colab.research.google.com/github/spark-ming/albert-qa-demo/blob/master/Question_Answering_with_ALBERT.ipynb#scrollTo=1qfQAtRsMVl7\n",
        "\n",
        "## Introduction to ALBERT\n",
        "\n",
        "\n",
        "\n"
      ]
    },
    {
      "cell_type": "markdown",
      "metadata": {
        "id": "sBBHbGvQN5vX"
      },
      "source": [
        "## 1.0 Setup\n",
        "\n",
        "Let's check out what kind of GPU our friends at Google gave us. This notebook should be configured to give you a P100 😃 (saved in metadata)"
      ]
    },
    {
      "cell_type": "code",
      "metadata": {
        "id": "frTeTcy4WdbY",
        "colab": {
          "base_uri": "https://localhost:8080/"
        },
        "outputId": "97ae40e0-d2e2-438e-ddae-5a40c9588cb0"
      },
      "source": [
        "!nvidia-smi"
      ],
      "execution_count": 1,
      "outputs": [
        {
          "output_type": "stream",
          "name": "stdout",
          "text": [
            "Sun Jul 31 15:16:03 2022       \n",
            "+-----------------------------------------------------------------------------+\n",
            "| NVIDIA-SMI 460.32.03    Driver Version: 460.32.03    CUDA Version: 11.2     |\n",
            "|-------------------------------+----------------------+----------------------+\n",
            "| GPU  Name        Persistence-M| Bus-Id        Disp.A | Volatile Uncorr. ECC |\n",
            "| Fan  Temp  Perf  Pwr:Usage/Cap|         Memory-Usage | GPU-Util  Compute M. |\n",
            "|                               |                      |               MIG M. |\n",
            "|===============================+======================+======================|\n",
            "|   0  Tesla P100-PCIE...  Off  | 00000000:00:04.0 Off |                    0 |\n",
            "| N/A   35C    P0    26W / 250W |      0MiB / 16280MiB |      0%      Default |\n",
            "|                               |                      |                  N/A |\n",
            "+-------------------------------+----------------------+----------------------+\n",
            "                                                                               \n",
            "+-----------------------------------------------------------------------------+\n",
            "| Processes:                                                                  |\n",
            "|  GPU   GI   CI        PID   Type   Process name                  GPU Memory |\n",
            "|        ID   ID                                                   Usage      |\n",
            "|=============================================================================|\n",
            "|  No running processes found                                                 |\n",
            "+-----------------------------------------------------------------------------+\n"
          ]
        }
      ]
    },
    {
      "cell_type": "markdown",
      "metadata": {
        "id": "D5RImM3oWbrZ"
      },
      "source": [
        "First, we clone the Hugging Face transformer library from Github"
      ]
    },
    {
      "cell_type": "code",
      "metadata": {
        "id": "QOAoUwBFMQCg",
        "colab": {
          "base_uri": "https://localhost:8080/"
        },
        "outputId": "8335ef77-a9b7-4821-9efd-3ce4600c0565"
      },
      "source": [
        "!git clone https://github.com/huggingface/transformers \\\n",
        "&& cd transformers \\\n",
        "&& git checkout a3085020ed0d81d4903c50967687192e3101e770 "
      ],
      "execution_count": 2,
      "outputs": [
        {
          "output_type": "stream",
          "name": "stdout",
          "text": [
            "Cloning into 'transformers'...\n",
            "remote: Enumerating objects: 102756, done.\u001b[K\n",
            "remote: Counting objects: 100% (641/641), done.\u001b[K\n",
            "remote: Compressing objects: 100% (238/238), done.\u001b[K\n",
            "remote: Total 102756 (delta 393), reused 481 (delta 330), pack-reused 102115\u001b[K\n",
            "Receiving objects: 100% (102756/102756), 95.98 MiB | 29.90 MiB/s, done.\n",
            "Resolving deltas: 100% (75801/75801), done.\n",
            "Note: checking out 'a3085020ed0d81d4903c50967687192e3101e770'.\n",
            "\n",
            "You are in 'detached HEAD' state. You can look around, make experimental\n",
            "changes and commit them, and you can discard any commits you make in this\n",
            "state without impacting any branches by performing another checkout.\n",
            "\n",
            "If you want to create a new branch to retain commits you create, you may\n",
            "do so (now or later) by using -b with the checkout command again. Example:\n",
            "\n",
            "  git checkout -b <new-branch-name>\n",
            "\n",
            "HEAD is now at a3085020e Added repetition penalty to PPLM example (#2436)\n"
          ]
        }
      ]
    },
    {
      "cell_type": "code",
      "metadata": {
        "id": "TRZned-8WJrj",
        "colab": {
          "base_uri": "https://localhost:8080/"
        },
        "outputId": "162ddc5f-06a9-4b57-cd43-774aef943afd"
      },
      "source": [
        "!pip install ./transformers\n",
        "!pip install tensorboardX"
      ],
      "execution_count": 3,
      "outputs": [
        {
          "output_type": "stream",
          "name": "stdout",
          "text": [
            "Looking in indexes: https://pypi.org/simple, https://us-python.pkg.dev/colab-wheels/public/simple/\n",
            "Processing ./transformers\n",
            "\u001b[33m  DEPRECATION: A future pip version will change local packages to be built in-place without first copying to a temporary directory. We recommend you use --use-feature=in-tree-build to test your packages with this new behavior before it becomes the default.\n",
            "   pip 21.3 will remove support for this functionality. You can find discussion regarding this at https://github.com/pypa/pip/issues/7555.\u001b[0m\n",
            "Requirement already satisfied: numpy in /usr/local/lib/python3.7/dist-packages (from transformers==2.3.0) (1.21.6)\n",
            "Collecting tokenizers==0.0.11\n",
            "  Downloading tokenizers-0.0.11-cp37-cp37m-manylinux1_x86_64.whl (4.7 MB)\n",
            "\u001b[K     |████████████████████████████████| 4.7 MB 4.9 MB/s \n",
            "\u001b[?25hCollecting boto3\n",
            "  Downloading boto3-1.24.42-py3-none-any.whl (132 kB)\n",
            "\u001b[K     |████████████████████████████████| 132 kB 60.8 MB/s \n",
            "\u001b[?25hRequirement already satisfied: filelock in /usr/local/lib/python3.7/dist-packages (from transformers==2.3.0) (3.7.1)\n",
            "Requirement already satisfied: requests in /usr/local/lib/python3.7/dist-packages (from transformers==2.3.0) (2.23.0)\n",
            "Requirement already satisfied: tqdm in /usr/local/lib/python3.7/dist-packages (from transformers==2.3.0) (4.64.0)\n",
            "Requirement already satisfied: regex!=2019.12.17 in /usr/local/lib/python3.7/dist-packages (from transformers==2.3.0) (2022.6.2)\n",
            "Collecting sentencepiece\n",
            "  Downloading sentencepiece-0.1.96-cp37-cp37m-manylinux_2_17_x86_64.manylinux2014_x86_64.whl (1.2 MB)\n",
            "\u001b[K     |████████████████████████████████| 1.2 MB 66.2 MB/s \n",
            "\u001b[?25hCollecting sacremoses\n",
            "  Downloading sacremoses-0.0.53.tar.gz (880 kB)\n",
            "\u001b[K     |████████████████████████████████| 880 kB 54.2 MB/s \n",
            "\u001b[?25hCollecting s3transfer<0.7.0,>=0.6.0\n",
            "  Downloading s3transfer-0.6.0-py3-none-any.whl (79 kB)\n",
            "\u001b[K     |████████████████████████████████| 79 kB 9.2 MB/s \n",
            "\u001b[?25hCollecting jmespath<2.0.0,>=0.7.1\n",
            "  Downloading jmespath-1.0.1-py3-none-any.whl (20 kB)\n",
            "Collecting botocore<1.28.0,>=1.27.42\n",
            "  Downloading botocore-1.27.42-py3-none-any.whl (9.0 MB)\n",
            "\u001b[K     |████████████████████████████████| 9.0 MB 49.7 MB/s \n",
            "\u001b[?25hRequirement already satisfied: python-dateutil<3.0.0,>=2.1 in /usr/local/lib/python3.7/dist-packages (from botocore<1.28.0,>=1.27.42->boto3->transformers==2.3.0) (2.8.2)\n",
            "Collecting urllib3<1.27,>=1.25.4\n",
            "  Downloading urllib3-1.26.11-py2.py3-none-any.whl (139 kB)\n",
            "\u001b[K     |████████████████████████████████| 139 kB 74.9 MB/s \n",
            "\u001b[?25hRequirement already satisfied: six>=1.5 in /usr/local/lib/python3.7/dist-packages (from python-dateutil<3.0.0,>=2.1->botocore<1.28.0,>=1.27.42->boto3->transformers==2.3.0) (1.15.0)\n",
            "  Downloading urllib3-1.25.11-py2.py3-none-any.whl (127 kB)\n",
            "\u001b[K     |████████████████████████████████| 127 kB 72.7 MB/s \n",
            "\u001b[?25hRequirement already satisfied: chardet<4,>=3.0.2 in /usr/local/lib/python3.7/dist-packages (from requests->transformers==2.3.0) (3.0.4)\n",
            "Requirement already satisfied: certifi>=2017.4.17 in /usr/local/lib/python3.7/dist-packages (from requests->transformers==2.3.0) (2022.6.15)\n",
            "Requirement already satisfied: idna<3,>=2.5 in /usr/local/lib/python3.7/dist-packages (from requests->transformers==2.3.0) (2.10)\n",
            "Requirement already satisfied: click in /usr/local/lib/python3.7/dist-packages (from sacremoses->transformers==2.3.0) (7.1.2)\n",
            "Requirement already satisfied: joblib in /usr/local/lib/python3.7/dist-packages (from sacremoses->transformers==2.3.0) (1.1.0)\n",
            "Building wheels for collected packages: transformers, sacremoses\n",
            "  Building wheel for transformers (setup.py) ... \u001b[?25l\u001b[?25hdone\n",
            "  Created wheel for transformers: filename=transformers-2.3.0-py3-none-any.whl size=458565 sha256=33b5e61d599a0841a909bacd8cbba53545e00e9a02fef2a64b351ebc0dabe397\n",
            "  Stored in directory: /tmp/pip-ephem-wheel-cache-prfga0wj/wheels/49/62/f4/6730819eed4e6468662b1519bf3bf46419b2335990c77f8767\n",
            "  Building wheel for sacremoses (setup.py) ... \u001b[?25l\u001b[?25hdone\n",
            "  Created wheel for sacremoses: filename=sacremoses-0.0.53-py3-none-any.whl size=895260 sha256=b0214fd20d1eb46570879c90f1ed4de56ca9e13432fe4bf017d939f429ff1642\n",
            "  Stored in directory: /root/.cache/pip/wheels/87/39/dd/a83eeef36d0bf98e7a4d1933a4ad2d660295a40613079bafc9\n",
            "Successfully built transformers sacremoses\n",
            "Installing collected packages: urllib3, jmespath, botocore, s3transfer, tokenizers, sentencepiece, sacremoses, boto3, transformers\n",
            "  Attempting uninstall: urllib3\n",
            "    Found existing installation: urllib3 1.24.3\n",
            "    Uninstalling urllib3-1.24.3:\n",
            "      Successfully uninstalled urllib3-1.24.3\n",
            "\u001b[31mERROR: pip's dependency resolver does not currently take into account all the packages that are installed. This behaviour is the source of the following dependency conflicts.\n",
            "datascience 0.10.6 requires folium==0.2.1, but you have folium 0.8.3 which is incompatible.\u001b[0m\n",
            "Successfully installed boto3-1.24.42 botocore-1.27.42 jmespath-1.0.1 s3transfer-0.6.0 sacremoses-0.0.53 sentencepiece-0.1.96 tokenizers-0.0.11 transformers-2.3.0 urllib3-1.25.11\n",
            "Looking in indexes: https://pypi.org/simple, https://us-python.pkg.dev/colab-wheels/public/simple/\n",
            "Collecting tensorboardX\n",
            "  Downloading tensorboardX-2.5.1-py2.py3-none-any.whl (125 kB)\n",
            "\u001b[K     |████████████████████████████████| 125 kB 5.1 MB/s \n",
            "\u001b[?25hRequirement already satisfied: protobuf<=3.20.1,>=3.8.0 in /usr/local/lib/python3.7/dist-packages (from tensorboardX) (3.17.3)\n",
            "Requirement already satisfied: numpy in /usr/local/lib/python3.7/dist-packages (from tensorboardX) (1.21.6)\n",
            "Requirement already satisfied: six>=1.9 in /usr/local/lib/python3.7/dist-packages (from protobuf<=3.20.1,>=3.8.0->tensorboardX) (1.15.0)\n",
            "Installing collected packages: tensorboardX\n",
            "Successfully installed tensorboardX-2.5.1\n"
          ]
        }
      ]
    },
    {
      "cell_type": "markdown",
      "metadata": {
        "id": "UHCuzhPptH0M"
      },
      "source": [
        "## 2.0 Train Model\n",
        "\n",
        "Now, we could definitely train our own model (and you can see how to do that in the other linked jupyter notebook), but it would take a really long time, and because of this hugging face lets us borrow a pretrained albert model which was already trained on the SQuAD dataset.\n",
        "\n",
        "The tutorial lets us know that it takes about 1.5 hours per epoch to train ALBERT on SQuAD because the dataset is so large.\n",
        "\n"
      ]
    },
    {
      "cell_type": "markdown",
      "metadata": {
        "id": "-JCNRkQwUD56"
      },
      "source": [
        "## 3.0 Setup prediction code\n",
        "\n",
        "Now we can use the Hugging Face library to make predictions using our newly trained model. Note that a lot of the code is pulled from `run_squad.py` in the Hugging Face repository, with all the training parts removed. This modified code allows to run predictions we pass in directly as strings, rather .json format like the training/test set.\n",
        "\n",
        "NOTE if you decided train your own mode, change the flag `use_own_model` to `True`\n"
      ]
    },
    {
      "cell_type": "code",
      "metadata": {
        "id": "qp0Pq9z9Y4S0",
        "cellView": "code",
        "colab": {
          "base_uri": "https://localhost:8080/",
          "height": 113,
          "referenced_widgets": [
            "9177d35360524c3092ff9b6cfbc863c4",
            "d6b746dec3c347e8ab0d4d00c717125a",
            "a54c41213f684f998c7b5d035fdb8502",
            "2be78983d334413ea04a37457aeb71a5",
            "514f51de82c24499bf677707b6261d54",
            "a385d2b61afa4337a6e2108ab205ce99",
            "97681519aaea4bbebe7c21c1cfd624d0",
            "80a6908a5b6c4020bf100f2aa4608c9b",
            "74747a42e72142958bf97de428950d63",
            "e0fe7d33f6864182bf56d0a450ed776c",
            "4b7c96186c6e4cde9937004a04f8d06e",
            "e48e4787755445c0b5e7b7da9d3e5f07",
            "5a52d7105da6499886fdde9400854734",
            "e599e990dcff43c394d34bc0c5cf4f2a",
            "f15eb4b74d5a490bacb0b5fbf501845f",
            "925f8238985a497795cda2a7657d7980",
            "0c84c73f905d49aea291ab4e99a62d86",
            "b3e6d90279b84852a4b8d2c0758d6557",
            "e7bfee9b89d44a99b86dfc46fbb596b2",
            "b3639b19c61745fcbc003b7a88162b01",
            "dc18647a113c453695d2d4dd85909d24",
            "8b528f6b976d41b4a0ad3f100462fdf7",
            "e89120912b634ecb96eea13527cf2b6b",
            "67b2c62f6a0c421daf867e35b9773809",
            "7b5a498b2ddd405cb85cfa40e44ba940",
            "0b02fb4ab8eb4ce1888ddcd14356c245",
            "5d0e897b8a6d4283aa177140a93c5879",
            "855f80326698449985e099574afa33c8",
            "e6d268a6f1534e8798ec7a7ab44166e5",
            "fc69aa694b6d453a85db0e46b18d4fc9",
            "6b760b49bea449ee97beca4ac7c10f28",
            "e30b843afc484025a04d2dde0bb969af",
            "e51d4694ec984ed0b1193534b7ca0850"
          ]
        },
        "outputId": "9a2adde7-47ee-431b-f5d3-9667c2211386"
      },
      "source": [
        "import os\n",
        "import torch\n",
        "import time\n",
        "from torch.utils.data import DataLoader, RandomSampler, SequentialSampler\n",
        "\n",
        "from transformers import (\n",
        "    AlbertConfig,\n",
        "    AlbertForQuestionAnswering,\n",
        "    AlbertTokenizer,\n",
        "    squad_convert_examples_to_features\n",
        ")\n",
        "\n",
        "from transformers.data.processors.squad import SquadResult, SquadV2Processor, SquadExample\n",
        "\n",
        "from transformers.data.metrics.squad_metrics import compute_predictions_logits\n",
        "\n",
        "# READER NOTE: Set this flag to use own model, or use pretrained model in the Hugging Face repository\n",
        "use_own_model = False\n",
        "\n",
        "if use_own_model:\n",
        "  model_name_or_path = \"/content/model_output\"\n",
        "else:\n",
        "  model_name_or_path = \"ktrapeznikov/albert-xlarge-v2-squad-v2\"\n",
        "\n",
        "output_dir = \"\"\n",
        "\n",
        "# Config\n",
        "n_best_size = 1\n",
        "max_answer_length = 30\n",
        "do_lower_case = True\n",
        "null_score_diff_threshold = 0.0\n",
        "\n",
        "def to_list(tensor):\n",
        "    return tensor.detach().cpu().tolist()\n",
        "\n",
        "# Setup model\n",
        "config_class, model_class, tokenizer_class = (\n",
        "    AlbertConfig, AlbertForQuestionAnswering, AlbertTokenizer)\n",
        "config = config_class.from_pretrained(model_name_or_path)\n",
        "tokenizer = tokenizer_class.from_pretrained(\n",
        "    model_name_or_path, do_lower_case=True)\n",
        "model = model_class.from_pretrained(model_name_or_path, config=config)\n",
        "\n",
        "device = torch.device(\"cuda\" if torch.cuda.is_available() else \"cpu\")\n",
        "\n",
        "model.to(device)\n",
        "\n",
        "processor = SquadV2Processor()\n",
        "\n",
        "def run_prediction(question_texts, context_text):\n",
        "    \"\"\"Setup function to compute predictions\"\"\"\n",
        "    examples = []\n",
        "\n",
        "    for i, question_text in enumerate(question_texts):\n",
        "        example = SquadExample(\n",
        "            qas_id=str(i),\n",
        "            question_text=question_text,\n",
        "            context_text=context_text,\n",
        "            answer_text=None,\n",
        "            start_position_character=None,\n",
        "            title=\"Predict\",\n",
        "            is_impossible=False,\n",
        "            answers=None,\n",
        "        )\n",
        "\n",
        "        examples.append(example)\n",
        "\n",
        "    features, dataset = squad_convert_examples_to_features(\n",
        "        examples=examples,\n",
        "        tokenizer=tokenizer,\n",
        "        max_seq_length=384,\n",
        "        doc_stride=128,\n",
        "        max_query_length=64,\n",
        "        is_training=False,\n",
        "        return_dataset=\"pt\",\n",
        "        threads=1,\n",
        "    )\n",
        "\n",
        "    eval_sampler = SequentialSampler(dataset)\n",
        "    eval_dataloader = DataLoader(dataset, sampler=eval_sampler, batch_size=10)\n",
        "\n",
        "    all_results = []\n",
        "\n",
        "    for batch in eval_dataloader:\n",
        "        model.eval()\n",
        "        batch = tuple(t.to(device) for t in batch)\n",
        "\n",
        "        with torch.no_grad():\n",
        "            inputs = {\n",
        "                \"input_ids\": batch[0],\n",
        "                \"attention_mask\": batch[1],\n",
        "                \"token_type_ids\": batch[2],\n",
        "            }\n",
        "\n",
        "            example_indices = batch[3]\n",
        "\n",
        "            outputs = model(**inputs)\n",
        "\n",
        "            for i, example_index in enumerate(example_indices):\n",
        "                eval_feature = features[example_index.item()]\n",
        "                unique_id = int(eval_feature.unique_id)\n",
        "\n",
        "                output = [to_list(output[i]) for output in outputs]\n",
        "\n",
        "                start_logits, end_logits = output\n",
        "                result = SquadResult(unique_id, start_logits, end_logits)\n",
        "                all_results.append(result)\n",
        "\n",
        "    output_prediction_file = \"predictions.json\"\n",
        "    output_nbest_file = \"nbest_predictions.json\"\n",
        "    output_null_log_odds_file = \"null_predictions.json\"\n",
        "\n",
        "    predictions = compute_predictions_logits(\n",
        "        examples,\n",
        "        features,\n",
        "        all_results,\n",
        "        n_best_size,\n",
        "        max_answer_length,\n",
        "        do_lower_case,\n",
        "        output_prediction_file,\n",
        "        output_nbest_file,\n",
        "        output_null_log_odds_file,\n",
        "        False,  # verbose_logging\n",
        "        True,  # version_2_with_negative\n",
        "        null_score_diff_threshold,\n",
        "        tokenizer,\n",
        "    )\n",
        "\n",
        "    return predictions"
      ],
      "execution_count": 4,
      "outputs": [
        {
          "output_type": "display_data",
          "data": {
            "text/plain": [
              "Downloading:   0%|          | 0.00/717 [00:00<?, ?B/s]"
            ],
            "application/vnd.jupyter.widget-view+json": {
              "version_major": 2,
              "version_minor": 0,
              "model_id": "9177d35360524c3092ff9b6cfbc863c4"
            }
          },
          "metadata": {}
        },
        {
          "output_type": "display_data",
          "data": {
            "text/plain": [
              "Downloading:   0%|          | 0.00/760k [00:00<?, ?B/s]"
            ],
            "application/vnd.jupyter.widget-view+json": {
              "version_major": 2,
              "version_minor": 0,
              "model_id": "e48e4787755445c0b5e7b7da9d3e5f07"
            }
          },
          "metadata": {}
        },
        {
          "output_type": "display_data",
          "data": {
            "text/plain": [
              "Downloading:   0%|          | 0.00/235M [00:00<?, ?B/s]"
            ],
            "application/vnd.jupyter.widget-view+json": {
              "version_major": 2,
              "version_minor": 0,
              "model_id": "e89120912b634ecb96eea13527cf2b6b"
            }
          },
          "metadata": {}
        }
      ]
    },
    {
      "cell_type": "markdown",
      "metadata": {
        "id": "nIQOB8vhpcKs"
      },
      "source": [
        "## 4.0 Run predictions on the Covid QA set\n",
        "\n",
        "Now for the fun part... testing out your model on different inputs. Pretty rudimentary example here. But the possibilities are endless with this function."
      ]
    },
    {
      "cell_type": "code",
      "source": [
        "import pandas as pd\n",
        "\n",
        "\n",
        "\n",
        "def read_test_set():\n",
        "    df = pd.read_json(\"Covid-QA-more-focused.json\")\n",
        "    return df['data']\n",
        "\n",
        "\n",
        "data = read_test_set()"
      ],
      "metadata": {
        "id": "LAcb5K9_hVaQ"
      },
      "execution_count": 6,
      "outputs": []
    },
    {
      "cell_type": "code",
      "source": [
        "## set up data\n",
        "import time\n",
        "import tensorflow as tf\n",
        "print(tf.test.gpu_device_name())\n",
        "\n",
        "num_right = 0 # giving credit for whenever it comes up with a subset of the string\n",
        "total = 0\n",
        "all_questions = []\n",
        "all_answers = []"
      ],
      "metadata": {
        "colab": {
          "base_uri": "https://localhost:8080/"
        },
        "id": "I50n0Tkz1Ley",
        "outputId": "6199ca30-1c9a-4885-8cab-5a1496d77b98"
      },
      "execution_count": 7,
      "outputs": [
        {
          "output_type": "stream",
          "name": "stdout",
          "text": [
            "/device:GPU:0\n"
          ]
        }
      ]
    },
    {
      "cell_type": "code",
      "metadata": {
        "id": "F-sUrcA5nXTH",
        "cellView": "code",
        "colab": {
          "base_uri": "https://localhost:8080/"
        },
        "outputId": "3a710c10-3980-493f-a428-a9ec29018888"
      },
      "source": [
        "\n",
        "\n",
        "for item in data:\n",
        "    start = time.time()\n",
        "\n",
        "    paragraph = item[\"paragraphs\"][0]\n",
        "    \n",
        "    questions_with_answers = paragraph[\"qas\"]\n",
        "    context = paragraph[\"context\"]\n",
        "    questions = []\n",
        "    answers = []\n",
        "\n",
        "    for qa in questions_with_answers:\n",
        "        questions.append(qa[\"question\"])\n",
        "        answers.append(qa[\"answers\"])\n",
        "\n",
        "    predictions = run_prediction(questions, context)\n",
        "    idx = 0\n",
        "    for key in predictions.keys():\n",
        "      pos_answers = answers[idx]\n",
        "      correct = False\n",
        "\n",
        "      all_questions = all_questions + questions\n",
        "      all_answers.append({'model_answer': predictions[key], 'valid_answers': pos_answers})\n",
        "      for answer in pos_answers:\n",
        "        answer_text = answer['text']\n",
        "        correct = correct or (predictions[key] in answer_text)\n",
        "      if correct:\n",
        "        num_right += 1\n",
        "      end = time.time()\n",
        "\n",
        "      total += 1\n",
        "      idx += 1\n",
        "    end = time.time()\n",
        "    print(end - start)\n",
        "\n"
      ],
      "execution_count": 9,
      "outputs": [
        {
          "output_type": "stream",
          "name": "stderr",
          "text": [
            "convert squad examples to features: 100%|██████████| 10/10 [00:02<00:00,  3.93it/s]\n",
            "add example index and unique id: 100%|██████████| 10/10 [00:00<00:00, 21410.43it/s]\n"
          ]
        },
        {
          "output_type": "stream",
          "name": "stdout",
          "text": [
            "52.12120294570923\n"
          ]
        },
        {
          "output_type": "stream",
          "name": "stderr",
          "text": [
            "convert squad examples to features: 100%|██████████| 2/2 [00:00<00:00,  2.76it/s]\n",
            "add example index and unique id: 100%|██████████| 2/2 [00:00<00:00, 1055.83it/s]\n"
          ]
        },
        {
          "output_type": "stream",
          "name": "stdout",
          "text": [
            "12.735795736312866\n"
          ]
        },
        {
          "output_type": "stream",
          "name": "stderr",
          "text": [
            "convert squad examples to features: 100%|██████████| 1/1 [00:00<00:00,  4.66it/s]\n",
            "add example index and unique id: 100%|██████████| 1/1 [00:00<00:00, 7626.01it/s]\n"
          ]
        },
        {
          "output_type": "stream",
          "name": "stdout",
          "text": [
            "4.230836391448975\n"
          ]
        },
        {
          "output_type": "stream",
          "name": "stderr",
          "text": [
            "convert squad examples to features: 100%|██████████| 10/10 [00:03<00:00,  2.64it/s]\n",
            "add example index and unique id: 100%|██████████| 10/10 [00:00<00:00, 24951.24it/s]\n"
          ]
        },
        {
          "output_type": "stream",
          "name": "stdout",
          "text": [
            "53.696903467178345\n"
          ]
        },
        {
          "output_type": "stream",
          "name": "stderr",
          "text": [
            "convert squad examples to features: 100%|██████████| 8/8 [00:02<00:00,  3.76it/s]\n",
            "add example index and unique id: 100%|██████████| 8/8 [00:00<00:00, 14652.59it/s]\n"
          ]
        },
        {
          "output_type": "stream",
          "name": "stdout",
          "text": [
            "34.55589818954468\n"
          ]
        },
        {
          "output_type": "stream",
          "name": "stderr",
          "text": [
            "convert squad examples to features: 100%|██████████| 5/5 [00:02<00:00,  2.41it/s]\n",
            "add example index and unique id: 100%|██████████| 5/5 [00:00<00:00, 17697.49it/s]\n"
          ]
        },
        {
          "output_type": "stream",
          "name": "stdout",
          "text": [
            "28.432097673416138\n"
          ]
        },
        {
          "output_type": "stream",
          "name": "stderr",
          "text": [
            "convert squad examples to features: 100%|██████████| 4/4 [00:00<00:00, 23.11it/s]\n",
            "add example index and unique id: 100%|██████████| 4/4 [00:00<00:00, 2473.42it/s]\n"
          ]
        },
        {
          "output_type": "stream",
          "name": "stdout",
          "text": [
            "4.026052713394165\n"
          ]
        },
        {
          "output_type": "stream",
          "name": "stderr",
          "text": [
            "convert squad examples to features: 100%|██████████| 11/11 [00:02<00:00,  4.20it/s]\n",
            "add example index and unique id: 100%|██████████| 11/11 [00:00<00:00, 26576.81it/s]\n"
          ]
        },
        {
          "output_type": "stream",
          "name": "stdout",
          "text": [
            "41.367307901382446\n"
          ]
        },
        {
          "output_type": "stream",
          "name": "stderr",
          "text": [
            "convert squad examples to features: 100%|██████████| 8/8 [00:03<00:00,  2.65it/s]\n",
            "add example index and unique id: 100%|██████████| 8/8 [00:00<00:00, 18186.68it/s]\n"
          ]
        },
        {
          "output_type": "stream",
          "name": "stdout",
          "text": [
            "53.67663931846619\n"
          ]
        },
        {
          "output_type": "stream",
          "name": "stderr",
          "text": [
            "convert squad examples to features: 100%|██████████| 5/5 [00:00<00:00,  5.98it/s]\n",
            "add example index and unique id: 100%|██████████| 5/5 [00:00<00:00, 2560.00it/s]\n"
          ]
        },
        {
          "output_type": "stream",
          "name": "stdout",
          "text": [
            "18.4144184589386\n"
          ]
        },
        {
          "output_type": "stream",
          "name": "stderr",
          "text": [
            "convert squad examples to features: 100%|██████████| 29/29 [00:08<00:00,  3.59it/s]\n",
            "add example index and unique id: 100%|██████████| 29/29 [00:00<00:00, 21302.07it/s]\n"
          ]
        },
        {
          "output_type": "stream",
          "name": "stdout",
          "text": [
            "152.33168077468872\n"
          ]
        },
        {
          "output_type": "stream",
          "name": "stderr",
          "text": [
            "convert squad examples to features: 100%|██████████| 4/4 [00:00<00:00, 19.32it/s]\n",
            "add example index and unique id: 100%|██████████| 4/4 [00:00<00:00, 32140.26it/s]\n"
          ]
        },
        {
          "output_type": "stream",
          "name": "stdout",
          "text": [
            "5.246546268463135\n"
          ]
        },
        {
          "output_type": "stream",
          "name": "stderr",
          "text": [
            "convert squad examples to features: 100%|██████████| 1/1 [00:00<00:00, 11.00it/s]\n",
            "add example index and unique id: 100%|██████████| 1/1 [00:00<00:00, 8683.86it/s]\n"
          ]
        },
        {
          "output_type": "stream",
          "name": "stdout",
          "text": [
            "2.1818442344665527\n"
          ]
        },
        {
          "output_type": "stream",
          "name": "stderr",
          "text": [
            "convert squad examples to features: 100%|██████████| 27/27 [00:02<00:00, 12.91it/s]\n",
            "add example index and unique id: 100%|██████████| 27/27 [00:00<00:00, 53342.54it/s]\n"
          ]
        },
        {
          "output_type": "stream",
          "name": "stdout",
          "text": [
            "52.98837065696716\n"
          ]
        },
        {
          "output_type": "stream",
          "name": "stderr",
          "text": [
            "convert squad examples to features: 100%|██████████| 20/20 [00:04<00:00,  4.77it/s]\n",
            "add example index and unique id: 100%|██████████| 20/20 [00:00<00:00, 8609.88it/s]\n"
          ]
        },
        {
          "output_type": "stream",
          "name": "stdout",
          "text": [
            "79.56466293334961\n"
          ]
        },
        {
          "output_type": "stream",
          "name": "stderr",
          "text": [
            "convert squad examples to features: 100%|██████████| 1/1 [00:00<00:00, 22.94it/s]\n",
            "add example index and unique id: 100%|██████████| 1/1 [00:00<00:00, 7410.43it/s]\n"
          ]
        },
        {
          "output_type": "stream",
          "name": "stdout",
          "text": [
            "1.0180625915527344\n"
          ]
        },
        {
          "output_type": "stream",
          "name": "stderr",
          "text": [
            "convert squad examples to features: 100%|██████████| 30/30 [00:05<00:00,  5.34it/s]\n",
            "add example index and unique id: 100%|██████████| 30/30 [00:00<00:00, 37304.81it/s]\n"
          ]
        },
        {
          "output_type": "stream",
          "name": "stdout",
          "text": [
            "114.5305449962616\n"
          ]
        },
        {
          "output_type": "stream",
          "name": "stderr",
          "text": [
            "convert squad examples to features: 100%|██████████| 59/59 [00:34<00:00,  1.70it/s]\n",
            "add example index and unique id: 100%|██████████| 59/59 [00:00<00:00, 15412.55it/s]\n"
          ]
        },
        {
          "output_type": "stream",
          "name": "stdout",
          "text": [
            "541.6185290813446\n"
          ]
        },
        {
          "output_type": "stream",
          "name": "stderr",
          "text": [
            "convert squad examples to features: 100%|██████████| 15/15 [00:06<00:00,  2.24it/s]\n",
            "add example index and unique id: 100%|██████████| 15/15 [00:00<00:00, 14990.36it/s]\n"
          ]
        },
        {
          "output_type": "stream",
          "name": "stdout",
          "text": [
            "117.6121084690094\n"
          ]
        },
        {
          "output_type": "stream",
          "name": "stderr",
          "text": [
            "convert squad examples to features: 100%|██████████| 13/13 [00:01<00:00,  7.07it/s]\n",
            "add example index and unique id: 100%|██████████| 13/13 [00:00<00:00, 43412.38it/s]\n"
          ]
        },
        {
          "output_type": "stream",
          "name": "stdout",
          "text": [
            "38.67959523200989\n"
          ]
        },
        {
          "output_type": "stream",
          "name": "stderr",
          "text": [
            "convert squad examples to features: 100%|██████████| 5/5 [00:01<00:00,  4.77it/s]\n",
            "add example index and unique id: 100%|██████████| 5/5 [00:00<00:00, 20929.66it/s]\n"
          ]
        },
        {
          "output_type": "stream",
          "name": "stdout",
          "text": [
            "21.317248106002808\n"
          ]
        },
        {
          "output_type": "stream",
          "name": "stderr",
          "text": [
            "convert squad examples to features: 100%|██████████| 119/119 [03:39<00:00,  1.85s/it]\n",
            "add example index and unique id: 100%|██████████| 119/119 [00:00<00:00, 9676.85it/s]\n"
          ]
        },
        {
          "output_type": "stream",
          "name": "stdout",
          "text": [
            "2281.3009123802185\n"
          ]
        },
        {
          "output_type": "stream",
          "name": "stderr",
          "text": [
            "convert squad examples to features: 100%|██████████| 23/23 [00:09<00:00,  2.37it/s]\n",
            "add example index and unique id: 100%|██████████| 23/23 [00:00<00:00, 16389.57it/s]\n"
          ]
        },
        {
          "output_type": "stream",
          "name": "stdout",
          "text": [
            "164.37919783592224\n"
          ]
        },
        {
          "output_type": "stream",
          "name": "stderr",
          "text": [
            "convert squad examples to features: 100%|██████████| 1/1 [00:00<00:00, 16.63it/s]\n",
            "add example index and unique id: 100%|██████████| 1/1 [00:00<00:00, 7639.90it/s]\n"
          ]
        },
        {
          "output_type": "stream",
          "name": "stdout",
          "text": [
            "1.3857810497283936\n"
          ]
        },
        {
          "output_type": "stream",
          "name": "stderr",
          "text": [
            "convert squad examples to features: 100%|██████████| 10/10 [00:01<00:00,  6.41it/s]\n",
            "add example index and unique id: 100%|██████████| 10/10 [00:00<00:00, 27503.63it/s]\n"
          ]
        },
        {
          "output_type": "stream",
          "name": "stdout",
          "text": [
            "32.598684787750244\n"
          ]
        },
        {
          "output_type": "stream",
          "name": "stderr",
          "text": [
            "convert squad examples to features: 100%|██████████| 1/1 [00:01<00:00,  1.15s/it]\n",
            "add example index and unique id: 100%|██████████| 1/1 [00:00<00:00, 4815.50it/s]\n"
          ]
        },
        {
          "output_type": "stream",
          "name": "stdout",
          "text": [
            "14.28653359413147\n"
          ]
        },
        {
          "output_type": "stream",
          "name": "stderr",
          "text": [
            "convert squad examples to features: 100%|██████████| 24/24 [00:06<00:00,  3.95it/s]\n",
            "add example index and unique id: 100%|██████████| 24/24 [00:00<00:00, 5902.27it/s]\n"
          ]
        },
        {
          "output_type": "stream",
          "name": "stdout",
          "text": [
            "115.9302773475647\n"
          ]
        },
        {
          "output_type": "stream",
          "name": "stderr",
          "text": [
            "convert squad examples to features: 100%|██████████| 2/2 [00:01<00:00,  1.13it/s]\n",
            "add example index and unique id: 100%|██████████| 2/2 [00:00<00:00, 3205.43it/s]\n"
          ]
        },
        {
          "output_type": "stream",
          "name": "stdout",
          "text": [
            "23.40462613105774\n"
          ]
        },
        {
          "output_type": "stream",
          "name": "stderr",
          "text": [
            "convert squad examples to features: 100%|██████████| 9/9 [00:00<00:00, 13.13it/s]\n",
            "add example index and unique id: 100%|██████████| 9/9 [00:00<00:00, 44098.99it/s]\n"
          ]
        },
        {
          "output_type": "stream",
          "name": "stdout",
          "text": [
            "15.441555738449097\n"
          ]
        },
        {
          "output_type": "stream",
          "name": "stderr",
          "text": [
            "convert squad examples to features: 100%|██████████| 3/3 [00:00<00:00, 13.06it/s]\n",
            "add example index and unique id: 100%|██████████| 3/3 [00:00<00:00, 17050.02it/s]\n"
          ]
        },
        {
          "output_type": "stream",
          "name": "stdout",
          "text": [
            "5.295467376708984\n"
          ]
        },
        {
          "output_type": "stream",
          "name": "stderr",
          "text": [
            "convert squad examples to features: 100%|██████████| 21/21 [00:02<00:00,  7.01it/s]\n",
            "add example index and unique id: 100%|██████████| 21/21 [00:00<00:00, 13546.66it/s]\n"
          ]
        },
        {
          "output_type": "stream",
          "name": "stdout",
          "text": [
            "62.579501152038574\n"
          ]
        },
        {
          "output_type": "stream",
          "name": "stderr",
          "text": [
            "convert squad examples to features: 100%|██████████| 125/125 [01:18<00:00,  1.60it/s]\n",
            "add example index and unique id: 100%|██████████| 125/125 [00:00<00:00, 17230.45it/s]\n"
          ]
        },
        {
          "output_type": "stream",
          "name": "stdout",
          "text": [
            "1204.1030778884888\n"
          ]
        },
        {
          "output_type": "stream",
          "name": "stderr",
          "text": [
            "convert squad examples to features: 100%|██████████| 56/56 [01:32<00:00,  1.66s/it]\n",
            "add example index and unique id: 100%|██████████| 56/56 [00:00<00:00, 9338.83it/s]\n"
          ]
        },
        {
          "output_type": "stream",
          "name": "stdout",
          "text": [
            "1024.9850707054138\n"
          ]
        },
        {
          "output_type": "stream",
          "name": "stderr",
          "text": [
            "convert squad examples to features: 100%|██████████| 6/6 [00:00<00:00,  7.75it/s]\n",
            "add example index and unique id: 100%|██████████| 6/6 [00:00<00:00, 25997.75it/s]\n"
          ]
        },
        {
          "output_type": "stream",
          "name": "stdout",
          "text": [
            "17.063916206359863\n"
          ]
        },
        {
          "output_type": "stream",
          "name": "stderr",
          "text": [
            "convert squad examples to features: 100%|██████████| 53/53 [00:08<00:00,  5.92it/s]\n",
            "add example index and unique id: 100%|██████████| 53/53 [00:00<00:00, 27902.36it/s]\n"
          ]
        },
        {
          "output_type": "stream",
          "name": "stdout",
          "text": [
            "187.31430292129517\n"
          ]
        },
        {
          "output_type": "stream",
          "name": "stderr",
          "text": [
            "convert squad examples to features: 100%|██████████| 16/16 [00:03<00:00,  5.21it/s]\n",
            "add example index and unique id: 100%|██████████| 16/16 [00:00<00:00, 38173.42it/s]\n"
          ]
        },
        {
          "output_type": "stream",
          "name": "stdout",
          "text": [
            "61.9660210609436\n"
          ]
        },
        {
          "output_type": "stream",
          "name": "stderr",
          "text": [
            "convert squad examples to features: 100%|██████████| 46/46 [00:09<00:00,  4.76it/s]\n",
            "add example index and unique id: 100%|██████████| 46/46 [00:00<00:00, 29264.07it/s]\n"
          ]
        },
        {
          "output_type": "stream",
          "name": "stdout",
          "text": [
            "207.5037066936493\n"
          ]
        },
        {
          "output_type": "stream",
          "name": "stderr",
          "text": [
            "convert squad examples to features: 100%|██████████| 1/1 [00:01<00:00,  1.16s/it]\n",
            "add example index and unique id: 100%|██████████| 1/1 [00:00<00:00, 5652.70it/s]\n"
          ]
        },
        {
          "output_type": "stream",
          "name": "stdout",
          "text": [
            "14.247175216674805\n"
          ]
        },
        {
          "output_type": "stream",
          "name": "stderr",
          "text": [
            "convert squad examples to features: 100%|██████████| 2/2 [00:00<00:00, 43.55it/s]\n",
            "add example index and unique id: 100%|██████████| 2/2 [00:00<00:00, 17886.16it/s]\n"
          ]
        },
        {
          "output_type": "stream",
          "name": "stdout",
          "text": [
            "1.3172776699066162\n"
          ]
        },
        {
          "output_type": "stream",
          "name": "stderr",
          "text": [
            "convert squad examples to features: 100%|██████████| 2/2 [00:00<00:00,  9.61it/s]\n",
            "add example index and unique id: 100%|██████████| 2/2 [00:00<00:00, 14051.27it/s]\n"
          ]
        },
        {
          "output_type": "stream",
          "name": "stdout",
          "text": [
            "5.013554811477661\n"
          ]
        },
        {
          "output_type": "stream",
          "name": "stderr",
          "text": [
            "convert squad examples to features: 100%|██████████| 14/14 [00:03<00:00,  4.49it/s]\n",
            "add example index and unique id: 100%|██████████| 14/14 [00:00<00:00, 16686.63it/s]\n"
          ]
        },
        {
          "output_type": "stream",
          "name": "stdout",
          "text": [
            "59.816760540008545\n"
          ]
        },
        {
          "output_type": "stream",
          "name": "stderr",
          "text": [
            "convert squad examples to features: 100%|██████████| 26/26 [00:01<00:00, 21.21it/s]\n",
            "add example index and unique id: 100%|██████████| 26/26 [00:00<00:00, 65693.92it/s]\n"
          ]
        },
        {
          "output_type": "stream",
          "name": "stdout",
          "text": [
            "29.45531964302063\n"
          ]
        }
      ]
    },
    {
      "cell_type": "code",
      "source": [
        "import json\n",
        "\n",
        "print(\"num-right:\", num_right)\n",
        "print(\"total:\", total)\n",
        "# print(all_questions)\n",
        "# print(all_answers)\n",
        "with open(\"answers.json\", \"w\") as f:\n",
        "    json.dump(all_answers, f)\n",
        "\n",
        "with open(\"questions.json\", \"w\") as g:\n",
        "    json.dump(all_questions, g)"
      ],
      "metadata": {
        "colab": {
          "base_uri": "https://localhost:8080/"
        },
        "id": "16cD8mbb173f",
        "outputId": "d5e88456-5996-478b-d522-8053845e26d0"
      },
      "execution_count": 15,
      "outputs": [
        {
          "output_type": "stream",
          "name": "stdout",
          "text": [
            "num-right: 573\n",
            "total: 828\n"
          ]
        }
      ]
    },
    {
      "cell_type": "markdown",
      "source": [
        "## 5.0 So How does it Perform for questions using the CDCs covid advice website?"
      ],
      "metadata": {
        "id": "Y1C_EjEWnExZ"
      }
    },
    {
      "cell_type": "code",
      "source": [
        "cdc_guidance = \"IF YOU Were exposed to COVID-19 and are NOT up to date on COVID-19 vaccinations Quarantine for at least 5 days Stay home Stay home and quarantine for at least 5 full days. Wear a well-fitting mask if you must be around others in your home. Do not travel. Get tested Even if you don’t develop symptoms, get tested at least 5 days after you last had close contact with someone with COVID-19. After quarantine Watch for symptoms Watch for symptoms until 10 days after you last had close contact with someone with COVID-19. Avoid travel It is best to avoid travel until a full 10 days after you last had close contact with someone with COVID-19. If you develop symptoms Isolate immediately and get tested. Continue to stay home until you know the results. Wear a well-fitting mask around others. Take precautions until day 10 Wear a well-fitting mask Wear a well-fitting mask for 10 full days any time you are around others inside your home or in public. Do not go to places where you are unable to wear a well-fitting mask. If you must travel during days 6-10, take precautions. Avoid being around people who are more likely to get very sick from COVID-19. IF YOU Were exposed to COVID-19 and are up to date on COVID-19 vaccinations No quarantine You do not need to stay home unless you develop symptoms. Get tested Even if you don’t develop symptoms, get tested at least 5 days after you last had close contact with someone with COVID-19. Watch for symptoms Watch for symptoms until 10 days after you last had close contact with someone with COVID-19. If you develop symptoms Isolate immediately and get tested. Continue to stay home until you know the results. Wear a well-fitting mask around others. Take precautions until day 10 Wear a well-fitting mask Wear a well-fitting mask for 10 full days any time you are around others inside your home or in public. Do not go to places where you are unable to wear a well-fitting mask. Take precautions if traveling Avoid being around people who are more likely to get very sick from COVID-19. IF YOU were exposed to COVID-19 and had confirmed COVID-19 within the past 90 days (you tested positive using a viral test) No quarantine You do not need to stay home unless you develop symptoms. Watch for symptoms Watch for symptoms until 10 days after you last had close contact with someone with COVID-19.  If you develop symptoms Isolate immediately and get tested. Continue to stay home until you know the results. Wear a well-fitting mask around others. Take precautions until day 10 Wear a well-fitting mask Wear a well-fitting mask for 10 full days any time you are around others inside your home or in public. Do not go to places where you are unable to wear a well-fitting mask. Take precautions if traveling Avoid being around people who are more likely to get very sick from COVID-19. Calculating Isolation Day 0 is your first day of symptoms or a positive viral test. Day 1 is the first full day after your symptoms developed or your test specimen was collected. If you have COVID-19 or have symptoms, isolate for at least 5 days. IF YOU Tested positive for COVID-19 or have symptoms, regardless of vaccination status Stay home for at least 5 days Stay home for 5 days and isolate from others in your home. Wear a well-fitting mask if you must be around others in your home. Do not travel. Ending isolation if you had symptoms End isolation after 5 full days if you are fever-free for 24 hours (without the use of fever-reducing medication) and your symptoms are improving. Ending isolation if you did NOT have symptoms End isolation after at least 5 full days after your positive test. If you got very sick from COVID-19 or have a weakened immune system You should isolate for at least 10 days. Consult your doctor before ending isolation. Take precautions until day 10 Wear a well-fitting mask  Wear a well-fitting mask for 10 full days any time you are around others inside your home or in public. Do not go to places where you are unable to wear a mask. Do not travel Do not travel until a full 10 days after your symptoms started or the date your positive test was taken if you had no symptoms. Avoid being around people who are more likely to get very sick from COVID-19.  DEFINITIONS Exposure Contact with someone infected with SARS-CoV-2, the virus that causes COVID-19, in a way that increases the likelihood of getting infected with the virus. Close Contact A close contact is someone who was less than 6 feet away from an infected person (laboratory-confirmed or a clinical diagnosis) for a cumulative total of 15 minutes or more over a 24-hour period. For example, three individual 5-minute exposures for a total of 15 minutes. People who are exposed to someone with COVID-19 after they completed at least 5 days of isolation are not considered close contacts. Quarantine Quarantine is a strategy used to prevent transmission of COVID-19 by keeping people who have been in close contact with someone with COVID-19 apart from others. Who does not need to quarantine? If you had close contact with someone with COVID-19 and you are in one of the following groups, you do not need to quarantine. You are up to date with your COVID-19 vaccines. You had confirmed COVID-19 within the last 90 days (meaning you tested positive using a viral test). If you are up to date with COVID-19 vaccines, you should wear a well-fitting mask around others for 10 days from the date of your last close contact with someone with COVID-19 (the date of last close contact is considered day 0). Get tested at least 5 days after you last had close contact with someone with COVID-19. If you test positive or develop COVID-19 symptoms, isolate from other people and follow recommendations in the Isolation section below. If you tested positive for COVID-19 with a viral test within the previous 90 days and subsequently recovered and remain without COVID-19 symptoms, you do not need to quarantine or get tested after close contact. You should wear a well-fitting mask around others for 10 days from the date of your last close contact with someone with COVID-19 (the date of last close contact is considered day 0). If you have COVID-19 symptoms, get tested and isolate from other people and follow recommendations in the Isolation section below. Who should quarantine? If you come into close contact with someone with COVID-19, you should quarantine if you are not up to date on COVID-19 vaccines. This includes people who are not vaccinated. What to do for quarantine Stay home and away from other people for at least 5 days (day 0 through day 5) after your last contact with a person who has COVID-19. The date of your exposure is considered day 0. Wear a well-fitting mask when around others at home, if possible. For 10 days after your last close contact with someone with COVID-19, watch for fever (100.4◦F or greater), cough, shortness of breath, or other COVID-19 symptoms. If you develop symptoms, get tested immediately and isolate until you receive your test results. If you test positive, follow isolation recommendations. If you do not develop symptoms, get tested at least 5 days after you last had close contact with someone with COVID-19. If you test negative, you can leave your home, but continue to wear a well-fitting mask when around others at home and in public until 10 days after your last close contact with someone with COVID-19. If you test positive, you should isolate for at least 5 days from the date of your positive test (if you do not have symptoms). If you do develop COVID-19 symptoms, isolate for at least 5 days from the date your symptoms began (the date the symptoms started is day 0). Follow recommendations in the isolation section below. If you are unable to get a test 5 days after last close contact with someone with COVID-19, you can leave your home after day 5 if you have been without COVID-19 symptoms throughout the 5-day period. Wear a well-fitting mask for 10 days after your date of last close contact when around others at home and in public. Avoid people who are have weakened immune systems or are more likely to get very sick from COVID-19, and nursing homes and other high-risk settings, until after at least 10 days. If possible, stay away from people you live with, especially people who are at higher risk for getting very sick from COVID-19, as well as others outside your home throughout the full 10 days after your last close contact with someone with COVID-19. If you are unable to quarantine, you should wear a well-fitting mask for 10 days when around others at home and in public. If you are unable to wear a mask when around others, you should continue to quarantine for 10 days. Avoid people who have weakened immune systems or are more likely to get very sick from COVID-19, and nursing homes and other high-risk settings, until after at least 10 days. See additional information about travel. Do not go to places where you are unable to wear a mask, such as restaurants and some gyms, and avoid eating around others at home and at work until after 10 days after your last close contact with someone with COVID-19. After quarantine Watch for symptoms until 10 days after your last close contact with someone with COVID-19. If you have symptoms, isolate immediately and get tested. Quarantine in high-risk congregate settings In certain congregate settings that have high risk of secondary transmission (such as correctional and detention facilities, homeless shelters, or cruise ships), CDC recommends a 10-day quarantine for residents, regardless of vaccination and booster status. During periods of critical staffing shortages, facilities may consider shortening the quarantine period for staff to ensure continuity of operations. Decisions to shorten quarantine in these settings should be made in consultation with state, local, tribal, or territorial health departments and should take into consideration the context and characteristics of the facility. CDC’s setting-specific guidance provides additional recommendations for these settings. Isolation Isolation is used to separate people with confirmed or suspected COVID-19 from those without COVID-19. People who are in isolation should stay home until it’s safe for them to be around others. At home, anyone sick or infected should separate from others, or wear a well-fitting mask when they need to be around others. People in isolation should stay in a specific “sick room” or area and use a separate bathroom if available. Everyone who has presumed or confirmed COVID-19 should stay home and isolate from other people for at least 5 full days (day 0 is the first day of symptoms or the date of the day of the positive viral test for asymptomatic persons). They should wear a mask when around others at home and in public for an additional 5 days. People who are confirmed to have COVID-19 or are showing symptoms of COVID-19 need to isolate regardless of their vaccination status. This includes: People who have a positive viral test for COVID-19, regardless of whether or not they have symptoms. People with symptoms of COVID-19, including people who are awaiting test results or have not been tested. People with symptoms should isolate even if they do not know if they have been in close contact with someone with COVID-19. What to do for isolation Monitor your symptoms. If you have an emergency warning sign (including trouble breathing), seek emergency medical care immediately. Stay in a separate room from other household members, if possible. Use a separate bathroom, if possible. Take steps to improve ventilation at home, if possible. Avoid contact with other members of the household and pets. Don’t share personal household items, like cups, towels, and utensils. Wear a well-fitting mask when you need to be around other people. Learn more about what to do if you are sick and how to notify your contacts. Top of Page Ending isolation for people who had COVID-19 and had symptoms If you had COVID-19 and had symptoms, isolate for at least 5 days. To calculate your 5-day isolation period, day 0 is your first day of symptoms. Day 1 is the first full day after your symptoms developed. You can leave isolation after 5 full days. You can end isolation after 5 full days if you are fever-free for 24 hours without the use of fever-reducing medication and your other symptoms have improved (Loss of taste and smell may persist for weeks or months after recovery and need not delay the end of isolation ). You should continue to wear a well-fitting mask around others at home and in public for 5 additional days (day 6 through day 10) after the end of your 5-day isolation period. If you are unable to wear a mask when around others, you should continue to isolate for a full 10 days. Avoid people who have weakened immune systems or are more likely to get very sick from COVID-19, and nursing homes and other high-risk settings, until after at least 10 days. If you continue to have fever or your other symptoms have not improved after 5 days of isolation, you should wait to end your isolation until you are fever-free for 24 hours without the use of fever-reducing medication and your other symptoms have improved. Continue to wear a well-fitting mask through day 10. Contact your healthcare provider if you have questions. See additional information about travel. Do not go to places where you are unable to wear a mask, such as restaurants and some gyms, and avoid eating around others at home and at work until a full 10 days after your first day of symptoms. If an individual has access to a test and wants to test, the best approach is to use an antigen test1 towards the end of the 5-day isolation period. Collect the test sample only if you are fever-free for 24 hours without the use of fever-reducing medication and your other symptoms have improved (loss of taste and smell may persist for weeks or months after recovery and need not delay the end of isolation). If your test result is positive, you should continue to isolate until day 10. If your test result is negative, you can end isolation, but continue to wear a well-fitting mask around others at home and in public until day 10. Follow additional recommendations for masking and avoiding travel as described above. 1As noted in the labeling for authorized over-the counter antigen tests:   Negative results should be treated as presumptive. Negative results do not rule out SARS-CoV-2 infection and should not be used as the sole basis for treatment or patient management decisions, including infection control decisions. To improve results, antigen tests should be used twice over a three-day period with at least 24 hours and no more than 48 hours between tests. Note that these recommendations on ending isolation do not apply to people who are moderately ill or very sick from COVID-19 or have weakened immune systems. See section below for recommendations for when to end isolation for these groups. Ending isolation for people who tested positive for COVID-19 but had no symptoms If you test positive for COVID-19 and never develop symptoms, isolate for at least 5 days. Day 0 is the day of your positive viral test (based on the date you were tested) and day 1 is the first full day after the specimen was collected for your positive test. You can leave isolation after 5 full days. If you continue to have no symptoms, you can end isolation after at least 5 days. You should continue to wear a well-fitting mask around others at home and in public until day 10 (day 6 through day 10). If you are unable to wear a mask when around others, you should continue to isolate for 10 days. Avoid people who have weakened immune systems or are more likely to get very sick from COVID-19, and nursing homes and other high-risk settings, until after at least 10 days. If you develop symptoms after testing positive, your 5-day isolation period should start over. Day 0 is your first day of symptoms. Follow the recommendations above for ending isolation for people who had COVID-19 and had symptoms. See additional information about travel. Do not go to places where you are unable to wear a mask, such as restaurants and some gyms, and avoid eating around others at home and at work until 10 days after the day of your positive test. If an individual has access to a test and wants to test, the best approach is to use an antigen test1 towards the end of the 5-day isolation period. If your test result is positive, you should continue to isolate until day 10. If your test result is positive, you can also choose to test daily and if your test result is negative, you can end isolation, but continue to wear a well-fitting mask around others at home and in public until day 10. Follow additional recommendations for masking and avoiding travel as described above. 1As noted in the labeling for authorized over-the counter antigen tests external icon external icon  : Negative results should be treated as presumptive. Negative results do not rule out SARS-CoV-2 infection and should not be used as the sole basis for treatment or patient management decisions, including infection control decisions. To improve results, antigen tests should be used twice over a three-day period with at least 24 hours and no more than 48 hours between tests. Ending isolation for people who were moderately or very sick from COVID-19 or have a weakened immune system People who are moderately ill from COVID-19 (experiencing symptoms that affect the lungs like shortness of breath or difficulty breathing) should isolate for 10 days and follow all other isolation precautions.  To calculate your 10-day isolation period, day 0 is your first day of symptoms. Day 1 is the first full day after your symptoms developed. If you are unsure if your symptoms are moderate, talk to a healthcare provider for further guidance. People who are very sick from COVID-19 (this means people who were hospitalized or required intensive care or ventilation support) and people who have weakened immune systems might need to isolate at home longer. They may also require testing with a viral test to determine when they can be around others. CDC recommends an isolation period of at least 10 and up to 20 days for people who were very sick from COVID-19 and for people with weakened immune systems. Consult with your healthcare provider about when you can resume being around other people. If you are unsure if your symptoms are severe or if you have a weakened immune system, talk to a healthcare provider for further guidance. People who have a weakened immune system should talk to their healthcare provider about the potential for reduced immune responses to COVID-19 vaccines and the need to continue to follow current prevention measures (including wearing a well-fitting mask and avoiding crowds and poorly ventilated indoor spaces) to protect themselves against COVID-19 until advised otherwise by their healthcare provider. Close contacts of immunocompromised people—including household members—should also be encouraged to receive all recommended COVID-19 vaccine doses to help protect these people.  Isolation in high-risk congregate settings In certain high-risk congregate settings that have high risk of secondary transmission and where it is not feasible to cohort people (such as correctional and detention facilities, homeless shelters, and cruise ships), CDC recommends a 10-day isolation period for residents. During periods of critical staffing shortages, facilities may consider shortening the isolation period for staff to ensure continuity of operations. Decisions to shorten isolation in these settings should be made in consultation with state, local, tribal, or territorial health departments and should take into consideration the context and characteristics of the facility. CDC’s setting-specific guidance provides additional recommendations for these settings. This CDC guidance is meant to supplement—not replace—any federal, state, local, territorial, or tribal health and safety laws, rules, and regulations. \"\n",
        "\n",
        "prediction = run_prediction([\"What do I do if I am exposed to COVID-19?\", \"What should I do if I have a weakened immune system?\", \"How long should I isolate if I get Covid?\"], cdc_guidance)"
      ],
      "metadata": {
        "colab": {
          "base_uri": "https://localhost:8080/"
        },
        "id": "Yu4pOCenoM3w",
        "outputId": "2e10235a-6618-45c7-fed4-118e33d4dbbf"
      },
      "execution_count": 20,
      "outputs": [
        {
          "output_type": "stream",
          "name": "stderr",
          "text": [
            "convert squad examples to features: 100%|██████████| 3/3 [00:01<00:00,  1.60it/s]\n",
            "add example index and unique id: 100%|██████████| 3/3 [00:00<00:00, 14413.42it/s]\n"
          ]
        }
      ]
    },
    {
      "cell_type": "code",
      "source": [
        "for key, value in prediction.items(): \n",
        "  print(value)"
      ],
      "metadata": {
        "colab": {
          "base_uri": "https://localhost:8080/"
        },
        "id": "Qe9bo6KoRsO_",
        "outputId": "69e04220-45cb-4d64-b9e0-faa1dcf70769"
      },
      "execution_count": 21,
      "outputs": [
        {
          "output_type": "stream",
          "name": "stdout",
          "text": [
            "isolate for at least 5 days\n",
            "You should isolate for at least 10 days\n",
            "5 days\n"
          ]
        }
      ]
    },
    {
      "cell_type": "markdown",
      "source": [
        "## 6.0 Conclusion\n",
        "\n",
        "ALBERT is a highly accesible classifier for anyone who has enough RAM and GPU to run it. It is marketed as a lighter, higher speed version of the BERT classifier, but from what I found it's speed is highly dependent on the amount of context provided. With smaller amounts of context, BERT ran "
      ],
      "metadata": {
        "id": "sLpCCAy_7vey"
      }
    },
    {
      "cell_type": "markdown",
      "source": [
        ""
      ],
      "metadata": {
        "id": "-r-ttItl8eb3"
      }
    }
  ]
}