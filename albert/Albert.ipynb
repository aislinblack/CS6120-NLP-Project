{
  "nbformat": 4,
  "nbformat_minor": 0,
  "metadata": {
    "colab": {
      "name": "Albert.ipynb",
      "provenance": [],
      "collapsed_sections": [
        "C7e5yTiNTe7m",
        "vpQMa0NFTrfG",
        "A5I7BiS1o2E3"
      ],
      "toc_visible": true,
      "mount_file_id": "1NXZ55t8AtduVSlK_8oaFSVbP7lHAP4m9",
      "authorship_tag": "ABX9TyMz0gw4wiYRl0NuNtMGd2Et",
      "include_colab_link": true
    },
    "kernelspec": {
      "name": "python3",
      "display_name": "Python 3"
    },
    "language_info": {
      "name": "python"
    },
    "widgets": {
      "application/vnd.jupyter.widget-state+json": {
        "9177d35360524c3092ff9b6cfbc863c4": {
          "model_module": "@jupyter-widgets/controls",
          "model_name": "HBoxModel",
          "model_module_version": "1.5.0",
          "state": {
            "_dom_classes": [],
            "_model_module": "@jupyter-widgets/controls",
            "_model_module_version": "1.5.0",
            "_model_name": "HBoxModel",
            "_view_count": null,
            "_view_module": "@jupyter-widgets/controls",
            "_view_module_version": "1.5.0",
            "_view_name": "HBoxView",
            "box_style": "",
            "children": [
              "IPY_MODEL_d6b746dec3c347e8ab0d4d00c717125a",
              "IPY_MODEL_a54c41213f684f998c7b5d035fdb8502",
              "IPY_MODEL_2be78983d334413ea04a37457aeb71a5"
            ],
            "layout": "IPY_MODEL_514f51de82c24499bf677707b6261d54"
          }
        },
        "d6b746dec3c347e8ab0d4d00c717125a": {
          "model_module": "@jupyter-widgets/controls",
          "model_name": "HTMLModel",
          "model_module_version": "1.5.0",
          "state": {
            "_dom_classes": [],
            "_model_module": "@jupyter-widgets/controls",
            "_model_module_version": "1.5.0",
            "_model_name": "HTMLModel",
            "_view_count": null,
            "_view_module": "@jupyter-widgets/controls",
            "_view_module_version": "1.5.0",
            "_view_name": "HTMLView",
            "description": "",
            "description_tooltip": null,
            "layout": "IPY_MODEL_a385d2b61afa4337a6e2108ab205ce99",
            "placeholder": "​",
            "style": "IPY_MODEL_97681519aaea4bbebe7c21c1cfd624d0",
            "value": "Downloading: 100%"
          }
        },
        "a54c41213f684f998c7b5d035fdb8502": {
          "model_module": "@jupyter-widgets/controls",
          "model_name": "FloatProgressModel",
          "model_module_version": "1.5.0",
          "state": {
            "_dom_classes": [],
            "_model_module": "@jupyter-widgets/controls",
            "_model_module_version": "1.5.0",
            "_model_name": "FloatProgressModel",
            "_view_count": null,
            "_view_module": "@jupyter-widgets/controls",
            "_view_module_version": "1.5.0",
            "_view_name": "ProgressView",
            "bar_style": "success",
            "description": "",
            "description_tooltip": null,
            "layout": "IPY_MODEL_80a6908a5b6c4020bf100f2aa4608c9b",
            "max": 717,
            "min": 0,
            "orientation": "horizontal",
            "style": "IPY_MODEL_74747a42e72142958bf97de428950d63",
            "value": 717
          }
        },
        "2be78983d334413ea04a37457aeb71a5": {
          "model_module": "@jupyter-widgets/controls",
          "model_name": "HTMLModel",
          "model_module_version": "1.5.0",
          "state": {
            "_dom_classes": [],
            "_model_module": "@jupyter-widgets/controls",
            "_model_module_version": "1.5.0",
            "_model_name": "HTMLModel",
            "_view_count": null,
            "_view_module": "@jupyter-widgets/controls",
            "_view_module_version": "1.5.0",
            "_view_name": "HTMLView",
            "description": "",
            "description_tooltip": null,
            "layout": "IPY_MODEL_e0fe7d33f6864182bf56d0a450ed776c",
            "placeholder": "​",
            "style": "IPY_MODEL_4b7c96186c6e4cde9937004a04f8d06e",
            "value": " 717/717 [00:00&lt;00:00, 9.44kB/s]"
          }
        },
        "514f51de82c24499bf677707b6261d54": {
          "model_module": "@jupyter-widgets/base",
          "model_name": "LayoutModel",
          "model_module_version": "1.2.0",
          "state": {
            "_model_module": "@jupyter-widgets/base",
            "_model_module_version": "1.2.0",
            "_model_name": "LayoutModel",
            "_view_count": null,
            "_view_module": "@jupyter-widgets/base",
            "_view_module_version": "1.2.0",
            "_view_name": "LayoutView",
            "align_content": null,
            "align_items": null,
            "align_self": null,
            "border": null,
            "bottom": null,
            "display": null,
            "flex": null,
            "flex_flow": null,
            "grid_area": null,
            "grid_auto_columns": null,
            "grid_auto_flow": null,
            "grid_auto_rows": null,
            "grid_column": null,
            "grid_gap": null,
            "grid_row": null,
            "grid_template_areas": null,
            "grid_template_columns": null,
            "grid_template_rows": null,
            "height": null,
            "justify_content": null,
            "justify_items": null,
            "left": null,
            "margin": null,
            "max_height": null,
            "max_width": null,
            "min_height": null,
            "min_width": null,
            "object_fit": null,
            "object_position": null,
            "order": null,
            "overflow": null,
            "overflow_x": null,
            "overflow_y": null,
            "padding": null,
            "right": null,
            "top": null,
            "visibility": null,
            "width": null
          }
        },
        "a385d2b61afa4337a6e2108ab205ce99": {
          "model_module": "@jupyter-widgets/base",
          "model_name": "LayoutModel",
          "model_module_version": "1.2.0",
          "state": {
            "_model_module": "@jupyter-widgets/base",
            "_model_module_version": "1.2.0",
            "_model_name": "LayoutModel",
            "_view_count": null,
            "_view_module": "@jupyter-widgets/base",
            "_view_module_version": "1.2.0",
            "_view_name": "LayoutView",
            "align_content": null,
            "align_items": null,
            "align_self": null,
            "border": null,
            "bottom": null,
            "display": null,
            "flex": null,
            "flex_flow": null,
            "grid_area": null,
            "grid_auto_columns": null,
            "grid_auto_flow": null,
            "grid_auto_rows": null,
            "grid_column": null,
            "grid_gap": null,
            "grid_row": null,
            "grid_template_areas": null,
            "grid_template_columns": null,
            "grid_template_rows": null,
            "height": null,
            "justify_content": null,
            "justify_items": null,
            "left": null,
            "margin": null,
            "max_height": null,
            "max_width": null,
            "min_height": null,
            "min_width": null,
            "object_fit": null,
            "object_position": null,
            "order": null,
            "overflow": null,
            "overflow_x": null,
            "overflow_y": null,
            "padding": null,
            "right": null,
            "top": null,
            "visibility": null,
            "width": null
          }
        },
        "97681519aaea4bbebe7c21c1cfd624d0": {
          "model_module": "@jupyter-widgets/controls",
          "model_name": "DescriptionStyleModel",
          "model_module_version": "1.5.0",
          "state": {
            "_model_module": "@jupyter-widgets/controls",
            "_model_module_version": "1.5.0",
            "_model_name": "DescriptionStyleModel",
            "_view_count": null,
            "_view_module": "@jupyter-widgets/base",
            "_view_module_version": "1.2.0",
            "_view_name": "StyleView",
            "description_width": ""
          }
        },
        "80a6908a5b6c4020bf100f2aa4608c9b": {
          "model_module": "@jupyter-widgets/base",
          "model_name": "LayoutModel",
          "model_module_version": "1.2.0",
          "state": {
            "_model_module": "@jupyter-widgets/base",
            "_model_module_version": "1.2.0",
            "_model_name": "LayoutModel",
            "_view_count": null,
            "_view_module": "@jupyter-widgets/base",
            "_view_module_version": "1.2.0",
            "_view_name": "LayoutView",
            "align_content": null,
            "align_items": null,
            "align_self": null,
            "border": null,
            "bottom": null,
            "display": null,
            "flex": null,
            "flex_flow": null,
            "grid_area": null,
            "grid_auto_columns": null,
            "grid_auto_flow": null,
            "grid_auto_rows": null,
            "grid_column": null,
            "grid_gap": null,
            "grid_row": null,
            "grid_template_areas": null,
            "grid_template_columns": null,
            "grid_template_rows": null,
            "height": null,
            "justify_content": null,
            "justify_items": null,
            "left": null,
            "margin": null,
            "max_height": null,
            "max_width": null,
            "min_height": null,
            "min_width": null,
            "object_fit": null,
            "object_position": null,
            "order": null,
            "overflow": null,
            "overflow_x": null,
            "overflow_y": null,
            "padding": null,
            "right": null,
            "top": null,
            "visibility": null,
            "width": null
          }
        },
        "74747a42e72142958bf97de428950d63": {
          "model_module": "@jupyter-widgets/controls",
          "model_name": "ProgressStyleModel",
          "model_module_version": "1.5.0",
          "state": {
            "_model_module": "@jupyter-widgets/controls",
            "_model_module_version": "1.5.0",
            "_model_name": "ProgressStyleModel",
            "_view_count": null,
            "_view_module": "@jupyter-widgets/base",
            "_view_module_version": "1.2.0",
            "_view_name": "StyleView",
            "bar_color": null,
            "description_width": ""
          }
        },
        "e0fe7d33f6864182bf56d0a450ed776c": {
          "model_module": "@jupyter-widgets/base",
          "model_name": "LayoutModel",
          "model_module_version": "1.2.0",
          "state": {
            "_model_module": "@jupyter-widgets/base",
            "_model_module_version": "1.2.0",
            "_model_name": "LayoutModel",
            "_view_count": null,
            "_view_module": "@jupyter-widgets/base",
            "_view_module_version": "1.2.0",
            "_view_name": "LayoutView",
            "align_content": null,
            "align_items": null,
            "align_self": null,
            "border": null,
            "bottom": null,
            "display": null,
            "flex": null,
            "flex_flow": null,
            "grid_area": null,
            "grid_auto_columns": null,
            "grid_auto_flow": null,
            "grid_auto_rows": null,
            "grid_column": null,
            "grid_gap": null,
            "grid_row": null,
            "grid_template_areas": null,
            "grid_template_columns": null,
            "grid_template_rows": null,
            "height": null,
            "justify_content": null,
            "justify_items": null,
            "left": null,
            "margin": null,
            "max_height": null,
            "max_width": null,
            "min_height": null,
            "min_width": null,
            "object_fit": null,
            "object_position": null,
            "order": null,
            "overflow": null,
            "overflow_x": null,
            "overflow_y": null,
            "padding": null,
            "right": null,
            "top": null,
            "visibility": null,
            "width": null
          }
        },
        "4b7c96186c6e4cde9937004a04f8d06e": {
          "model_module": "@jupyter-widgets/controls",
          "model_name": "DescriptionStyleModel",
          "model_module_version": "1.5.0",
          "state": {
            "_model_module": "@jupyter-widgets/controls",
            "_model_module_version": "1.5.0",
            "_model_name": "DescriptionStyleModel",
            "_view_count": null,
            "_view_module": "@jupyter-widgets/base",
            "_view_module_version": "1.2.0",
            "_view_name": "StyleView",
            "description_width": ""
          }
        },
        "e48e4787755445c0b5e7b7da9d3e5f07": {
          "model_module": "@jupyter-widgets/controls",
          "model_name": "HBoxModel",
          "model_module_version": "1.5.0",
          "state": {
            "_dom_classes": [],
            "_model_module": "@jupyter-widgets/controls",
            "_model_module_version": "1.5.0",
            "_model_name": "HBoxModel",
            "_view_count": null,
            "_view_module": "@jupyter-widgets/controls",
            "_view_module_version": "1.5.0",
            "_view_name": "HBoxView",
            "box_style": "",
            "children": [
              "IPY_MODEL_5a52d7105da6499886fdde9400854734",
              "IPY_MODEL_e599e990dcff43c394d34bc0c5cf4f2a",
              "IPY_MODEL_f15eb4b74d5a490bacb0b5fbf501845f"
            ],
            "layout": "IPY_MODEL_925f8238985a497795cda2a7657d7980"
          }
        },
        "5a52d7105da6499886fdde9400854734": {
          "model_module": "@jupyter-widgets/controls",
          "model_name": "HTMLModel",
          "model_module_version": "1.5.0",
          "state": {
            "_dom_classes": [],
            "_model_module": "@jupyter-widgets/controls",
            "_model_module_version": "1.5.0",
            "_model_name": "HTMLModel",
            "_view_count": null,
            "_view_module": "@jupyter-widgets/controls",
            "_view_module_version": "1.5.0",
            "_view_name": "HTMLView",
            "description": "",
            "description_tooltip": null,
            "layout": "IPY_MODEL_0c84c73f905d49aea291ab4e99a62d86",
            "placeholder": "​",
            "style": "IPY_MODEL_b3e6d90279b84852a4b8d2c0758d6557",
            "value": "Downloading: 100%"
          }
        },
        "e599e990dcff43c394d34bc0c5cf4f2a": {
          "model_module": "@jupyter-widgets/controls",
          "model_name": "FloatProgressModel",
          "model_module_version": "1.5.0",
          "state": {
            "_dom_classes": [],
            "_model_module": "@jupyter-widgets/controls",
            "_model_module_version": "1.5.0",
            "_model_name": "FloatProgressModel",
            "_view_count": null,
            "_view_module": "@jupyter-widgets/controls",
            "_view_module_version": "1.5.0",
            "_view_name": "ProgressView",
            "bar_style": "success",
            "description": "",
            "description_tooltip": null,
            "layout": "IPY_MODEL_e7bfee9b89d44a99b86dfc46fbb596b2",
            "max": 760289,
            "min": 0,
            "orientation": "horizontal",
            "style": "IPY_MODEL_b3639b19c61745fcbc003b7a88162b01",
            "value": 760289
          }
        },
        "f15eb4b74d5a490bacb0b5fbf501845f": {
          "model_module": "@jupyter-widgets/controls",
          "model_name": "HTMLModel",
          "model_module_version": "1.5.0",
          "state": {
            "_dom_classes": [],
            "_model_module": "@jupyter-widgets/controls",
            "_model_module_version": "1.5.0",
            "_model_name": "HTMLModel",
            "_view_count": null,
            "_view_module": "@jupyter-widgets/controls",
            "_view_module_version": "1.5.0",
            "_view_name": "HTMLView",
            "description": "",
            "description_tooltip": null,
            "layout": "IPY_MODEL_dc18647a113c453695d2d4dd85909d24",
            "placeholder": "​",
            "style": "IPY_MODEL_8b528f6b976d41b4a0ad3f100462fdf7",
            "value": " 760k/760k [00:00&lt;00:00, 523kB/s]"
          }
        },
        "925f8238985a497795cda2a7657d7980": {
          "model_module": "@jupyter-widgets/base",
          "model_name": "LayoutModel",
          "model_module_version": "1.2.0",
          "state": {
            "_model_module": "@jupyter-widgets/base",
            "_model_module_version": "1.2.0",
            "_model_name": "LayoutModel",
            "_view_count": null,
            "_view_module": "@jupyter-widgets/base",
            "_view_module_version": "1.2.0",
            "_view_name": "LayoutView",
            "align_content": null,
            "align_items": null,
            "align_self": null,
            "border": null,
            "bottom": null,
            "display": null,
            "flex": null,
            "flex_flow": null,
            "grid_area": null,
            "grid_auto_columns": null,
            "grid_auto_flow": null,
            "grid_auto_rows": null,
            "grid_column": null,
            "grid_gap": null,
            "grid_row": null,
            "grid_template_areas": null,
            "grid_template_columns": null,
            "grid_template_rows": null,
            "height": null,
            "justify_content": null,
            "justify_items": null,
            "left": null,
            "margin": null,
            "max_height": null,
            "max_width": null,
            "min_height": null,
            "min_width": null,
            "object_fit": null,
            "object_position": null,
            "order": null,
            "overflow": null,
            "overflow_x": null,
            "overflow_y": null,
            "padding": null,
            "right": null,
            "top": null,
            "visibility": null,
            "width": null
          }
        },
        "0c84c73f905d49aea291ab4e99a62d86": {
          "model_module": "@jupyter-widgets/base",
          "model_name": "LayoutModel",
          "model_module_version": "1.2.0",
          "state": {
            "_model_module": "@jupyter-widgets/base",
            "_model_module_version": "1.2.0",
            "_model_name": "LayoutModel",
            "_view_count": null,
            "_view_module": "@jupyter-widgets/base",
            "_view_module_version": "1.2.0",
            "_view_name": "LayoutView",
            "align_content": null,
            "align_items": null,
            "align_self": null,
            "border": null,
            "bottom": null,
            "display": null,
            "flex": null,
            "flex_flow": null,
            "grid_area": null,
            "grid_auto_columns": null,
            "grid_auto_flow": null,
            "grid_auto_rows": null,
            "grid_column": null,
            "grid_gap": null,
            "grid_row": null,
            "grid_template_areas": null,
            "grid_template_columns": null,
            "grid_template_rows": null,
            "height": null,
            "justify_content": null,
            "justify_items": null,
            "left": null,
            "margin": null,
            "max_height": null,
            "max_width": null,
            "min_height": null,
            "min_width": null,
            "object_fit": null,
            "object_position": null,
            "order": null,
            "overflow": null,
            "overflow_x": null,
            "overflow_y": null,
            "padding": null,
            "right": null,
            "top": null,
            "visibility": null,
            "width": null
          }
        },
        "b3e6d90279b84852a4b8d2c0758d6557": {
          "model_module": "@jupyter-widgets/controls",
          "model_name": "DescriptionStyleModel",
          "model_module_version": "1.5.0",
          "state": {
            "_model_module": "@jupyter-widgets/controls",
            "_model_module_version": "1.5.0",
            "_model_name": "DescriptionStyleModel",
            "_view_count": null,
            "_view_module": "@jupyter-widgets/base",
            "_view_module_version": "1.2.0",
            "_view_name": "StyleView",
            "description_width": ""
          }
        },
        "e7bfee9b89d44a99b86dfc46fbb596b2": {
          "model_module": "@jupyter-widgets/base",
          "model_name": "LayoutModel",
          "model_module_version": "1.2.0",
          "state": {
            "_model_module": "@jupyter-widgets/base",
            "_model_module_version": "1.2.0",
            "_model_name": "LayoutModel",
            "_view_count": null,
            "_view_module": "@jupyter-widgets/base",
            "_view_module_version": "1.2.0",
            "_view_name": "LayoutView",
            "align_content": null,
            "align_items": null,
            "align_self": null,
            "border": null,
            "bottom": null,
            "display": null,
            "flex": null,
            "flex_flow": null,
            "grid_area": null,
            "grid_auto_columns": null,
            "grid_auto_flow": null,
            "grid_auto_rows": null,
            "grid_column": null,
            "grid_gap": null,
            "grid_row": null,
            "grid_template_areas": null,
            "grid_template_columns": null,
            "grid_template_rows": null,
            "height": null,
            "justify_content": null,
            "justify_items": null,
            "left": null,
            "margin": null,
            "max_height": null,
            "max_width": null,
            "min_height": null,
            "min_width": null,
            "object_fit": null,
            "object_position": null,
            "order": null,
            "overflow": null,
            "overflow_x": null,
            "overflow_y": null,
            "padding": null,
            "right": null,
            "top": null,
            "visibility": null,
            "width": null
          }
        },
        "b3639b19c61745fcbc003b7a88162b01": {
          "model_module": "@jupyter-widgets/controls",
          "model_name": "ProgressStyleModel",
          "model_module_version": "1.5.0",
          "state": {
            "_model_module": "@jupyter-widgets/controls",
            "_model_module_version": "1.5.0",
            "_model_name": "ProgressStyleModel",
            "_view_count": null,
            "_view_module": "@jupyter-widgets/base",
            "_view_module_version": "1.2.0",
            "_view_name": "StyleView",
            "bar_color": null,
            "description_width": ""
          }
        },
        "dc18647a113c453695d2d4dd85909d24": {
          "model_module": "@jupyter-widgets/base",
          "model_name": "LayoutModel",
          "model_module_version": "1.2.0",
          "state": {
            "_model_module": "@jupyter-widgets/base",
            "_model_module_version": "1.2.0",
            "_model_name": "LayoutModel",
            "_view_count": null,
            "_view_module": "@jupyter-widgets/base",
            "_view_module_version": "1.2.0",
            "_view_name": "LayoutView",
            "align_content": null,
            "align_items": null,
            "align_self": null,
            "border": null,
            "bottom": null,
            "display": null,
            "flex": null,
            "flex_flow": null,
            "grid_area": null,
            "grid_auto_columns": null,
            "grid_auto_flow": null,
            "grid_auto_rows": null,
            "grid_column": null,
            "grid_gap": null,
            "grid_row": null,
            "grid_template_areas": null,
            "grid_template_columns": null,
            "grid_template_rows": null,
            "height": null,
            "justify_content": null,
            "justify_items": null,
            "left": null,
            "margin": null,
            "max_height": null,
            "max_width": null,
            "min_height": null,
            "min_width": null,
            "object_fit": null,
            "object_position": null,
            "order": null,
            "overflow": null,
            "overflow_x": null,
            "overflow_y": null,
            "padding": null,
            "right": null,
            "top": null,
            "visibility": null,
            "width": null
          }
        },
        "8b528f6b976d41b4a0ad3f100462fdf7": {
          "model_module": "@jupyter-widgets/controls",
          "model_name": "DescriptionStyleModel",
          "model_module_version": "1.5.0",
          "state": {
            "_model_module": "@jupyter-widgets/controls",
            "_model_module_version": "1.5.0",
            "_model_name": "DescriptionStyleModel",
            "_view_count": null,
            "_view_module": "@jupyter-widgets/base",
            "_view_module_version": "1.2.0",
            "_view_name": "StyleView",
            "description_width": ""
          }
        },
        "e89120912b634ecb96eea13527cf2b6b": {
          "model_module": "@jupyter-widgets/controls",
          "model_name": "HBoxModel",
          "model_module_version": "1.5.0",
          "state": {
            "_dom_classes": [],
            "_model_module": "@jupyter-widgets/controls",
            "_model_module_version": "1.5.0",
            "_model_name": "HBoxModel",
            "_view_count": null,
            "_view_module": "@jupyter-widgets/controls",
            "_view_module_version": "1.5.0",
            "_view_name": "HBoxView",
            "box_style": "",
            "children": [
              "IPY_MODEL_67b2c62f6a0c421daf867e35b9773809",
              "IPY_MODEL_7b5a498b2ddd405cb85cfa40e44ba940",
              "IPY_MODEL_0b02fb4ab8eb4ce1888ddcd14356c245"
            ],
            "layout": "IPY_MODEL_5d0e897b8a6d4283aa177140a93c5879"
          }
        },
        "67b2c62f6a0c421daf867e35b9773809": {
          "model_module": "@jupyter-widgets/controls",
          "model_name": "HTMLModel",
          "model_module_version": "1.5.0",
          "state": {
            "_dom_classes": [],
            "_model_module": "@jupyter-widgets/controls",
            "_model_module_version": "1.5.0",
            "_model_name": "HTMLModel",
            "_view_count": null,
            "_view_module": "@jupyter-widgets/controls",
            "_view_module_version": "1.5.0",
            "_view_name": "HTMLView",
            "description": "",
            "description_tooltip": null,
            "layout": "IPY_MODEL_855f80326698449985e099574afa33c8",
            "placeholder": "​",
            "style": "IPY_MODEL_e6d268a6f1534e8798ec7a7ab44166e5",
            "value": "Downloading: 100%"
          }
        },
        "7b5a498b2ddd405cb85cfa40e44ba940": {
          "model_module": "@jupyter-widgets/controls",
          "model_name": "FloatProgressModel",
          "model_module_version": "1.5.0",
          "state": {
            "_dom_classes": [],
            "_model_module": "@jupyter-widgets/controls",
            "_model_module_version": "1.5.0",
            "_model_name": "FloatProgressModel",
            "_view_count": null,
            "_view_module": "@jupyter-widgets/controls",
            "_view_module_version": "1.5.0",
            "_view_name": "ProgressView",
            "bar_style": "success",
            "description": "",
            "description_tooltip": null,
            "layout": "IPY_MODEL_fc69aa694b6d453a85db0e46b18d4fc9",
            "max": 234922444,
            "min": 0,
            "orientation": "horizontal",
            "style": "IPY_MODEL_6b760b49bea449ee97beca4ac7c10f28",
            "value": 234922444
          }
        },
        "0b02fb4ab8eb4ce1888ddcd14356c245": {
          "model_module": "@jupyter-widgets/controls",
          "model_name": "HTMLModel",
          "model_module_version": "1.5.0",
          "state": {
            "_dom_classes": [],
            "_model_module": "@jupyter-widgets/controls",
            "_model_module_version": "1.5.0",
            "_model_name": "HTMLModel",
            "_view_count": null,
            "_view_module": "@jupyter-widgets/controls",
            "_view_module_version": "1.5.0",
            "_view_name": "HTMLView",
            "description": "",
            "description_tooltip": null,
            "layout": "IPY_MODEL_e30b843afc484025a04d2dde0bb969af",
            "placeholder": "​",
            "style": "IPY_MODEL_e51d4694ec984ed0b1193534b7ca0850",
            "value": " 235M/235M [00:07&lt;00:00, 52.3MB/s]"
          }
        },
        "5d0e897b8a6d4283aa177140a93c5879": {
          "model_module": "@jupyter-widgets/base",
          "model_name": "LayoutModel",
          "model_module_version": "1.2.0",
          "state": {
            "_model_module": "@jupyter-widgets/base",
            "_model_module_version": "1.2.0",
            "_model_name": "LayoutModel",
            "_view_count": null,
            "_view_module": "@jupyter-widgets/base",
            "_view_module_version": "1.2.0",
            "_view_name": "LayoutView",
            "align_content": null,
            "align_items": null,
            "align_self": null,
            "border": null,
            "bottom": null,
            "display": null,
            "flex": null,
            "flex_flow": null,
            "grid_area": null,
            "grid_auto_columns": null,
            "grid_auto_flow": null,
            "grid_auto_rows": null,
            "grid_column": null,
            "grid_gap": null,
            "grid_row": null,
            "grid_template_areas": null,
            "grid_template_columns": null,
            "grid_template_rows": null,
            "height": null,
            "justify_content": null,
            "justify_items": null,
            "left": null,
            "margin": null,
            "max_height": null,
            "max_width": null,
            "min_height": null,
            "min_width": null,
            "object_fit": null,
            "object_position": null,
            "order": null,
            "overflow": null,
            "overflow_x": null,
            "overflow_y": null,
            "padding": null,
            "right": null,
            "top": null,
            "visibility": null,
            "width": null
          }
        },
        "855f80326698449985e099574afa33c8": {
          "model_module": "@jupyter-widgets/base",
          "model_name": "LayoutModel",
          "model_module_version": "1.2.0",
          "state": {
            "_model_module": "@jupyter-widgets/base",
            "_model_module_version": "1.2.0",
            "_model_name": "LayoutModel",
            "_view_count": null,
            "_view_module": "@jupyter-widgets/base",
            "_view_module_version": "1.2.0",
            "_view_name": "LayoutView",
            "align_content": null,
            "align_items": null,
            "align_self": null,
            "border": null,
            "bottom": null,
            "display": null,
            "flex": null,
            "flex_flow": null,
            "grid_area": null,
            "grid_auto_columns": null,
            "grid_auto_flow": null,
            "grid_auto_rows": null,
            "grid_column": null,
            "grid_gap": null,
            "grid_row": null,
            "grid_template_areas": null,
            "grid_template_columns": null,
            "grid_template_rows": null,
            "height": null,
            "justify_content": null,
            "justify_items": null,
            "left": null,
            "margin": null,
            "max_height": null,
            "max_width": null,
            "min_height": null,
            "min_width": null,
            "object_fit": null,
            "object_position": null,
            "order": null,
            "overflow": null,
            "overflow_x": null,
            "overflow_y": null,
            "padding": null,
            "right": null,
            "top": null,
            "visibility": null,
            "width": null
          }
        },
        "e6d268a6f1534e8798ec7a7ab44166e5": {
          "model_module": "@jupyter-widgets/controls",
          "model_name": "DescriptionStyleModel",
          "model_module_version": "1.5.0",
          "state": {
            "_model_module": "@jupyter-widgets/controls",
            "_model_module_version": "1.5.0",
            "_model_name": "DescriptionStyleModel",
            "_view_count": null,
            "_view_module": "@jupyter-widgets/base",
            "_view_module_version": "1.2.0",
            "_view_name": "StyleView",
            "description_width": ""
          }
        },
        "fc69aa694b6d453a85db0e46b18d4fc9": {
          "model_module": "@jupyter-widgets/base",
          "model_name": "LayoutModel",
          "model_module_version": "1.2.0",
          "state": {
            "_model_module": "@jupyter-widgets/base",
            "_model_module_version": "1.2.0",
            "_model_name": "LayoutModel",
            "_view_count": null,
            "_view_module": "@jupyter-widgets/base",
            "_view_module_version": "1.2.0",
            "_view_name": "LayoutView",
            "align_content": null,
            "align_items": null,
            "align_self": null,
            "border": null,
            "bottom": null,
            "display": null,
            "flex": null,
            "flex_flow": null,
            "grid_area": null,
            "grid_auto_columns": null,
            "grid_auto_flow": null,
            "grid_auto_rows": null,
            "grid_column": null,
            "grid_gap": null,
            "grid_row": null,
            "grid_template_areas": null,
            "grid_template_columns": null,
            "grid_template_rows": null,
            "height": null,
            "justify_content": null,
            "justify_items": null,
            "left": null,
            "margin": null,
            "max_height": null,
            "max_width": null,
            "min_height": null,
            "min_width": null,
            "object_fit": null,
            "object_position": null,
            "order": null,
            "overflow": null,
            "overflow_x": null,
            "overflow_y": null,
            "padding": null,
            "right": null,
            "top": null,
            "visibility": null,
            "width": null
          }
        },
        "6b760b49bea449ee97beca4ac7c10f28": {
          "model_module": "@jupyter-widgets/controls",
          "model_name": "ProgressStyleModel",
          "model_module_version": "1.5.0",
          "state": {
            "_model_module": "@jupyter-widgets/controls",
            "_model_module_version": "1.5.0",
            "_model_name": "ProgressStyleModel",
            "_view_count": null,
            "_view_module": "@jupyter-widgets/base",
            "_view_module_version": "1.2.0",
            "_view_name": "StyleView",
            "bar_color": null,
            "description_width": ""
          }
        },
        "e30b843afc484025a04d2dde0bb969af": {
          "model_module": "@jupyter-widgets/base",
          "model_name": "LayoutModel",
          "model_module_version": "1.2.0",
          "state": {
            "_model_module": "@jupyter-widgets/base",
            "_model_module_version": "1.2.0",
            "_model_name": "LayoutModel",
            "_view_count": null,
            "_view_module": "@jupyter-widgets/base",
            "_view_module_version": "1.2.0",
            "_view_name": "LayoutView",
            "align_content": null,
            "align_items": null,
            "align_self": null,
            "border": null,
            "bottom": null,
            "display": null,
            "flex": null,
            "flex_flow": null,
            "grid_area": null,
            "grid_auto_columns": null,
            "grid_auto_flow": null,
            "grid_auto_rows": null,
            "grid_column": null,
            "grid_gap": null,
            "grid_row": null,
            "grid_template_areas": null,
            "grid_template_columns": null,
            "grid_template_rows": null,
            "height": null,
            "justify_content": null,
            "justify_items": null,
            "left": null,
            "margin": null,
            "max_height": null,
            "max_width": null,
            "min_height": null,
            "min_width": null,
            "object_fit": null,
            "object_position": null,
            "order": null,
            "overflow": null,
            "overflow_x": null,
            "overflow_y": null,
            "padding": null,
            "right": null,
            "top": null,
            "visibility": null,
            "width": null
          }
        },
        "e51d4694ec984ed0b1193534b7ca0850": {
          "model_module": "@jupyter-widgets/controls",
          "model_name": "DescriptionStyleModel",
          "model_module_version": "1.5.0",
          "state": {
            "_model_module": "@jupyter-widgets/controls",
            "_model_module_version": "1.5.0",
            "_model_name": "DescriptionStyleModel",
            "_view_count": null,
            "_view_module": "@jupyter-widgets/base",
            "_view_module_version": "1.2.0",
            "_view_name": "StyleView",
            "description_width": ""
          }
        },
        "189e851fc12c49629f04730bbdbe5367": {
          "model_module": "@jupyter-widgets/controls",
          "model_name": "HBoxModel",
          "model_module_version": "1.5.0",
          "state": {
            "_dom_classes": [],
            "_model_module": "@jupyter-widgets/controls",
            "_model_module_version": "1.5.0",
            "_model_name": "HBoxModel",
            "_view_count": null,
            "_view_module": "@jupyter-widgets/controls",
            "_view_module_version": "1.5.0",
            "_view_name": "HBoxView",
            "box_style": "",
            "children": [
              "IPY_MODEL_b12fee304a1f4fa1a77faae914679677",
              "IPY_MODEL_dd8ae1ccd3714bc8a9125740dbbd1ba9",
              "IPY_MODEL_806cb9b7cce24cceb734eedc0203ff3c"
            ],
            "layout": "IPY_MODEL_7b2cf28275704e39ac77e29ebbcf4ba9"
          }
        },
        "b12fee304a1f4fa1a77faae914679677": {
          "model_module": "@jupyter-widgets/controls",
          "model_name": "HTMLModel",
          "model_module_version": "1.5.0",
          "state": {
            "_dom_classes": [],
            "_model_module": "@jupyter-widgets/controls",
            "_model_module_version": "1.5.0",
            "_model_name": "HTMLModel",
            "_view_count": null,
            "_view_module": "@jupyter-widgets/controls",
            "_view_module_version": "1.5.0",
            "_view_name": "HTMLView",
            "description": "",
            "description_tooltip": null,
            "layout": "IPY_MODEL_4b7316496c154d88a68f90dd65949a75",
            "placeholder": "​",
            "style": "IPY_MODEL_b0113128555f4d5fa352c0b9505e2f6e",
            "value": "Downloading config.json: 100%"
          }
        },
        "dd8ae1ccd3714bc8a9125740dbbd1ba9": {
          "model_module": "@jupyter-widgets/controls",
          "model_name": "FloatProgressModel",
          "model_module_version": "1.5.0",
          "state": {
            "_dom_classes": [],
            "_model_module": "@jupyter-widgets/controls",
            "_model_module_version": "1.5.0",
            "_model_name": "FloatProgressModel",
            "_view_count": null,
            "_view_module": "@jupyter-widgets/controls",
            "_view_module_version": "1.5.0",
            "_view_name": "ProgressView",
            "bar_style": "success",
            "description": "",
            "description_tooltip": null,
            "layout": "IPY_MODEL_d1d49d091e4342c5a3eb17aa67dc4735",
            "max": 482,
            "min": 0,
            "orientation": "horizontal",
            "style": "IPY_MODEL_1a37c52d749c41629c6423301c6fdf1a",
            "value": 482
          }
        },
        "806cb9b7cce24cceb734eedc0203ff3c": {
          "model_module": "@jupyter-widgets/controls",
          "model_name": "HTMLModel",
          "model_module_version": "1.5.0",
          "state": {
            "_dom_classes": [],
            "_model_module": "@jupyter-widgets/controls",
            "_model_module_version": "1.5.0",
            "_model_name": "HTMLModel",
            "_view_count": null,
            "_view_module": "@jupyter-widgets/controls",
            "_view_module_version": "1.5.0",
            "_view_name": "HTMLView",
            "description": "",
            "description_tooltip": null,
            "layout": "IPY_MODEL_c1ccef2e30824fd39a57174be2322541",
            "placeholder": "​",
            "style": "IPY_MODEL_2cb34c160cb7436686159a342ad4955e",
            "value": " 482/482 [00:00&lt;00:00, 14.9kB/s]"
          }
        },
        "7b2cf28275704e39ac77e29ebbcf4ba9": {
          "model_module": "@jupyter-widgets/base",
          "model_name": "LayoutModel",
          "model_module_version": "1.2.0",
          "state": {
            "_model_module": "@jupyter-widgets/base",
            "_model_module_version": "1.2.0",
            "_model_name": "LayoutModel",
            "_view_count": null,
            "_view_module": "@jupyter-widgets/base",
            "_view_module_version": "1.2.0",
            "_view_name": "LayoutView",
            "align_content": null,
            "align_items": null,
            "align_self": null,
            "border": null,
            "bottom": null,
            "display": null,
            "flex": null,
            "flex_flow": null,
            "grid_area": null,
            "grid_auto_columns": null,
            "grid_auto_flow": null,
            "grid_auto_rows": null,
            "grid_column": null,
            "grid_gap": null,
            "grid_row": null,
            "grid_template_areas": null,
            "grid_template_columns": null,
            "grid_template_rows": null,
            "height": null,
            "justify_content": null,
            "justify_items": null,
            "left": null,
            "margin": null,
            "max_height": null,
            "max_width": null,
            "min_height": null,
            "min_width": null,
            "object_fit": null,
            "object_position": null,
            "order": null,
            "overflow": null,
            "overflow_x": null,
            "overflow_y": null,
            "padding": null,
            "right": null,
            "top": null,
            "visibility": null,
            "width": null
          }
        },
        "4b7316496c154d88a68f90dd65949a75": {
          "model_module": "@jupyter-widgets/base",
          "model_name": "LayoutModel",
          "model_module_version": "1.2.0",
          "state": {
            "_model_module": "@jupyter-widgets/base",
            "_model_module_version": "1.2.0",
            "_model_name": "LayoutModel",
            "_view_count": null,
            "_view_module": "@jupyter-widgets/base",
            "_view_module_version": "1.2.0",
            "_view_name": "LayoutView",
            "align_content": null,
            "align_items": null,
            "align_self": null,
            "border": null,
            "bottom": null,
            "display": null,
            "flex": null,
            "flex_flow": null,
            "grid_area": null,
            "grid_auto_columns": null,
            "grid_auto_flow": null,
            "grid_auto_rows": null,
            "grid_column": null,
            "grid_gap": null,
            "grid_row": null,
            "grid_template_areas": null,
            "grid_template_columns": null,
            "grid_template_rows": null,
            "height": null,
            "justify_content": null,
            "justify_items": null,
            "left": null,
            "margin": null,
            "max_height": null,
            "max_width": null,
            "min_height": null,
            "min_width": null,
            "object_fit": null,
            "object_position": null,
            "order": null,
            "overflow": null,
            "overflow_x": null,
            "overflow_y": null,
            "padding": null,
            "right": null,
            "top": null,
            "visibility": null,
            "width": null
          }
        },
        "b0113128555f4d5fa352c0b9505e2f6e": {
          "model_module": "@jupyter-widgets/controls",
          "model_name": "DescriptionStyleModel",
          "model_module_version": "1.5.0",
          "state": {
            "_model_module": "@jupyter-widgets/controls",
            "_model_module_version": "1.5.0",
            "_model_name": "DescriptionStyleModel",
            "_view_count": null,
            "_view_module": "@jupyter-widgets/base",
            "_view_module_version": "1.2.0",
            "_view_name": "StyleView",
            "description_width": ""
          }
        },
        "d1d49d091e4342c5a3eb17aa67dc4735": {
          "model_module": "@jupyter-widgets/base",
          "model_name": "LayoutModel",
          "model_module_version": "1.2.0",
          "state": {
            "_model_module": "@jupyter-widgets/base",
            "_model_module_version": "1.2.0",
            "_model_name": "LayoutModel",
            "_view_count": null,
            "_view_module": "@jupyter-widgets/base",
            "_view_module_version": "1.2.0",
            "_view_name": "LayoutView",
            "align_content": null,
            "align_items": null,
            "align_self": null,
            "border": null,
            "bottom": null,
            "display": null,
            "flex": null,
            "flex_flow": null,
            "grid_area": null,
            "grid_auto_columns": null,
            "grid_auto_flow": null,
            "grid_auto_rows": null,
            "grid_column": null,
            "grid_gap": null,
            "grid_row": null,
            "grid_template_areas": null,
            "grid_template_columns": null,
            "grid_template_rows": null,
            "height": null,
            "justify_content": null,
            "justify_items": null,
            "left": null,
            "margin": null,
            "max_height": null,
            "max_width": null,
            "min_height": null,
            "min_width": null,
            "object_fit": null,
            "object_position": null,
            "order": null,
            "overflow": null,
            "overflow_x": null,
            "overflow_y": null,
            "padding": null,
            "right": null,
            "top": null,
            "visibility": null,
            "width": null
          }
        },
        "1a37c52d749c41629c6423301c6fdf1a": {
          "model_module": "@jupyter-widgets/controls",
          "model_name": "ProgressStyleModel",
          "model_module_version": "1.5.0",
          "state": {
            "_model_module": "@jupyter-widgets/controls",
            "_model_module_version": "1.5.0",
            "_model_name": "ProgressStyleModel",
            "_view_count": null,
            "_view_module": "@jupyter-widgets/base",
            "_view_module_version": "1.2.0",
            "_view_name": "StyleView",
            "bar_color": null,
            "description_width": ""
          }
        },
        "c1ccef2e30824fd39a57174be2322541": {
          "model_module": "@jupyter-widgets/base",
          "model_name": "LayoutModel",
          "model_module_version": "1.2.0",
          "state": {
            "_model_module": "@jupyter-widgets/base",
            "_model_module_version": "1.2.0",
            "_model_name": "LayoutModel",
            "_view_count": null,
            "_view_module": "@jupyter-widgets/base",
            "_view_module_version": "1.2.0",
            "_view_name": "LayoutView",
            "align_content": null,
            "align_items": null,
            "align_self": null,
            "border": null,
            "bottom": null,
            "display": null,
            "flex": null,
            "flex_flow": null,
            "grid_area": null,
            "grid_auto_columns": null,
            "grid_auto_flow": null,
            "grid_auto_rows": null,
            "grid_column": null,
            "grid_gap": null,
            "grid_row": null,
            "grid_template_areas": null,
            "grid_template_columns": null,
            "grid_template_rows": null,
            "height": null,
            "justify_content": null,
            "justify_items": null,
            "left": null,
            "margin": null,
            "max_height": null,
            "max_width": null,
            "min_height": null,
            "min_width": null,
            "object_fit": null,
            "object_position": null,
            "order": null,
            "overflow": null,
            "overflow_x": null,
            "overflow_y": null,
            "padding": null,
            "right": null,
            "top": null,
            "visibility": null,
            "width": null
          }
        },
        "2cb34c160cb7436686159a342ad4955e": {
          "model_module": "@jupyter-widgets/controls",
          "model_name": "DescriptionStyleModel",
          "model_module_version": "1.5.0",
          "state": {
            "_model_module": "@jupyter-widgets/controls",
            "_model_module_version": "1.5.0",
            "_model_name": "DescriptionStyleModel",
            "_view_count": null,
            "_view_module": "@jupyter-widgets/base",
            "_view_module_version": "1.2.0",
            "_view_name": "StyleView",
            "description_width": ""
          }
        },
        "5362d2b35e434c4da5d514ec0c8c0aa7": {
          "model_module": "@jupyter-widgets/controls",
          "model_name": "HBoxModel",
          "model_module_version": "1.5.0",
          "state": {
            "_dom_classes": [],
            "_model_module": "@jupyter-widgets/controls",
            "_model_module_version": "1.5.0",
            "_model_name": "HBoxModel",
            "_view_count": null,
            "_view_module": "@jupyter-widgets/controls",
            "_view_module_version": "1.5.0",
            "_view_name": "HBoxView",
            "box_style": "",
            "children": [
              "IPY_MODEL_bf24241e8a4c4a6195330b5346ce1782",
              "IPY_MODEL_05f261d127de45ecbff55d5bd6c77e4c",
              "IPY_MODEL_05696f1359734ff1ab0339586c6f2cea"
            ],
            "layout": "IPY_MODEL_ed2c7bf5a1a7410fb316b845d0a2ff95"
          }
        },
        "bf24241e8a4c4a6195330b5346ce1782": {
          "model_module": "@jupyter-widgets/controls",
          "model_name": "HTMLModel",
          "model_module_version": "1.5.0",
          "state": {
            "_dom_classes": [],
            "_model_module": "@jupyter-widgets/controls",
            "_model_module_version": "1.5.0",
            "_model_name": "HTMLModel",
            "_view_count": null,
            "_view_module": "@jupyter-widgets/controls",
            "_view_module_version": "1.5.0",
            "_view_name": "HTMLView",
            "description": "",
            "description_tooltip": null,
            "layout": "IPY_MODEL_7a7faa34485d46769f3cc65ca7aef69d",
            "placeholder": "​",
            "style": "IPY_MODEL_86366932c6b645c3a5e61c7ca4729d00",
            "value": "Downloading vocab.json: 100%"
          }
        },
        "05f261d127de45ecbff55d5bd6c77e4c": {
          "model_module": "@jupyter-widgets/controls",
          "model_name": "FloatProgressModel",
          "model_module_version": "1.5.0",
          "state": {
            "_dom_classes": [],
            "_model_module": "@jupyter-widgets/controls",
            "_model_module_version": "1.5.0",
            "_model_name": "FloatProgressModel",
            "_view_count": null,
            "_view_module": "@jupyter-widgets/controls",
            "_view_module_version": "1.5.0",
            "_view_name": "ProgressView",
            "bar_style": "success",
            "description": "",
            "description_tooltip": null,
            "layout": "IPY_MODEL_57fe3658a779417d96a4c9baaa4237d5",
            "max": 898823,
            "min": 0,
            "orientation": "horizontal",
            "style": "IPY_MODEL_83bdb552762c4f7ca827b9cd243a72f7",
            "value": 898823
          }
        },
        "05696f1359734ff1ab0339586c6f2cea": {
          "model_module": "@jupyter-widgets/controls",
          "model_name": "HTMLModel",
          "model_module_version": "1.5.0",
          "state": {
            "_dom_classes": [],
            "_model_module": "@jupyter-widgets/controls",
            "_model_module_version": "1.5.0",
            "_model_name": "HTMLModel",
            "_view_count": null,
            "_view_module": "@jupyter-widgets/controls",
            "_view_module_version": "1.5.0",
            "_view_name": "HTMLView",
            "description": "",
            "description_tooltip": null,
            "layout": "IPY_MODEL_1eb9de6733eb409b87153bb39c38b9a2",
            "placeholder": "​",
            "style": "IPY_MODEL_0141eafdd71b4a4cb0056afbff048f14",
            "value": " 878k/878k [00:00&lt;00:00, 2.15MB/s]"
          }
        },
        "ed2c7bf5a1a7410fb316b845d0a2ff95": {
          "model_module": "@jupyter-widgets/base",
          "model_name": "LayoutModel",
          "model_module_version": "1.2.0",
          "state": {
            "_model_module": "@jupyter-widgets/base",
            "_model_module_version": "1.2.0",
            "_model_name": "LayoutModel",
            "_view_count": null,
            "_view_module": "@jupyter-widgets/base",
            "_view_module_version": "1.2.0",
            "_view_name": "LayoutView",
            "align_content": null,
            "align_items": null,
            "align_self": null,
            "border": null,
            "bottom": null,
            "display": null,
            "flex": null,
            "flex_flow": null,
            "grid_area": null,
            "grid_auto_columns": null,
            "grid_auto_flow": null,
            "grid_auto_rows": null,
            "grid_column": null,
            "grid_gap": null,
            "grid_row": null,
            "grid_template_areas": null,
            "grid_template_columns": null,
            "grid_template_rows": null,
            "height": null,
            "justify_content": null,
            "justify_items": null,
            "left": null,
            "margin": null,
            "max_height": null,
            "max_width": null,
            "min_height": null,
            "min_width": null,
            "object_fit": null,
            "object_position": null,
            "order": null,
            "overflow": null,
            "overflow_x": null,
            "overflow_y": null,
            "padding": null,
            "right": null,
            "top": null,
            "visibility": null,
            "width": null
          }
        },
        "7a7faa34485d46769f3cc65ca7aef69d": {
          "model_module": "@jupyter-widgets/base",
          "model_name": "LayoutModel",
          "model_module_version": "1.2.0",
          "state": {
            "_model_module": "@jupyter-widgets/base",
            "_model_module_version": "1.2.0",
            "_model_name": "LayoutModel",
            "_view_count": null,
            "_view_module": "@jupyter-widgets/base",
            "_view_module_version": "1.2.0",
            "_view_name": "LayoutView",
            "align_content": null,
            "align_items": null,
            "align_self": null,
            "border": null,
            "bottom": null,
            "display": null,
            "flex": null,
            "flex_flow": null,
            "grid_area": null,
            "grid_auto_columns": null,
            "grid_auto_flow": null,
            "grid_auto_rows": null,
            "grid_column": null,
            "grid_gap": null,
            "grid_row": null,
            "grid_template_areas": null,
            "grid_template_columns": null,
            "grid_template_rows": null,
            "height": null,
            "justify_content": null,
            "justify_items": null,
            "left": null,
            "margin": null,
            "max_height": null,
            "max_width": null,
            "min_height": null,
            "min_width": null,
            "object_fit": null,
            "object_position": null,
            "order": null,
            "overflow": null,
            "overflow_x": null,
            "overflow_y": null,
            "padding": null,
            "right": null,
            "top": null,
            "visibility": null,
            "width": null
          }
        },
        "86366932c6b645c3a5e61c7ca4729d00": {
          "model_module": "@jupyter-widgets/controls",
          "model_name": "DescriptionStyleModel",
          "model_module_version": "1.5.0",
          "state": {
            "_model_module": "@jupyter-widgets/controls",
            "_model_module_version": "1.5.0",
            "_model_name": "DescriptionStyleModel",
            "_view_count": null,
            "_view_module": "@jupyter-widgets/base",
            "_view_module_version": "1.2.0",
            "_view_name": "StyleView",
            "description_width": ""
          }
        },
        "57fe3658a779417d96a4c9baaa4237d5": {
          "model_module": "@jupyter-widgets/base",
          "model_name": "LayoutModel",
          "model_module_version": "1.2.0",
          "state": {
            "_model_module": "@jupyter-widgets/base",
            "_model_module_version": "1.2.0",
            "_model_name": "LayoutModel",
            "_view_count": null,
            "_view_module": "@jupyter-widgets/base",
            "_view_module_version": "1.2.0",
            "_view_name": "LayoutView",
            "align_content": null,
            "align_items": null,
            "align_self": null,
            "border": null,
            "bottom": null,
            "display": null,
            "flex": null,
            "flex_flow": null,
            "grid_area": null,
            "grid_auto_columns": null,
            "grid_auto_flow": null,
            "grid_auto_rows": null,
            "grid_column": null,
            "grid_gap": null,
            "grid_row": null,
            "grid_template_areas": null,
            "grid_template_columns": null,
            "grid_template_rows": null,
            "height": null,
            "justify_content": null,
            "justify_items": null,
            "left": null,
            "margin": null,
            "max_height": null,
            "max_width": null,
            "min_height": null,
            "min_width": null,
            "object_fit": null,
            "object_position": null,
            "order": null,
            "overflow": null,
            "overflow_x": null,
            "overflow_y": null,
            "padding": null,
            "right": null,
            "top": null,
            "visibility": null,
            "width": null
          }
        },
        "83bdb552762c4f7ca827b9cd243a72f7": {
          "model_module": "@jupyter-widgets/controls",
          "model_name": "ProgressStyleModel",
          "model_module_version": "1.5.0",
          "state": {
            "_model_module": "@jupyter-widgets/controls",
            "_model_module_version": "1.5.0",
            "_model_name": "ProgressStyleModel",
            "_view_count": null,
            "_view_module": "@jupyter-widgets/base",
            "_view_module_version": "1.2.0",
            "_view_name": "StyleView",
            "bar_color": null,
            "description_width": ""
          }
        },
        "1eb9de6733eb409b87153bb39c38b9a2": {
          "model_module": "@jupyter-widgets/base",
          "model_name": "LayoutModel",
          "model_module_version": "1.2.0",
          "state": {
            "_model_module": "@jupyter-widgets/base",
            "_model_module_version": "1.2.0",
            "_model_name": "LayoutModel",
            "_view_count": null,
            "_view_module": "@jupyter-widgets/base",
            "_view_module_version": "1.2.0",
            "_view_name": "LayoutView",
            "align_content": null,
            "align_items": null,
            "align_self": null,
            "border": null,
            "bottom": null,
            "display": null,
            "flex": null,
            "flex_flow": null,
            "grid_area": null,
            "grid_auto_columns": null,
            "grid_auto_flow": null,
            "grid_auto_rows": null,
            "grid_column": null,
            "grid_gap": null,
            "grid_row": null,
            "grid_template_areas": null,
            "grid_template_columns": null,
            "grid_template_rows": null,
            "height": null,
            "justify_content": null,
            "justify_items": null,
            "left": null,
            "margin": null,
            "max_height": null,
            "max_width": null,
            "min_height": null,
            "min_width": null,
            "object_fit": null,
            "object_position": null,
            "order": null,
            "overflow": null,
            "overflow_x": null,
            "overflow_y": null,
            "padding": null,
            "right": null,
            "top": null,
            "visibility": null,
            "width": null
          }
        },
        "0141eafdd71b4a4cb0056afbff048f14": {
          "model_module": "@jupyter-widgets/controls",
          "model_name": "DescriptionStyleModel",
          "model_module_version": "1.5.0",
          "state": {
            "_model_module": "@jupyter-widgets/controls",
            "_model_module_version": "1.5.0",
            "_model_name": "DescriptionStyleModel",
            "_view_count": null,
            "_view_module": "@jupyter-widgets/base",
            "_view_module_version": "1.2.0",
            "_view_name": "StyleView",
            "description_width": ""
          }
        },
        "caa8aacd3f06469b9a631c6206efc4b5": {
          "model_module": "@jupyter-widgets/controls",
          "model_name": "HBoxModel",
          "model_module_version": "1.5.0",
          "state": {
            "_dom_classes": [],
            "_model_module": "@jupyter-widgets/controls",
            "_model_module_version": "1.5.0",
            "_model_name": "HBoxModel",
            "_view_count": null,
            "_view_module": "@jupyter-widgets/controls",
            "_view_module_version": "1.5.0",
            "_view_name": "HBoxView",
            "box_style": "",
            "children": [
              "IPY_MODEL_c2eb877c7834482088f8dd6d99d7c94f",
              "IPY_MODEL_9ebbcd49b8d94fe98815face8d86b7f1",
              "IPY_MODEL_715119141a7f494a8496d82868a44f0e"
            ],
            "layout": "IPY_MODEL_ee22325678974340bc3128a9f972c440"
          }
        },
        "c2eb877c7834482088f8dd6d99d7c94f": {
          "model_module": "@jupyter-widgets/controls",
          "model_name": "HTMLModel",
          "model_module_version": "1.5.0",
          "state": {
            "_dom_classes": [],
            "_model_module": "@jupyter-widgets/controls",
            "_model_module_version": "1.5.0",
            "_model_name": "HTMLModel",
            "_view_count": null,
            "_view_module": "@jupyter-widgets/controls",
            "_view_module_version": "1.5.0",
            "_view_name": "HTMLView",
            "description": "",
            "description_tooltip": null,
            "layout": "IPY_MODEL_aca4971217644d86be74e1b25b73c985",
            "placeholder": "​",
            "style": "IPY_MODEL_c54111768e7b4abbb0c04620662a95d0",
            "value": "Downloading merges.txt: 100%"
          }
        },
        "9ebbcd49b8d94fe98815face8d86b7f1": {
          "model_module": "@jupyter-widgets/controls",
          "model_name": "FloatProgressModel",
          "model_module_version": "1.5.0",
          "state": {
            "_dom_classes": [],
            "_model_module": "@jupyter-widgets/controls",
            "_model_module_version": "1.5.0",
            "_model_name": "FloatProgressModel",
            "_view_count": null,
            "_view_module": "@jupyter-widgets/controls",
            "_view_module_version": "1.5.0",
            "_view_name": "ProgressView",
            "bar_style": "success",
            "description": "",
            "description_tooltip": null,
            "layout": "IPY_MODEL_ec5c922fd4e2471e8baa331f4cd4294f",
            "max": 456318,
            "min": 0,
            "orientation": "horizontal",
            "style": "IPY_MODEL_799551901d294cd8a1876177ed1c76f4",
            "value": 456318
          }
        },
        "715119141a7f494a8496d82868a44f0e": {
          "model_module": "@jupyter-widgets/controls",
          "model_name": "HTMLModel",
          "model_module_version": "1.5.0",
          "state": {
            "_dom_classes": [],
            "_model_module": "@jupyter-widgets/controls",
            "_model_module_version": "1.5.0",
            "_model_name": "HTMLModel",
            "_view_count": null,
            "_view_module": "@jupyter-widgets/controls",
            "_view_module_version": "1.5.0",
            "_view_name": "HTMLView",
            "description": "",
            "description_tooltip": null,
            "layout": "IPY_MODEL_c48a1bf2be374770ac23641963be6762",
            "placeholder": "​",
            "style": "IPY_MODEL_62711eccbd2741f1885b7de61edc79c5",
            "value": " 446k/446k [00:00&lt;00:00, 625kB/s]"
          }
        },
        "ee22325678974340bc3128a9f972c440": {
          "model_module": "@jupyter-widgets/base",
          "model_name": "LayoutModel",
          "model_module_version": "1.2.0",
          "state": {
            "_model_module": "@jupyter-widgets/base",
            "_model_module_version": "1.2.0",
            "_model_name": "LayoutModel",
            "_view_count": null,
            "_view_module": "@jupyter-widgets/base",
            "_view_module_version": "1.2.0",
            "_view_name": "LayoutView",
            "align_content": null,
            "align_items": null,
            "align_self": null,
            "border": null,
            "bottom": null,
            "display": null,
            "flex": null,
            "flex_flow": null,
            "grid_area": null,
            "grid_auto_columns": null,
            "grid_auto_flow": null,
            "grid_auto_rows": null,
            "grid_column": null,
            "grid_gap": null,
            "grid_row": null,
            "grid_template_areas": null,
            "grid_template_columns": null,
            "grid_template_rows": null,
            "height": null,
            "justify_content": null,
            "justify_items": null,
            "left": null,
            "margin": null,
            "max_height": null,
            "max_width": null,
            "min_height": null,
            "min_width": null,
            "object_fit": null,
            "object_position": null,
            "order": null,
            "overflow": null,
            "overflow_x": null,
            "overflow_y": null,
            "padding": null,
            "right": null,
            "top": null,
            "visibility": null,
            "width": null
          }
        },
        "aca4971217644d86be74e1b25b73c985": {
          "model_module": "@jupyter-widgets/base",
          "model_name": "LayoutModel",
          "model_module_version": "1.2.0",
          "state": {
            "_model_module": "@jupyter-widgets/base",
            "_model_module_version": "1.2.0",
            "_model_name": "LayoutModel",
            "_view_count": null,
            "_view_module": "@jupyter-widgets/base",
            "_view_module_version": "1.2.0",
            "_view_name": "LayoutView",
            "align_content": null,
            "align_items": null,
            "align_self": null,
            "border": null,
            "bottom": null,
            "display": null,
            "flex": null,
            "flex_flow": null,
            "grid_area": null,
            "grid_auto_columns": null,
            "grid_auto_flow": null,
            "grid_auto_rows": null,
            "grid_column": null,
            "grid_gap": null,
            "grid_row": null,
            "grid_template_areas": null,
            "grid_template_columns": null,
            "grid_template_rows": null,
            "height": null,
            "justify_content": null,
            "justify_items": null,
            "left": null,
            "margin": null,
            "max_height": null,
            "max_width": null,
            "min_height": null,
            "min_width": null,
            "object_fit": null,
            "object_position": null,
            "order": null,
            "overflow": null,
            "overflow_x": null,
            "overflow_y": null,
            "padding": null,
            "right": null,
            "top": null,
            "visibility": null,
            "width": null
          }
        },
        "c54111768e7b4abbb0c04620662a95d0": {
          "model_module": "@jupyter-widgets/controls",
          "model_name": "DescriptionStyleModel",
          "model_module_version": "1.5.0",
          "state": {
            "_model_module": "@jupyter-widgets/controls",
            "_model_module_version": "1.5.0",
            "_model_name": "DescriptionStyleModel",
            "_view_count": null,
            "_view_module": "@jupyter-widgets/base",
            "_view_module_version": "1.2.0",
            "_view_name": "StyleView",
            "description_width": ""
          }
        },
        "ec5c922fd4e2471e8baa331f4cd4294f": {
          "model_module": "@jupyter-widgets/base",
          "model_name": "LayoutModel",
          "model_module_version": "1.2.0",
          "state": {
            "_model_module": "@jupyter-widgets/base",
            "_model_module_version": "1.2.0",
            "_model_name": "LayoutModel",
            "_view_count": null,
            "_view_module": "@jupyter-widgets/base",
            "_view_module_version": "1.2.0",
            "_view_name": "LayoutView",
            "align_content": null,
            "align_items": null,
            "align_self": null,
            "border": null,
            "bottom": null,
            "display": null,
            "flex": null,
            "flex_flow": null,
            "grid_area": null,
            "grid_auto_columns": null,
            "grid_auto_flow": null,
            "grid_auto_rows": null,
            "grid_column": null,
            "grid_gap": null,
            "grid_row": null,
            "grid_template_areas": null,
            "grid_template_columns": null,
            "grid_template_rows": null,
            "height": null,
            "justify_content": null,
            "justify_items": null,
            "left": null,
            "margin": null,
            "max_height": null,
            "max_width": null,
            "min_height": null,
            "min_width": null,
            "object_fit": null,
            "object_position": null,
            "order": null,
            "overflow": null,
            "overflow_x": null,
            "overflow_y": null,
            "padding": null,
            "right": null,
            "top": null,
            "visibility": null,
            "width": null
          }
        },
        "799551901d294cd8a1876177ed1c76f4": {
          "model_module": "@jupyter-widgets/controls",
          "model_name": "ProgressStyleModel",
          "model_module_version": "1.5.0",
          "state": {
            "_model_module": "@jupyter-widgets/controls",
            "_model_module_version": "1.5.0",
            "_model_name": "ProgressStyleModel",
            "_view_count": null,
            "_view_module": "@jupyter-widgets/base",
            "_view_module_version": "1.2.0",
            "_view_name": "StyleView",
            "bar_color": null,
            "description_width": ""
          }
        },
        "c48a1bf2be374770ac23641963be6762": {
          "model_module": "@jupyter-widgets/base",
          "model_name": "LayoutModel",
          "model_module_version": "1.2.0",
          "state": {
            "_model_module": "@jupyter-widgets/base",
            "_model_module_version": "1.2.0",
            "_model_name": "LayoutModel",
            "_view_count": null,
            "_view_module": "@jupyter-widgets/base",
            "_view_module_version": "1.2.0",
            "_view_name": "LayoutView",
            "align_content": null,
            "align_items": null,
            "align_self": null,
            "border": null,
            "bottom": null,
            "display": null,
            "flex": null,
            "flex_flow": null,
            "grid_area": null,
            "grid_auto_columns": null,
            "grid_auto_flow": null,
            "grid_auto_rows": null,
            "grid_column": null,
            "grid_gap": null,
            "grid_row": null,
            "grid_template_areas": null,
            "grid_template_columns": null,
            "grid_template_rows": null,
            "height": null,
            "justify_content": null,
            "justify_items": null,
            "left": null,
            "margin": null,
            "max_height": null,
            "max_width": null,
            "min_height": null,
            "min_width": null,
            "object_fit": null,
            "object_position": null,
            "order": null,
            "overflow": null,
            "overflow_x": null,
            "overflow_y": null,
            "padding": null,
            "right": null,
            "top": null,
            "visibility": null,
            "width": null
          }
        },
        "62711eccbd2741f1885b7de61edc79c5": {
          "model_module": "@jupyter-widgets/controls",
          "model_name": "DescriptionStyleModel",
          "model_module_version": "1.5.0",
          "state": {
            "_model_module": "@jupyter-widgets/controls",
            "_model_module_version": "1.5.0",
            "_model_name": "DescriptionStyleModel",
            "_view_count": null,
            "_view_module": "@jupyter-widgets/base",
            "_view_module_version": "1.2.0",
            "_view_name": "StyleView",
            "description_width": ""
          }
        },
        "63f9ff253a674398bbaa574b3d832111": {
          "model_module": "@jupyter-widgets/controls",
          "model_name": "HBoxModel",
          "model_module_version": "1.5.0",
          "state": {
            "_dom_classes": [],
            "_model_module": "@jupyter-widgets/controls",
            "_model_module_version": "1.5.0",
            "_model_name": "HBoxModel",
            "_view_count": null,
            "_view_module": "@jupyter-widgets/controls",
            "_view_module_version": "1.5.0",
            "_view_name": "HBoxView",
            "box_style": "",
            "children": [
              "IPY_MODEL_ae8e840ac48647a9a0056032b5eaf51d",
              "IPY_MODEL_24fa61cedf224c56982f32335cad0b51",
              "IPY_MODEL_c2adf246b4ad40eeb2f58e54849560e4"
            ],
            "layout": "IPY_MODEL_b9ff9d824fd841ffa7cc1da1ec3d2a0f"
          }
        },
        "ae8e840ac48647a9a0056032b5eaf51d": {
          "model_module": "@jupyter-widgets/controls",
          "model_name": "HTMLModel",
          "model_module_version": "1.5.0",
          "state": {
            "_dom_classes": [],
            "_model_module": "@jupyter-widgets/controls",
            "_model_module_version": "1.5.0",
            "_model_name": "HTMLModel",
            "_view_count": null,
            "_view_module": "@jupyter-widgets/controls",
            "_view_module_version": "1.5.0",
            "_view_name": "HTMLView",
            "description": "",
            "description_tooltip": null,
            "layout": "IPY_MODEL_3225f0f1b5bc4e6685cd11fc83a39279",
            "placeholder": "​",
            "style": "IPY_MODEL_c7ec3ea50c344637a5aa1ee05d5345e4",
            "value": "Downloading pytorch_model.bin: 100%"
          }
        },
        "24fa61cedf224c56982f32335cad0b51": {
          "model_module": "@jupyter-widgets/controls",
          "model_name": "FloatProgressModel",
          "model_module_version": "1.5.0",
          "state": {
            "_dom_classes": [],
            "_model_module": "@jupyter-widgets/controls",
            "_model_module_version": "1.5.0",
            "_model_name": "FloatProgressModel",
            "_view_count": null,
            "_view_module": "@jupyter-widgets/controls",
            "_view_module_version": "1.5.0",
            "_view_name": "ProgressView",
            "bar_style": "success",
            "description": "",
            "description_tooltip": null,
            "layout": "IPY_MODEL_1bb12dad781a492eac909de1a5a62132",
            "max": 1425941629,
            "min": 0,
            "orientation": "horizontal",
            "style": "IPY_MODEL_f91aaf399e66452b906d283fa32b6df5",
            "value": 1425941629
          }
        },
        "c2adf246b4ad40eeb2f58e54849560e4": {
          "model_module": "@jupyter-widgets/controls",
          "model_name": "HTMLModel",
          "model_module_version": "1.5.0",
          "state": {
            "_dom_classes": [],
            "_model_module": "@jupyter-widgets/controls",
            "_model_module_version": "1.5.0",
            "_model_name": "HTMLModel",
            "_view_count": null,
            "_view_module": "@jupyter-widgets/controls",
            "_view_module_version": "1.5.0",
            "_view_name": "HTMLView",
            "description": "",
            "description_tooltip": null,
            "layout": "IPY_MODEL_b9fb83a2b97b498cbb3bd365fb0df810",
            "placeholder": "​",
            "style": "IPY_MODEL_3af4f45b55584085a4907739bbbf544d",
            "value": " 1.33G/1.33G [00:24&lt;00:00, 62.1MB/s]"
          }
        },
        "b9ff9d824fd841ffa7cc1da1ec3d2a0f": {
          "model_module": "@jupyter-widgets/base",
          "model_name": "LayoutModel",
          "model_module_version": "1.2.0",
          "state": {
            "_model_module": "@jupyter-widgets/base",
            "_model_module_version": "1.2.0",
            "_model_name": "LayoutModel",
            "_view_count": null,
            "_view_module": "@jupyter-widgets/base",
            "_view_module_version": "1.2.0",
            "_view_name": "LayoutView",
            "align_content": null,
            "align_items": null,
            "align_self": null,
            "border": null,
            "bottom": null,
            "display": null,
            "flex": null,
            "flex_flow": null,
            "grid_area": null,
            "grid_auto_columns": null,
            "grid_auto_flow": null,
            "grid_auto_rows": null,
            "grid_column": null,
            "grid_gap": null,
            "grid_row": null,
            "grid_template_areas": null,
            "grid_template_columns": null,
            "grid_template_rows": null,
            "height": null,
            "justify_content": null,
            "justify_items": null,
            "left": null,
            "margin": null,
            "max_height": null,
            "max_width": null,
            "min_height": null,
            "min_width": null,
            "object_fit": null,
            "object_position": null,
            "order": null,
            "overflow": null,
            "overflow_x": null,
            "overflow_y": null,
            "padding": null,
            "right": null,
            "top": null,
            "visibility": null,
            "width": null
          }
        },
        "3225f0f1b5bc4e6685cd11fc83a39279": {
          "model_module": "@jupyter-widgets/base",
          "model_name": "LayoutModel",
          "model_module_version": "1.2.0",
          "state": {
            "_model_module": "@jupyter-widgets/base",
            "_model_module_version": "1.2.0",
            "_model_name": "LayoutModel",
            "_view_count": null,
            "_view_module": "@jupyter-widgets/base",
            "_view_module_version": "1.2.0",
            "_view_name": "LayoutView",
            "align_content": null,
            "align_items": null,
            "align_self": null,
            "border": null,
            "bottom": null,
            "display": null,
            "flex": null,
            "flex_flow": null,
            "grid_area": null,
            "grid_auto_columns": null,
            "grid_auto_flow": null,
            "grid_auto_rows": null,
            "grid_column": null,
            "grid_gap": null,
            "grid_row": null,
            "grid_template_areas": null,
            "grid_template_columns": null,
            "grid_template_rows": null,
            "height": null,
            "justify_content": null,
            "justify_items": null,
            "left": null,
            "margin": null,
            "max_height": null,
            "max_width": null,
            "min_height": null,
            "min_width": null,
            "object_fit": null,
            "object_position": null,
            "order": null,
            "overflow": null,
            "overflow_x": null,
            "overflow_y": null,
            "padding": null,
            "right": null,
            "top": null,
            "visibility": null,
            "width": null
          }
        },
        "c7ec3ea50c344637a5aa1ee05d5345e4": {
          "model_module": "@jupyter-widgets/controls",
          "model_name": "DescriptionStyleModel",
          "model_module_version": "1.5.0",
          "state": {
            "_model_module": "@jupyter-widgets/controls",
            "_model_module_version": "1.5.0",
            "_model_name": "DescriptionStyleModel",
            "_view_count": null,
            "_view_module": "@jupyter-widgets/base",
            "_view_module_version": "1.2.0",
            "_view_name": "StyleView",
            "description_width": ""
          }
        },
        "1bb12dad781a492eac909de1a5a62132": {
          "model_module": "@jupyter-widgets/base",
          "model_name": "LayoutModel",
          "model_module_version": "1.2.0",
          "state": {
            "_model_module": "@jupyter-widgets/base",
            "_model_module_version": "1.2.0",
            "_model_name": "LayoutModel",
            "_view_count": null,
            "_view_module": "@jupyter-widgets/base",
            "_view_module_version": "1.2.0",
            "_view_name": "LayoutView",
            "align_content": null,
            "align_items": null,
            "align_self": null,
            "border": null,
            "bottom": null,
            "display": null,
            "flex": null,
            "flex_flow": null,
            "grid_area": null,
            "grid_auto_columns": null,
            "grid_auto_flow": null,
            "grid_auto_rows": null,
            "grid_column": null,
            "grid_gap": null,
            "grid_row": null,
            "grid_template_areas": null,
            "grid_template_columns": null,
            "grid_template_rows": null,
            "height": null,
            "justify_content": null,
            "justify_items": null,
            "left": null,
            "margin": null,
            "max_height": null,
            "max_width": null,
            "min_height": null,
            "min_width": null,
            "object_fit": null,
            "object_position": null,
            "order": null,
            "overflow": null,
            "overflow_x": null,
            "overflow_y": null,
            "padding": null,
            "right": null,
            "top": null,
            "visibility": null,
            "width": null
          }
        },
        "f91aaf399e66452b906d283fa32b6df5": {
          "model_module": "@jupyter-widgets/controls",
          "model_name": "ProgressStyleModel",
          "model_module_version": "1.5.0",
          "state": {
            "_model_module": "@jupyter-widgets/controls",
            "_model_module_version": "1.5.0",
            "_model_name": "ProgressStyleModel",
            "_view_count": null,
            "_view_module": "@jupyter-widgets/base",
            "_view_module_version": "1.2.0",
            "_view_name": "StyleView",
            "bar_color": null,
            "description_width": ""
          }
        },
        "b9fb83a2b97b498cbb3bd365fb0df810": {
          "model_module": "@jupyter-widgets/base",
          "model_name": "LayoutModel",
          "model_module_version": "1.2.0",
          "state": {
            "_model_module": "@jupyter-widgets/base",
            "_model_module_version": "1.2.0",
            "_model_name": "LayoutModel",
            "_view_count": null,
            "_view_module": "@jupyter-widgets/base",
            "_view_module_version": "1.2.0",
            "_view_name": "LayoutView",
            "align_content": null,
            "align_items": null,
            "align_self": null,
            "border": null,
            "bottom": null,
            "display": null,
            "flex": null,
            "flex_flow": null,
            "grid_area": null,
            "grid_auto_columns": null,
            "grid_auto_flow": null,
            "grid_auto_rows": null,
            "grid_column": null,
            "grid_gap": null,
            "grid_row": null,
            "grid_template_areas": null,
            "grid_template_columns": null,
            "grid_template_rows": null,
            "height": null,
            "justify_content": null,
            "justify_items": null,
            "left": null,
            "margin": null,
            "max_height": null,
            "max_width": null,
            "min_height": null,
            "min_width": null,
            "object_fit": null,
            "object_position": null,
            "order": null,
            "overflow": null,
            "overflow_x": null,
            "overflow_y": null,
            "padding": null,
            "right": null,
            "top": null,
            "visibility": null,
            "width": null
          }
        },
        "3af4f45b55584085a4907739bbbf544d": {
          "model_module": "@jupyter-widgets/controls",
          "model_name": "DescriptionStyleModel",
          "model_module_version": "1.5.0",
          "state": {
            "_model_module": "@jupyter-widgets/controls",
            "_model_module_version": "1.5.0",
            "_model_name": "DescriptionStyleModel",
            "_view_count": null,
            "_view_module": "@jupyter-widgets/base",
            "_view_module_version": "1.2.0",
            "_view_name": "StyleView",
            "description_width": ""
          }
        }
      }
    },
    "accelerator": "GPU",
    "gpuClass": "standard"
  },
  "cells": [
    {
      "cell_type": "markdown",
      "metadata": {
        "id": "view-in-github",
        "colab_type": "text"
      },
      "source": [
        "<a href=\"https://colab.research.google.com/github/aislinblack/CS6120-NLP-Project/blob/main/albert/Albert.ipynb\" target=\"_parent\"><img src=\"https://colab.research.google.com/assets/colab-badge.svg\" alt=\"Open In Colab\"/></a>"
      ]
    },
    {
      "cell_type": "code",
      "execution_count": null,
      "metadata": {
        "id": "ox2B6F1TehHK"
      },
      "outputs": [],
      "source": [
        ""
      ]
    },
    {
      "cell_type": "markdown",
      "metadata": {
        "id": "1qfQAtRsMVl7"
      },
      "source": [
        "# Question and Answering with ALBERT\n",
        "\n",
        "Based on the following jupyter notebook https://colab.research.google.com/github/spark-ming/albert-qa-demo/blob/master/Question_Answering_with_ALBERT.ipynb#scrollTo=1qfQAtRsMVl7\n",
        "\n",
        "## Introduction to ALBERT\n",
        "\n",
        "\n",
        "ALBERT stands for A Lite BERT and is a modified version of BERT NLP model. It builds on three key points such as Parameter Sharing, Embedding Factorization and Sentence Order Prediction (SOP). \n",
        "\n",
        "\n",
        "\n"
      ]
    },
    {
      "cell_type": "markdown",
      "metadata": {
        "id": "sBBHbGvQN5vX"
      },
      "source": [
        "## 1.0 Setup\n",
        "\n",
        "Let's check out what kind of GPU our friends at Google gave us. This notebook should be configured to give you a P100 😃 (saved in metadata)"
      ]
    },
    {
      "cell_type": "code",
      "metadata": {
        "id": "frTeTcy4WdbY",
        "colab": {
          "base_uri": "https://localhost:8080/"
        },
        "outputId": "97ae40e0-d2e2-438e-ddae-5a40c9588cb0"
      },
      "source": [
        "!nvidia-smi"
      ],
      "execution_count": null,
      "outputs": [
        {
          "output_type": "stream",
          "name": "stdout",
          "text": [
            "Sun Jul 31 15:16:03 2022       \n",
            "+-----------------------------------------------------------------------------+\n",
            "| NVIDIA-SMI 460.32.03    Driver Version: 460.32.03    CUDA Version: 11.2     |\n",
            "|-------------------------------+----------------------+----------------------+\n",
            "| GPU  Name        Persistence-M| Bus-Id        Disp.A | Volatile Uncorr. ECC |\n",
            "| Fan  Temp  Perf  Pwr:Usage/Cap|         Memory-Usage | GPU-Util  Compute M. |\n",
            "|                               |                      |               MIG M. |\n",
            "|===============================+======================+======================|\n",
            "|   0  Tesla P100-PCIE...  Off  | 00000000:00:04.0 Off |                    0 |\n",
            "| N/A   35C    P0    26W / 250W |      0MiB / 16280MiB |      0%      Default |\n",
            "|                               |                      |                  N/A |\n",
            "+-------------------------------+----------------------+----------------------+\n",
            "                                                                               \n",
            "+-----------------------------------------------------------------------------+\n",
            "| Processes:                                                                  |\n",
            "|  GPU   GI   CI        PID   Type   Process name                  GPU Memory |\n",
            "|        ID   ID                                                   Usage      |\n",
            "|=============================================================================|\n",
            "|  No running processes found                                                 |\n",
            "+-----------------------------------------------------------------------------+\n"
          ]
        }
      ]
    },
    {
      "cell_type": "markdown",
      "metadata": {
        "id": "D5RImM3oWbrZ"
      },
      "source": [
        "First, we clone the Hugging Face transformer library from Github"
      ]
    },
    {
      "cell_type": "code",
      "metadata": {
        "id": "QOAoUwBFMQCg",
        "colab": {
          "base_uri": "https://localhost:8080/"
        },
        "outputId": "8335ef77-a9b7-4821-9efd-3ce4600c0565"
      },
      "source": [
        "!git clone https://github.com/huggingface/transformers \\\n",
        "&& cd transformers \\\n",
        "&& git checkout a3085020ed0d81d4903c50967687192e3101e770 "
      ],
      "execution_count": null,
      "outputs": [
        {
          "output_type": "stream",
          "name": "stdout",
          "text": [
            "Cloning into 'transformers'...\n",
            "remote: Enumerating objects: 102756, done.\u001b[K\n",
            "remote: Counting objects: 100% (641/641), done.\u001b[K\n",
            "remote: Compressing objects: 100% (238/238), done.\u001b[K\n",
            "remote: Total 102756 (delta 393), reused 481 (delta 330), pack-reused 102115\u001b[K\n",
            "Receiving objects: 100% (102756/102756), 95.98 MiB | 29.90 MiB/s, done.\n",
            "Resolving deltas: 100% (75801/75801), done.\n",
            "Note: checking out 'a3085020ed0d81d4903c50967687192e3101e770'.\n",
            "\n",
            "You are in 'detached HEAD' state. You can look around, make experimental\n",
            "changes and commit them, and you can discard any commits you make in this\n",
            "state without impacting any branches by performing another checkout.\n",
            "\n",
            "If you want to create a new branch to retain commits you create, you may\n",
            "do so (now or later) by using -b with the checkout command again. Example:\n",
            "\n",
            "  git checkout -b <new-branch-name>\n",
            "\n",
            "HEAD is now at a3085020e Added repetition penalty to PPLM example (#2436)\n"
          ]
        }
      ]
    },
    {
      "cell_type": "code",
      "metadata": {
        "id": "TRZned-8WJrj",
        "colab": {
          "base_uri": "https://localhost:8080/"
        },
        "outputId": "162ddc5f-06a9-4b57-cd43-774aef943afd"
      },
      "source": [
        "!pip install ./transformers\n",
        "!pip install tensorboardX"
      ],
      "execution_count": null,
      "outputs": [
        {
          "output_type": "stream",
          "name": "stdout",
          "text": [
            "Looking in indexes: https://pypi.org/simple, https://us-python.pkg.dev/colab-wheels/public/simple/\n",
            "Processing ./transformers\n",
            "\u001b[33m  DEPRECATION: A future pip version will change local packages to be built in-place without first copying to a temporary directory. We recommend you use --use-feature=in-tree-build to test your packages with this new behavior before it becomes the default.\n",
            "   pip 21.3 will remove support for this functionality. You can find discussion regarding this at https://github.com/pypa/pip/issues/7555.\u001b[0m\n",
            "Requirement already satisfied: numpy in /usr/local/lib/python3.7/dist-packages (from transformers==2.3.0) (1.21.6)\n",
            "Collecting tokenizers==0.0.11\n",
            "  Downloading tokenizers-0.0.11-cp37-cp37m-manylinux1_x86_64.whl (4.7 MB)\n",
            "\u001b[K     |████████████████████████████████| 4.7 MB 4.9 MB/s \n",
            "\u001b[?25hCollecting boto3\n",
            "  Downloading boto3-1.24.42-py3-none-any.whl (132 kB)\n",
            "\u001b[K     |████████████████████████████████| 132 kB 60.8 MB/s \n",
            "\u001b[?25hRequirement already satisfied: filelock in /usr/local/lib/python3.7/dist-packages (from transformers==2.3.0) (3.7.1)\n",
            "Requirement already satisfied: requests in /usr/local/lib/python3.7/dist-packages (from transformers==2.3.0) (2.23.0)\n",
            "Requirement already satisfied: tqdm in /usr/local/lib/python3.7/dist-packages (from transformers==2.3.0) (4.64.0)\n",
            "Requirement already satisfied: regex!=2019.12.17 in /usr/local/lib/python3.7/dist-packages (from transformers==2.3.0) (2022.6.2)\n",
            "Collecting sentencepiece\n",
            "  Downloading sentencepiece-0.1.96-cp37-cp37m-manylinux_2_17_x86_64.manylinux2014_x86_64.whl (1.2 MB)\n",
            "\u001b[K     |████████████████████████████████| 1.2 MB 66.2 MB/s \n",
            "\u001b[?25hCollecting sacremoses\n",
            "  Downloading sacremoses-0.0.53.tar.gz (880 kB)\n",
            "\u001b[K     |████████████████████████████████| 880 kB 54.2 MB/s \n",
            "\u001b[?25hCollecting s3transfer<0.7.0,>=0.6.0\n",
            "  Downloading s3transfer-0.6.0-py3-none-any.whl (79 kB)\n",
            "\u001b[K     |████████████████████████████████| 79 kB 9.2 MB/s \n",
            "\u001b[?25hCollecting jmespath<2.0.0,>=0.7.1\n",
            "  Downloading jmespath-1.0.1-py3-none-any.whl (20 kB)\n",
            "Collecting botocore<1.28.0,>=1.27.42\n",
            "  Downloading botocore-1.27.42-py3-none-any.whl (9.0 MB)\n",
            "\u001b[K     |████████████████████████████████| 9.0 MB 49.7 MB/s \n",
            "\u001b[?25hRequirement already satisfied: python-dateutil<3.0.0,>=2.1 in /usr/local/lib/python3.7/dist-packages (from botocore<1.28.0,>=1.27.42->boto3->transformers==2.3.0) (2.8.2)\n",
            "Collecting urllib3<1.27,>=1.25.4\n",
            "  Downloading urllib3-1.26.11-py2.py3-none-any.whl (139 kB)\n",
            "\u001b[K     |████████████████████████████████| 139 kB 74.9 MB/s \n",
            "\u001b[?25hRequirement already satisfied: six>=1.5 in /usr/local/lib/python3.7/dist-packages (from python-dateutil<3.0.0,>=2.1->botocore<1.28.0,>=1.27.42->boto3->transformers==2.3.0) (1.15.0)\n",
            "  Downloading urllib3-1.25.11-py2.py3-none-any.whl (127 kB)\n",
            "\u001b[K     |████████████████████████████████| 127 kB 72.7 MB/s \n",
            "\u001b[?25hRequirement already satisfied: chardet<4,>=3.0.2 in /usr/local/lib/python3.7/dist-packages (from requests->transformers==2.3.0) (3.0.4)\n",
            "Requirement already satisfied: certifi>=2017.4.17 in /usr/local/lib/python3.7/dist-packages (from requests->transformers==2.3.0) (2022.6.15)\n",
            "Requirement already satisfied: idna<3,>=2.5 in /usr/local/lib/python3.7/dist-packages (from requests->transformers==2.3.0) (2.10)\n",
            "Requirement already satisfied: click in /usr/local/lib/python3.7/dist-packages (from sacremoses->transformers==2.3.0) (7.1.2)\n",
            "Requirement already satisfied: joblib in /usr/local/lib/python3.7/dist-packages (from sacremoses->transformers==2.3.0) (1.1.0)\n",
            "Building wheels for collected packages: transformers, sacremoses\n",
            "  Building wheel for transformers (setup.py) ... \u001b[?25l\u001b[?25hdone\n",
            "  Created wheel for transformers: filename=transformers-2.3.0-py3-none-any.whl size=458565 sha256=33b5e61d599a0841a909bacd8cbba53545e00e9a02fef2a64b351ebc0dabe397\n",
            "  Stored in directory: /tmp/pip-ephem-wheel-cache-prfga0wj/wheels/49/62/f4/6730819eed4e6468662b1519bf3bf46419b2335990c77f8767\n",
            "  Building wheel for sacremoses (setup.py) ... \u001b[?25l\u001b[?25hdone\n",
            "  Created wheel for sacremoses: filename=sacremoses-0.0.53-py3-none-any.whl size=895260 sha256=b0214fd20d1eb46570879c90f1ed4de56ca9e13432fe4bf017d939f429ff1642\n",
            "  Stored in directory: /root/.cache/pip/wheels/87/39/dd/a83eeef36d0bf98e7a4d1933a4ad2d660295a40613079bafc9\n",
            "Successfully built transformers sacremoses\n",
            "Installing collected packages: urllib3, jmespath, botocore, s3transfer, tokenizers, sentencepiece, sacremoses, boto3, transformers\n",
            "  Attempting uninstall: urllib3\n",
            "    Found existing installation: urllib3 1.24.3\n",
            "    Uninstalling urllib3-1.24.3:\n",
            "      Successfully uninstalled urllib3-1.24.3\n",
            "\u001b[31mERROR: pip's dependency resolver does not currently take into account all the packages that are installed. This behaviour is the source of the following dependency conflicts.\n",
            "datascience 0.10.6 requires folium==0.2.1, but you have folium 0.8.3 which is incompatible.\u001b[0m\n",
            "Successfully installed boto3-1.24.42 botocore-1.27.42 jmespath-1.0.1 s3transfer-0.6.0 sacremoses-0.0.53 sentencepiece-0.1.96 tokenizers-0.0.11 transformers-2.3.0 urllib3-1.25.11\n",
            "Looking in indexes: https://pypi.org/simple, https://us-python.pkg.dev/colab-wheels/public/simple/\n",
            "Collecting tensorboardX\n",
            "  Downloading tensorboardX-2.5.1-py2.py3-none-any.whl (125 kB)\n",
            "\u001b[K     |████████████████████████████████| 125 kB 5.1 MB/s \n",
            "\u001b[?25hRequirement already satisfied: protobuf<=3.20.1,>=3.8.0 in /usr/local/lib/python3.7/dist-packages (from tensorboardX) (3.17.3)\n",
            "Requirement already satisfied: numpy in /usr/local/lib/python3.7/dist-packages (from tensorboardX) (1.21.6)\n",
            "Requirement already satisfied: six>=1.9 in /usr/local/lib/python3.7/dist-packages (from protobuf<=3.20.1,>=3.8.0->tensorboardX) (1.15.0)\n",
            "Installing collected packages: tensorboardX\n",
            "Successfully installed tensorboardX-2.5.1\n"
          ]
        }
      ]
    },
    {
      "cell_type": "markdown",
      "metadata": {
        "id": "UHCuzhPptH0M"
      },
      "source": [
        "## 2.0 Train Model\n",
        "\n",
        "Now, we could definitely train our own model (and you can see how to do that in the other linked jupyter notebook), but it would take a really long time, and because of this hugging face lets us borrow a pretrained albert model which was already trained on the SQuAD dataset.\n",
        "\n",
        "The tutorial lets us know that it takes about 1.5 hours per epoch to train ALBERT on SQuAD because the dataset is so large.\n",
        "\n"
      ]
    },
    {
      "cell_type": "markdown",
      "metadata": {
        "id": "-JCNRkQwUD56"
      },
      "source": [
        "## 3.0 Setup prediction code\n",
        "\n",
        "Now we can use the Hugging Face library to make predictions using our newly trained model. Note that a lot of the code is pulled from `run_squad.py` in the Hugging Face repository, with all the training parts removed. This modified code allows to run predictions we pass in directly as strings, rather .json format like the training/test set.\n",
        "\n",
        "NOTE if you decided train your own mode, change the flag `use_own_model` to `True`\n"
      ]
    },
    {
      "cell_type": "code",
      "metadata": {
        "id": "qp0Pq9z9Y4S0",
        "cellView": "code",
        "colab": {
          "base_uri": "https://localhost:8080/",
          "height": 113,
          "referenced_widgets": [
            "9177d35360524c3092ff9b6cfbc863c4",
            "d6b746dec3c347e8ab0d4d00c717125a",
            "a54c41213f684f998c7b5d035fdb8502",
            "2be78983d334413ea04a37457aeb71a5",
            "514f51de82c24499bf677707b6261d54",
            "a385d2b61afa4337a6e2108ab205ce99",
            "97681519aaea4bbebe7c21c1cfd624d0",
            "80a6908a5b6c4020bf100f2aa4608c9b",
            "74747a42e72142958bf97de428950d63",
            "e0fe7d33f6864182bf56d0a450ed776c",
            "4b7c96186c6e4cde9937004a04f8d06e",
            "e48e4787755445c0b5e7b7da9d3e5f07",
            "5a52d7105da6499886fdde9400854734",
            "e599e990dcff43c394d34bc0c5cf4f2a",
            "f15eb4b74d5a490bacb0b5fbf501845f",
            "925f8238985a497795cda2a7657d7980",
            "0c84c73f905d49aea291ab4e99a62d86",
            "b3e6d90279b84852a4b8d2c0758d6557",
            "e7bfee9b89d44a99b86dfc46fbb596b2",
            "b3639b19c61745fcbc003b7a88162b01",
            "dc18647a113c453695d2d4dd85909d24",
            "8b528f6b976d41b4a0ad3f100462fdf7",
            "e89120912b634ecb96eea13527cf2b6b",
            "67b2c62f6a0c421daf867e35b9773809",
            "7b5a498b2ddd405cb85cfa40e44ba940",
            "0b02fb4ab8eb4ce1888ddcd14356c245",
            "5d0e897b8a6d4283aa177140a93c5879",
            "855f80326698449985e099574afa33c8",
            "e6d268a6f1534e8798ec7a7ab44166e5",
            "fc69aa694b6d453a85db0e46b18d4fc9",
            "6b760b49bea449ee97beca4ac7c10f28",
            "e30b843afc484025a04d2dde0bb969af",
            "e51d4694ec984ed0b1193534b7ca0850"
          ]
        },
        "outputId": "9a2adde7-47ee-431b-f5d3-9667c2211386"
      },
      "source": [
        "import os\n",
        "import torch\n",
        "import time\n",
        "from torch.utils.data import DataLoader, RandomSampler, SequentialSampler\n",
        "\n",
        "from transformers import (\n",
        "    AlbertConfig,\n",
        "    AlbertForQuestionAnswering,\n",
        "    AlbertTokenizer,\n",
        "    squad_convert_examples_to_features\n",
        ")\n",
        "\n",
        "from transformers.data.processors.squad import SquadResult, SquadV2Processor, SquadExample\n",
        "\n",
        "from transformers.data.metrics.squad_metrics import compute_predictions_logits\n",
        "\n",
        "# READER NOTE: Set this flag to use own model, or use pretrained model in the Hugging Face repository\n",
        "use_own_model = False\n",
        "\n",
        "if use_own_model:\n",
        "  model_name_or_path = \"/content/model_output\"\n",
        "else:\n",
        "  model_name_or_path = \"ktrapeznikov/albert-xlarge-v2-squad-v2\"\n",
        "\n",
        "output_dir = \"\"\n",
        "\n",
        "# Config\n",
        "n_best_size = 1\n",
        "max_answer_length = 30\n",
        "do_lower_case = True\n",
        "null_score_diff_threshold = 0.0\n",
        "\n",
        "def to_list(tensor):\n",
        "    return tensor.detach().cpu().tolist()\n",
        "\n",
        "# Setup model\n",
        "config_class, model_class, tokenizer_class = (\n",
        "    AlbertConfig, AlbertForQuestionAnswering, AlbertTokenizer)\n",
        "config = config_class.from_pretrained(model_name_or_path)\n",
        "tokenizer = tokenizer_class.from_pretrained(\n",
        "    model_name_or_path, do_lower_case=True)\n",
        "model = model_class.from_pretrained(model_name_or_path, config=config)\n",
        "\n",
        "device = torch.device(\"cuda\" if torch.cuda.is_available() else \"cpu\")\n",
        "\n",
        "model.to(device)\n",
        "\n",
        "processor = SquadV2Processor()\n",
        "\n",
        "def run_prediction(question_texts, context_text):\n",
        "    \"\"\"Setup function to compute predictions\"\"\"\n",
        "    examples = []\n",
        "\n",
        "    for i, question_text in enumerate(question_texts):\n",
        "        example = SquadExample(\n",
        "            qas_id=str(i),\n",
        "            question_text=question_text,\n",
        "            context_text=context_text,\n",
        "            answer_text=None,\n",
        "            start_position_character=None,\n",
        "            title=\"Predict\",\n",
        "            is_impossible=False,\n",
        "            answers=None,\n",
        "        )\n",
        "\n",
        "        examples.append(example)\n",
        "\n",
        "    features, dataset = squad_convert_examples_to_features(\n",
        "        examples=examples,\n",
        "        tokenizer=tokenizer,\n",
        "        max_seq_length=384,\n",
        "        doc_stride=128,\n",
        "        max_query_length=64,\n",
        "        is_training=False,\n",
        "        return_dataset=\"pt\",\n",
        "        threads=1,\n",
        "    )\n",
        "\n",
        "    eval_sampler = SequentialSampler(dataset)\n",
        "    eval_dataloader = DataLoader(dataset, sampler=eval_sampler, batch_size=10)\n",
        "\n",
        "    all_results = []\n",
        "\n",
        "    for batch in eval_dataloader:\n",
        "        model.eval()\n",
        "        batch = tuple(t.to(device) for t in batch)\n",
        "\n",
        "        with torch.no_grad():\n",
        "            inputs = {\n",
        "                \"input_ids\": batch[0],\n",
        "                \"attention_mask\": batch[1],\n",
        "                \"token_type_ids\": batch[2],\n",
        "            }\n",
        "\n",
        "            example_indices = batch[3]\n",
        "\n",
        "            outputs = model(**inputs)\n",
        "\n",
        "            for i, example_index in enumerate(example_indices):\n",
        "                eval_feature = features[example_index.item()]\n",
        "                unique_id = int(eval_feature.unique_id)\n",
        "\n",
        "                output = [to_list(output[i]) for output in outputs]\n",
        "\n",
        "                start_logits, end_logits = output\n",
        "                result = SquadResult(unique_id, start_logits, end_logits)\n",
        "                all_results.append(result)\n",
        "\n",
        "    output_prediction_file = \"predictions.json\"\n",
        "    output_nbest_file = \"nbest_predictions.json\"\n",
        "    output_null_log_odds_file = \"null_predictions.json\"\n",
        "\n",
        "    predictions = compute_predictions_logits(\n",
        "        examples,\n",
        "        features,\n",
        "        all_results,\n",
        "        n_best_size,\n",
        "        max_answer_length,\n",
        "        do_lower_case,\n",
        "        output_prediction_file,\n",
        "        output_nbest_file,\n",
        "        output_null_log_odds_file,\n",
        "        False,  # verbose_logging\n",
        "        True,  # version_2_with_negative\n",
        "        null_score_diff_threshold,\n",
        "        tokenizer,\n",
        "    )\n",
        "\n",
        "    return predictions"
      ],
      "execution_count": null,
      "outputs": [
        {
          "output_type": "display_data",
          "data": {
            "text/plain": [
              "Downloading:   0%|          | 0.00/717 [00:00<?, ?B/s]"
            ],
            "application/vnd.jupyter.widget-view+json": {
              "version_major": 2,
              "version_minor": 0,
              "model_id": "9177d35360524c3092ff9b6cfbc863c4"
            }
          },
          "metadata": {}
        },
        {
          "output_type": "display_data",
          "data": {
            "text/plain": [
              "Downloading:   0%|          | 0.00/760k [00:00<?, ?B/s]"
            ],
            "application/vnd.jupyter.widget-view+json": {
              "version_major": 2,
              "version_minor": 0,
              "model_id": "e48e4787755445c0b5e7b7da9d3e5f07"
            }
          },
          "metadata": {}
        },
        {
          "output_type": "display_data",
          "data": {
            "text/plain": [
              "Downloading:   0%|          | 0.00/235M [00:00<?, ?B/s]"
            ],
            "application/vnd.jupyter.widget-view+json": {
              "version_major": 2,
              "version_minor": 0,
              "model_id": "e89120912b634ecb96eea13527cf2b6b"
            }
          },
          "metadata": {}
        }
      ]
    },
    {
      "cell_type": "markdown",
      "metadata": {
        "id": "nIQOB8vhpcKs"
      },
      "source": [
        "## 4.0 Run predictions on the Covid QA set\n",
        "\n",
        "Now for the fun part... testing out your model on different inputs. Pretty rudimentary example here. But the possibilities are endless with this function."
      ]
    },
    {
      "cell_type": "markdown",
      "source": [
        "### 4.1 Reading in the Covid QA set from json"
      ],
      "metadata": {
        "id": "QRrMu7TxTaD1"
      }
    },
    {
      "cell_type": "code",
      "source": [
        "import pandas as pd\n",
        "\n",
        "def read_test_set():\n",
        "    df = pd.read_json(\"Covid-QA-more-focused.json\")\n",
        "    return df['data']\n",
        "\n",
        "data = read_test_set()"
      ],
      "metadata": {
        "id": "LAcb5K9_hVaQ"
      },
      "execution_count": null,
      "outputs": []
    },
    {
      "cell_type": "markdown",
      "source": [
        "### 4.2 Setting up data collection \n",
        "\n",
        "Also making sure we are connected to GPU"
      ],
      "metadata": {
        "id": "C7e5yTiNTe7m"
      }
    },
    {
      "cell_type": "code",
      "source": [
        "## set up data\n",
        "import time\n",
        "import tensorflow as tf\n",
        "print(tf.test.gpu_device_name())\n",
        "\n",
        "num_right = 0 # giving credit for whenever it comes up with a subset of the string\n",
        "total = 0\n",
        "all_questions = []\n",
        "all_answers = []"
      ],
      "metadata": {
        "colab": {
          "base_uri": "https://localhost:8080/"
        },
        "id": "I50n0Tkz1Ley",
        "outputId": "6199ca30-1c9a-4885-8cab-5a1496d77b98"
      },
      "execution_count": null,
      "outputs": [
        {
          "output_type": "stream",
          "name": "stdout",
          "text": [
            "/device:GPU:0\n"
          ]
        }
      ]
    },
    {
      "cell_type": "markdown",
      "source": [
        "### 4.3 Run prediction on each paragraph of Q&A test set"
      ],
      "metadata": {
        "id": "vpQMa0NFTrfG"
      }
    },
    {
      "cell_type": "code",
      "metadata": {
        "id": "F-sUrcA5nXTH",
        "cellView": "code",
        "colab": {
          "base_uri": "https://localhost:8080/"
        },
        "outputId": "3a710c10-3980-493f-a428-a9ec29018888"
      },
      "source": [
        "for item in data:\n",
        "    start = time.time()\n",
        "\n",
        "    paragraph = item[\"paragraphs\"][0]\n",
        "    \n",
        "    questions_with_answers = paragraph[\"qas\"]\n",
        "    context = paragraph[\"context\"]\n",
        "    questions = []\n",
        "    answers = []\n",
        "\n",
        "    for qa in questions_with_answers:\n",
        "        questions.append(qa[\"question\"])\n",
        "        answers.append(qa[\"answers\"])\n",
        "\n",
        "    predictions = run_prediction(questions, context)\n",
        "    idx = 0\n",
        "    for key in predictions.keys():\n",
        "      pos_answers = answers[idx]\n",
        "      correct = False\n",
        "\n",
        "      all_questions = all_questions + questions\n",
        "      all_answers.append({'model_answer': predictions[key], 'valid_answers': pos_answers})\n",
        "      for answer in pos_answers:\n",
        "        answer_text = answer['text']\n",
        "        correct = correct or (predictions[key] in answer_text)\n",
        "      if correct:\n",
        "        num_right += 1\n",
        "      end = time.time()\n",
        "\n",
        "      total += 1\n",
        "      idx += 1\n",
        "    end = time.time()\n",
        "    print(end - start)\n",
        "\n"
      ],
      "execution_count": null,
      "outputs": [
        {
          "output_type": "stream",
          "name": "stderr",
          "text": [
            "convert squad examples to features: 100%|██████████| 10/10 [00:02<00:00,  3.93it/s]\n",
            "add example index and unique id: 100%|██████████| 10/10 [00:00<00:00, 21410.43it/s]\n"
          ]
        },
        {
          "output_type": "stream",
          "name": "stdout",
          "text": [
            "52.12120294570923\n"
          ]
        },
        {
          "output_type": "stream",
          "name": "stderr",
          "text": [
            "convert squad examples to features: 100%|██████████| 2/2 [00:00<00:00,  2.76it/s]\n",
            "add example index and unique id: 100%|██████████| 2/2 [00:00<00:00, 1055.83it/s]\n"
          ]
        },
        {
          "output_type": "stream",
          "name": "stdout",
          "text": [
            "12.735795736312866\n"
          ]
        },
        {
          "output_type": "stream",
          "name": "stderr",
          "text": [
            "convert squad examples to features: 100%|██████████| 1/1 [00:00<00:00,  4.66it/s]\n",
            "add example index and unique id: 100%|██████████| 1/1 [00:00<00:00, 7626.01it/s]\n"
          ]
        },
        {
          "output_type": "stream",
          "name": "stdout",
          "text": [
            "4.230836391448975\n"
          ]
        },
        {
          "output_type": "stream",
          "name": "stderr",
          "text": [
            "convert squad examples to features: 100%|██████████| 10/10 [00:03<00:00,  2.64it/s]\n",
            "add example index and unique id: 100%|██████████| 10/10 [00:00<00:00, 24951.24it/s]\n"
          ]
        },
        {
          "output_type": "stream",
          "name": "stdout",
          "text": [
            "53.696903467178345\n"
          ]
        },
        {
          "output_type": "stream",
          "name": "stderr",
          "text": [
            "convert squad examples to features: 100%|██████████| 8/8 [00:02<00:00,  3.76it/s]\n",
            "add example index and unique id: 100%|██████████| 8/8 [00:00<00:00, 14652.59it/s]\n"
          ]
        },
        {
          "output_type": "stream",
          "name": "stdout",
          "text": [
            "34.55589818954468\n"
          ]
        },
        {
          "output_type": "stream",
          "name": "stderr",
          "text": [
            "convert squad examples to features: 100%|██████████| 5/5 [00:02<00:00,  2.41it/s]\n",
            "add example index and unique id: 100%|██████████| 5/5 [00:00<00:00, 17697.49it/s]\n"
          ]
        },
        {
          "output_type": "stream",
          "name": "stdout",
          "text": [
            "28.432097673416138\n"
          ]
        },
        {
          "output_type": "stream",
          "name": "stderr",
          "text": [
            "convert squad examples to features: 100%|██████████| 4/4 [00:00<00:00, 23.11it/s]\n",
            "add example index and unique id: 100%|██████████| 4/4 [00:00<00:00, 2473.42it/s]\n"
          ]
        },
        {
          "output_type": "stream",
          "name": "stdout",
          "text": [
            "4.026052713394165\n"
          ]
        },
        {
          "output_type": "stream",
          "name": "stderr",
          "text": [
            "convert squad examples to features: 100%|██████████| 11/11 [00:02<00:00,  4.20it/s]\n",
            "add example index and unique id: 100%|██████████| 11/11 [00:00<00:00, 26576.81it/s]\n"
          ]
        },
        {
          "output_type": "stream",
          "name": "stdout",
          "text": [
            "41.367307901382446\n"
          ]
        },
        {
          "output_type": "stream",
          "name": "stderr",
          "text": [
            "convert squad examples to features: 100%|██████████| 8/8 [00:03<00:00,  2.65it/s]\n",
            "add example index and unique id: 100%|██████████| 8/8 [00:00<00:00, 18186.68it/s]\n"
          ]
        },
        {
          "output_type": "stream",
          "name": "stdout",
          "text": [
            "53.67663931846619\n"
          ]
        },
        {
          "output_type": "stream",
          "name": "stderr",
          "text": [
            "convert squad examples to features: 100%|██████████| 5/5 [00:00<00:00,  5.98it/s]\n",
            "add example index and unique id: 100%|██████████| 5/5 [00:00<00:00, 2560.00it/s]\n"
          ]
        },
        {
          "output_type": "stream",
          "name": "stdout",
          "text": [
            "18.4144184589386\n"
          ]
        },
        {
          "output_type": "stream",
          "name": "stderr",
          "text": [
            "convert squad examples to features: 100%|██████████| 29/29 [00:08<00:00,  3.59it/s]\n",
            "add example index and unique id: 100%|██████████| 29/29 [00:00<00:00, 21302.07it/s]\n"
          ]
        },
        {
          "output_type": "stream",
          "name": "stdout",
          "text": [
            "152.33168077468872\n"
          ]
        },
        {
          "output_type": "stream",
          "name": "stderr",
          "text": [
            "convert squad examples to features: 100%|██████████| 4/4 [00:00<00:00, 19.32it/s]\n",
            "add example index and unique id: 100%|██████████| 4/4 [00:00<00:00, 32140.26it/s]\n"
          ]
        },
        {
          "output_type": "stream",
          "name": "stdout",
          "text": [
            "5.246546268463135\n"
          ]
        },
        {
          "output_type": "stream",
          "name": "stderr",
          "text": [
            "convert squad examples to features: 100%|██████████| 1/1 [00:00<00:00, 11.00it/s]\n",
            "add example index and unique id: 100%|██████████| 1/1 [00:00<00:00, 8683.86it/s]\n"
          ]
        },
        {
          "output_type": "stream",
          "name": "stdout",
          "text": [
            "2.1818442344665527\n"
          ]
        },
        {
          "output_type": "stream",
          "name": "stderr",
          "text": [
            "convert squad examples to features: 100%|██████████| 27/27 [00:02<00:00, 12.91it/s]\n",
            "add example index and unique id: 100%|██████████| 27/27 [00:00<00:00, 53342.54it/s]\n"
          ]
        },
        {
          "output_type": "stream",
          "name": "stdout",
          "text": [
            "52.98837065696716\n"
          ]
        },
        {
          "output_type": "stream",
          "name": "stderr",
          "text": [
            "convert squad examples to features: 100%|██████████| 20/20 [00:04<00:00,  4.77it/s]\n",
            "add example index and unique id: 100%|██████████| 20/20 [00:00<00:00, 8609.88it/s]\n"
          ]
        },
        {
          "output_type": "stream",
          "name": "stdout",
          "text": [
            "79.56466293334961\n"
          ]
        },
        {
          "output_type": "stream",
          "name": "stderr",
          "text": [
            "convert squad examples to features: 100%|██████████| 1/1 [00:00<00:00, 22.94it/s]\n",
            "add example index and unique id: 100%|██████████| 1/1 [00:00<00:00, 7410.43it/s]\n"
          ]
        },
        {
          "output_type": "stream",
          "name": "stdout",
          "text": [
            "1.0180625915527344\n"
          ]
        },
        {
          "output_type": "stream",
          "name": "stderr",
          "text": [
            "convert squad examples to features: 100%|██████████| 30/30 [00:05<00:00,  5.34it/s]\n",
            "add example index and unique id: 100%|██████████| 30/30 [00:00<00:00, 37304.81it/s]\n"
          ]
        },
        {
          "output_type": "stream",
          "name": "stdout",
          "text": [
            "114.5305449962616\n"
          ]
        },
        {
          "output_type": "stream",
          "name": "stderr",
          "text": [
            "convert squad examples to features: 100%|██████████| 59/59 [00:34<00:00,  1.70it/s]\n",
            "add example index and unique id: 100%|██████████| 59/59 [00:00<00:00, 15412.55it/s]\n"
          ]
        },
        {
          "output_type": "stream",
          "name": "stdout",
          "text": [
            "541.6185290813446\n"
          ]
        },
        {
          "output_type": "stream",
          "name": "stderr",
          "text": [
            "convert squad examples to features: 100%|██████████| 15/15 [00:06<00:00,  2.24it/s]\n",
            "add example index and unique id: 100%|██████████| 15/15 [00:00<00:00, 14990.36it/s]\n"
          ]
        },
        {
          "output_type": "stream",
          "name": "stdout",
          "text": [
            "117.6121084690094\n"
          ]
        },
        {
          "output_type": "stream",
          "name": "stderr",
          "text": [
            "convert squad examples to features: 100%|██████████| 13/13 [00:01<00:00,  7.07it/s]\n",
            "add example index and unique id: 100%|██████████| 13/13 [00:00<00:00, 43412.38it/s]\n"
          ]
        },
        {
          "output_type": "stream",
          "name": "stdout",
          "text": [
            "38.67959523200989\n"
          ]
        },
        {
          "output_type": "stream",
          "name": "stderr",
          "text": [
            "convert squad examples to features: 100%|██████████| 5/5 [00:01<00:00,  4.77it/s]\n",
            "add example index and unique id: 100%|██████████| 5/5 [00:00<00:00, 20929.66it/s]\n"
          ]
        },
        {
          "output_type": "stream",
          "name": "stdout",
          "text": [
            "21.317248106002808\n"
          ]
        },
        {
          "output_type": "stream",
          "name": "stderr",
          "text": [
            "convert squad examples to features: 100%|██████████| 119/119 [03:39<00:00,  1.85s/it]\n",
            "add example index and unique id: 100%|██████████| 119/119 [00:00<00:00, 9676.85it/s]\n"
          ]
        },
        {
          "output_type": "stream",
          "name": "stdout",
          "text": [
            "2281.3009123802185\n"
          ]
        },
        {
          "output_type": "stream",
          "name": "stderr",
          "text": [
            "convert squad examples to features: 100%|██████████| 23/23 [00:09<00:00,  2.37it/s]\n",
            "add example index and unique id: 100%|██████████| 23/23 [00:00<00:00, 16389.57it/s]\n"
          ]
        },
        {
          "output_type": "stream",
          "name": "stdout",
          "text": [
            "164.37919783592224\n"
          ]
        },
        {
          "output_type": "stream",
          "name": "stderr",
          "text": [
            "convert squad examples to features: 100%|██████████| 1/1 [00:00<00:00, 16.63it/s]\n",
            "add example index and unique id: 100%|██████████| 1/1 [00:00<00:00, 7639.90it/s]\n"
          ]
        },
        {
          "output_type": "stream",
          "name": "stdout",
          "text": [
            "1.3857810497283936\n"
          ]
        },
        {
          "output_type": "stream",
          "name": "stderr",
          "text": [
            "convert squad examples to features: 100%|██████████| 10/10 [00:01<00:00,  6.41it/s]\n",
            "add example index and unique id: 100%|██████████| 10/10 [00:00<00:00, 27503.63it/s]\n"
          ]
        },
        {
          "output_type": "stream",
          "name": "stdout",
          "text": [
            "32.598684787750244\n"
          ]
        },
        {
          "output_type": "stream",
          "name": "stderr",
          "text": [
            "convert squad examples to features: 100%|██████████| 1/1 [00:01<00:00,  1.15s/it]\n",
            "add example index and unique id: 100%|██████████| 1/1 [00:00<00:00, 4815.50it/s]\n"
          ]
        },
        {
          "output_type": "stream",
          "name": "stdout",
          "text": [
            "14.28653359413147\n"
          ]
        },
        {
          "output_type": "stream",
          "name": "stderr",
          "text": [
            "convert squad examples to features: 100%|██████████| 24/24 [00:06<00:00,  3.95it/s]\n",
            "add example index and unique id: 100%|██████████| 24/24 [00:00<00:00, 5902.27it/s]\n"
          ]
        },
        {
          "output_type": "stream",
          "name": "stdout",
          "text": [
            "115.9302773475647\n"
          ]
        },
        {
          "output_type": "stream",
          "name": "stderr",
          "text": [
            "convert squad examples to features: 100%|██████████| 2/2 [00:01<00:00,  1.13it/s]\n",
            "add example index and unique id: 100%|██████████| 2/2 [00:00<00:00, 3205.43it/s]\n"
          ]
        },
        {
          "output_type": "stream",
          "name": "stdout",
          "text": [
            "23.40462613105774\n"
          ]
        },
        {
          "output_type": "stream",
          "name": "stderr",
          "text": [
            "convert squad examples to features: 100%|██████████| 9/9 [00:00<00:00, 13.13it/s]\n",
            "add example index and unique id: 100%|██████████| 9/9 [00:00<00:00, 44098.99it/s]\n"
          ]
        },
        {
          "output_type": "stream",
          "name": "stdout",
          "text": [
            "15.441555738449097\n"
          ]
        },
        {
          "output_type": "stream",
          "name": "stderr",
          "text": [
            "convert squad examples to features: 100%|██████████| 3/3 [00:00<00:00, 13.06it/s]\n",
            "add example index and unique id: 100%|██████████| 3/3 [00:00<00:00, 17050.02it/s]\n"
          ]
        },
        {
          "output_type": "stream",
          "name": "stdout",
          "text": [
            "5.295467376708984\n"
          ]
        },
        {
          "output_type": "stream",
          "name": "stderr",
          "text": [
            "convert squad examples to features: 100%|██████████| 21/21 [00:02<00:00,  7.01it/s]\n",
            "add example index and unique id: 100%|██████████| 21/21 [00:00<00:00, 13546.66it/s]\n"
          ]
        },
        {
          "output_type": "stream",
          "name": "stdout",
          "text": [
            "62.579501152038574\n"
          ]
        },
        {
          "output_type": "stream",
          "name": "stderr",
          "text": [
            "convert squad examples to features: 100%|██████████| 125/125 [01:18<00:00,  1.60it/s]\n",
            "add example index and unique id: 100%|██████████| 125/125 [00:00<00:00, 17230.45it/s]\n"
          ]
        },
        {
          "output_type": "stream",
          "name": "stdout",
          "text": [
            "1204.1030778884888\n"
          ]
        },
        {
          "output_type": "stream",
          "name": "stderr",
          "text": [
            "convert squad examples to features: 100%|██████████| 56/56 [01:32<00:00,  1.66s/it]\n",
            "add example index and unique id: 100%|██████████| 56/56 [00:00<00:00, 9338.83it/s]\n"
          ]
        },
        {
          "output_type": "stream",
          "name": "stdout",
          "text": [
            "1024.9850707054138\n"
          ]
        },
        {
          "output_type": "stream",
          "name": "stderr",
          "text": [
            "convert squad examples to features: 100%|██████████| 6/6 [00:00<00:00,  7.75it/s]\n",
            "add example index and unique id: 100%|██████████| 6/6 [00:00<00:00, 25997.75it/s]\n"
          ]
        },
        {
          "output_type": "stream",
          "name": "stdout",
          "text": [
            "17.063916206359863\n"
          ]
        },
        {
          "output_type": "stream",
          "name": "stderr",
          "text": [
            "convert squad examples to features: 100%|██████████| 53/53 [00:08<00:00,  5.92it/s]\n",
            "add example index and unique id: 100%|██████████| 53/53 [00:00<00:00, 27902.36it/s]\n"
          ]
        },
        {
          "output_type": "stream",
          "name": "stdout",
          "text": [
            "187.31430292129517\n"
          ]
        },
        {
          "output_type": "stream",
          "name": "stderr",
          "text": [
            "convert squad examples to features: 100%|██████████| 16/16 [00:03<00:00,  5.21it/s]\n",
            "add example index and unique id: 100%|██████████| 16/16 [00:00<00:00, 38173.42it/s]\n"
          ]
        },
        {
          "output_type": "stream",
          "name": "stdout",
          "text": [
            "61.9660210609436\n"
          ]
        },
        {
          "output_type": "stream",
          "name": "stderr",
          "text": [
            "convert squad examples to features: 100%|██████████| 46/46 [00:09<00:00,  4.76it/s]\n",
            "add example index and unique id: 100%|██████████| 46/46 [00:00<00:00, 29264.07it/s]\n"
          ]
        },
        {
          "output_type": "stream",
          "name": "stdout",
          "text": [
            "207.5037066936493\n"
          ]
        },
        {
          "output_type": "stream",
          "name": "stderr",
          "text": [
            "convert squad examples to features: 100%|██████████| 1/1 [00:01<00:00,  1.16s/it]\n",
            "add example index and unique id: 100%|██████████| 1/1 [00:00<00:00, 5652.70it/s]\n"
          ]
        },
        {
          "output_type": "stream",
          "name": "stdout",
          "text": [
            "14.247175216674805\n"
          ]
        },
        {
          "output_type": "stream",
          "name": "stderr",
          "text": [
            "convert squad examples to features: 100%|██████████| 2/2 [00:00<00:00, 43.55it/s]\n",
            "add example index and unique id: 100%|██████████| 2/2 [00:00<00:00, 17886.16it/s]\n"
          ]
        },
        {
          "output_type": "stream",
          "name": "stdout",
          "text": [
            "1.3172776699066162\n"
          ]
        },
        {
          "output_type": "stream",
          "name": "stderr",
          "text": [
            "convert squad examples to features: 100%|██████████| 2/2 [00:00<00:00,  9.61it/s]\n",
            "add example index and unique id: 100%|██████████| 2/2 [00:00<00:00, 14051.27it/s]\n"
          ]
        },
        {
          "output_type": "stream",
          "name": "stdout",
          "text": [
            "5.013554811477661\n"
          ]
        },
        {
          "output_type": "stream",
          "name": "stderr",
          "text": [
            "convert squad examples to features: 100%|██████████| 14/14 [00:03<00:00,  4.49it/s]\n",
            "add example index and unique id: 100%|██████████| 14/14 [00:00<00:00, 16686.63it/s]\n"
          ]
        },
        {
          "output_type": "stream",
          "name": "stdout",
          "text": [
            "59.816760540008545\n"
          ]
        },
        {
          "output_type": "stream",
          "name": "stderr",
          "text": [
            "convert squad examples to features: 100%|██████████| 26/26 [00:01<00:00, 21.21it/s]\n",
            "add example index and unique id: 100%|██████████| 26/26 [00:00<00:00, 65693.92it/s]\n"
          ]
        },
        {
          "output_type": "stream",
          "name": "stdout",
          "text": [
            "29.45531964302063\n"
          ]
        }
      ]
    },
    {
      "cell_type": "markdown",
      "source": [
        "### 4.4 Export data to json for easy reuse"
      ],
      "metadata": {
        "id": "PVxpvDFeT0Cr"
      }
    },
    {
      "cell_type": "code",
      "source": [
        "import json\n",
        "\n",
        "print(\"num-right:\", num_right)\n",
        "print(\"total:\", total)\n",
        "# print(all_questions)\n",
        "# print(all_answers)\n",
        "with open(\"answers.json\", \"w\") as f:\n",
        "    json.dump(all_answers, f)\n",
        "\n",
        "with open(\"questions.json\", \"w\") as g:\n",
        "    json.dump(all_questions, g)"
      ],
      "metadata": {
        "colab": {
          "base_uri": "https://localhost:8080/"
        },
        "id": "16cD8mbb173f",
        "outputId": "d5e88456-5996-478b-d522-8053845e26d0"
      },
      "execution_count": null,
      "outputs": [
        {
          "output_type": "stream",
          "name": "stdout",
          "text": [
            "num-right: 573\n",
            "total: 828\n"
          ]
        }
      ]
    },
    {
      "cell_type": "markdown",
      "source": [
        "### 4.5 Evaluate the model\n",
        "We will evalue the model using https://huggingface.co/spaces/evaluate-metric/bertscore \n"
      ],
      "metadata": {
        "id": "-lONCnMmoVCC"
      }
    },
    {
      "cell_type": "markdown",
      "source": [
        "#### 4.5.1 Imports"
      ],
      "metadata": {
        "id": "A5I7BiS1o2E3"
      }
    },
    {
      "cell_type": "code",
      "source": [
        "## Imports and setup\n",
        "!pip3 install evaluate\n",
        "!pip3 install bert_score\n",
        "from evaluate import load\n",
        "import pandas as pd\n",
        "\n",
        "bertscore = load(\"bertscore\")\n"
      ],
      "metadata": {
        "colab": {
          "base_uri": "https://localhost:8080/"
        },
        "id": "S0Xk9bzroUQT",
        "outputId": "2776a14d-b593-4b33-e5b2-6bd921536fd9"
      },
      "execution_count": 5,
      "outputs": [
        {
          "output_type": "stream",
          "name": "stdout",
          "text": [
            "Looking in indexes: https://pypi.org/simple, https://us-python.pkg.dev/colab-wheels/public/simple/\n",
            "Requirement already satisfied: evaluate in /usr/local/lib/python3.7/dist-packages (0.2.2)\n",
            "Requirement already satisfied: pandas in /usr/local/lib/python3.7/dist-packages (from evaluate) (1.3.5)\n",
            "Requirement already satisfied: importlib-metadata in /usr/local/lib/python3.7/dist-packages (from evaluate) (4.12.0)\n",
            "Requirement already satisfied: datasets>=2.0.0 in /usr/local/lib/python3.7/dist-packages (from evaluate) (2.4.0)\n",
            "Requirement already satisfied: requests>=2.19.0 in /usr/local/lib/python3.7/dist-packages (from evaluate) (2.23.0)\n",
            "Requirement already satisfied: xxhash in /usr/local/lib/python3.7/dist-packages (from evaluate) (3.0.0)\n",
            "Requirement already satisfied: multiprocess in /usr/local/lib/python3.7/dist-packages (from evaluate) (0.70.13)\n",
            "Requirement already satisfied: numpy>=1.17 in /usr/local/lib/python3.7/dist-packages (from evaluate) (1.21.6)\n",
            "Requirement already satisfied: huggingface-hub>=0.7.0 in /usr/local/lib/python3.7/dist-packages (from evaluate) (0.8.1)\n",
            "Requirement already satisfied: responses<0.19 in /usr/local/lib/python3.7/dist-packages (from evaluate) (0.18.0)\n",
            "Requirement already satisfied: dill in /usr/local/lib/python3.7/dist-packages (from evaluate) (0.3.5.1)\n",
            "Requirement already satisfied: packaging in /usr/local/lib/python3.7/dist-packages (from evaluate) (21.3)\n",
            "Requirement already satisfied: tqdm>=4.62.1 in /usr/local/lib/python3.7/dist-packages (from evaluate) (4.64.0)\n",
            "Requirement already satisfied: fsspec[http]>=2021.05.0 in /usr/local/lib/python3.7/dist-packages (from evaluate) (2022.7.1)\n",
            "Requirement already satisfied: aiohttp in /usr/local/lib/python3.7/dist-packages (from datasets>=2.0.0->evaluate) (3.8.1)\n",
            "Requirement already satisfied: pyarrow>=6.0.0 in /usr/local/lib/python3.7/dist-packages (from datasets>=2.0.0->evaluate) (6.0.1)\n",
            "Requirement already satisfied: pyyaml>=5.1 in /usr/local/lib/python3.7/dist-packages (from huggingface-hub>=0.7.0->evaluate) (6.0)\n",
            "Requirement already satisfied: typing-extensions>=3.7.4.3 in /usr/local/lib/python3.7/dist-packages (from huggingface-hub>=0.7.0->evaluate) (4.1.1)\n",
            "Requirement already satisfied: filelock in /usr/local/lib/python3.7/dist-packages (from huggingface-hub>=0.7.0->evaluate) (3.7.1)\n",
            "Requirement already satisfied: pyparsing!=3.0.5,>=2.0.2 in /usr/local/lib/python3.7/dist-packages (from packaging->evaluate) (3.0.9)\n",
            "Requirement already satisfied: idna<3,>=2.5 in /usr/local/lib/python3.7/dist-packages (from requests>=2.19.0->evaluate) (2.10)\n",
            "Requirement already satisfied: chardet<4,>=3.0.2 in /usr/local/lib/python3.7/dist-packages (from requests>=2.19.0->evaluate) (3.0.4)\n",
            "Requirement already satisfied: urllib3!=1.25.0,!=1.25.1,<1.26,>=1.21.1 in /usr/local/lib/python3.7/dist-packages (from requests>=2.19.0->evaluate) (1.25.11)\n",
            "Requirement already satisfied: certifi>=2017.4.17 in /usr/local/lib/python3.7/dist-packages (from requests>=2.19.0->evaluate) (2022.6.15)\n",
            "Requirement already satisfied: aiosignal>=1.1.2 in /usr/local/lib/python3.7/dist-packages (from aiohttp->datasets>=2.0.0->evaluate) (1.2.0)\n",
            "Requirement already satisfied: asynctest==0.13.0 in /usr/local/lib/python3.7/dist-packages (from aiohttp->datasets>=2.0.0->evaluate) (0.13.0)\n",
            "Requirement already satisfied: charset-normalizer<3.0,>=2.0 in /usr/local/lib/python3.7/dist-packages (from aiohttp->datasets>=2.0.0->evaluate) (2.1.0)\n",
            "Requirement already satisfied: async-timeout<5.0,>=4.0.0a3 in /usr/local/lib/python3.7/dist-packages (from aiohttp->datasets>=2.0.0->evaluate) (4.0.2)\n",
            "Requirement already satisfied: yarl<2.0,>=1.0 in /usr/local/lib/python3.7/dist-packages (from aiohttp->datasets>=2.0.0->evaluate) (1.8.1)\n",
            "Requirement already satisfied: frozenlist>=1.1.1 in /usr/local/lib/python3.7/dist-packages (from aiohttp->datasets>=2.0.0->evaluate) (1.3.0)\n",
            "Requirement already satisfied: multidict<7.0,>=4.5 in /usr/local/lib/python3.7/dist-packages (from aiohttp->datasets>=2.0.0->evaluate) (6.0.2)\n",
            "Requirement already satisfied: attrs>=17.3.0 in /usr/local/lib/python3.7/dist-packages (from aiohttp->datasets>=2.0.0->evaluate) (22.1.0)\n",
            "Requirement already satisfied: zipp>=0.5 in /usr/local/lib/python3.7/dist-packages (from importlib-metadata->evaluate) (3.8.1)\n",
            "Requirement already satisfied: pytz>=2017.3 in /usr/local/lib/python3.7/dist-packages (from pandas->evaluate) (2022.1)\n",
            "Requirement already satisfied: python-dateutil>=2.7.3 in /usr/local/lib/python3.7/dist-packages (from pandas->evaluate) (2.8.2)\n",
            "Requirement already satisfied: six>=1.5 in /usr/local/lib/python3.7/dist-packages (from python-dateutil>=2.7.3->pandas->evaluate) (1.15.0)\n",
            "Looking in indexes: https://pypi.org/simple, https://us-python.pkg.dev/colab-wheels/public/simple/\n",
            "Collecting bert_score\n",
            "  Downloading bert_score-0.3.11-py3-none-any.whl (60 kB)\n",
            "\u001b[K     |████████████████████████████████| 60 kB 6.0 MB/s \n",
            "\u001b[?25hRequirement already satisfied: matplotlib in /usr/local/lib/python3.7/dist-packages (from bert_score) (3.2.2)\n",
            "Requirement already satisfied: tqdm>=4.31.1 in /usr/local/lib/python3.7/dist-packages (from bert_score) (4.64.0)\n",
            "Requirement already satisfied: packaging>=20.9 in /usr/local/lib/python3.7/dist-packages (from bert_score) (21.3)\n",
            "Requirement already satisfied: torch>=1.0.0 in /usr/local/lib/python3.7/dist-packages (from bert_score) (1.12.0+cu113)\n",
            "Requirement already satisfied: pandas>=1.0.1 in /usr/local/lib/python3.7/dist-packages (from bert_score) (1.3.5)\n",
            "Requirement already satisfied: requests in /usr/local/lib/python3.7/dist-packages (from bert_score) (2.23.0)\n",
            "Collecting transformers>=3.0.0numpy\n",
            "  Downloading transformers-4.21.1-py3-none-any.whl (4.7 MB)\n",
            "\u001b[K     |████████████████████████████████| 4.7 MB 32.7 MB/s \n",
            "\u001b[?25hRequirement already satisfied: pyparsing!=3.0.5,>=2.0.2 in /usr/local/lib/python3.7/dist-packages (from packaging>=20.9->bert_score) (3.0.9)\n",
            "Requirement already satisfied: pytz>=2017.3 in /usr/local/lib/python3.7/dist-packages (from pandas>=1.0.1->bert_score) (2022.1)\n",
            "Requirement already satisfied: numpy>=1.17.3 in /usr/local/lib/python3.7/dist-packages (from pandas>=1.0.1->bert_score) (1.21.6)\n",
            "Requirement already satisfied: python-dateutil>=2.7.3 in /usr/local/lib/python3.7/dist-packages (from pandas>=1.0.1->bert_score) (2.8.2)\n",
            "Requirement already satisfied: six>=1.5 in /usr/local/lib/python3.7/dist-packages (from python-dateutil>=2.7.3->pandas>=1.0.1->bert_score) (1.15.0)\n",
            "Requirement already satisfied: typing-extensions in /usr/local/lib/python3.7/dist-packages (from torch>=1.0.0->bert_score) (4.1.1)\n",
            "Requirement already satisfied: pyyaml>=5.1 in /usr/local/lib/python3.7/dist-packages (from transformers>=3.0.0numpy->bert_score) (6.0)\n",
            "Collecting tokenizers!=0.11.3,<0.13,>=0.11.1\n",
            "  Downloading tokenizers-0.12.1-cp37-cp37m-manylinux_2_12_x86_64.manylinux2010_x86_64.whl (6.6 MB)\n",
            "\u001b[K     |████████████████████████████████| 6.6 MB 55.7 MB/s \n",
            "\u001b[?25hRequirement already satisfied: regex!=2019.12.17 in /usr/local/lib/python3.7/dist-packages (from transformers>=3.0.0numpy->bert_score) (2022.6.2)\n",
            "Requirement already satisfied: importlib-metadata in /usr/local/lib/python3.7/dist-packages (from transformers>=3.0.0numpy->bert_score) (4.12.0)\n",
            "Requirement already satisfied: filelock in /usr/local/lib/python3.7/dist-packages (from transformers>=3.0.0numpy->bert_score) (3.7.1)\n",
            "Requirement already satisfied: huggingface-hub<1.0,>=0.1.0 in /usr/local/lib/python3.7/dist-packages (from transformers>=3.0.0numpy->bert_score) (0.8.1)\n",
            "Requirement already satisfied: zipp>=0.5 in /usr/local/lib/python3.7/dist-packages (from importlib-metadata->transformers>=3.0.0numpy->bert_score) (3.8.1)\n",
            "Requirement already satisfied: cycler>=0.10 in /usr/local/lib/python3.7/dist-packages (from matplotlib->bert_score) (0.11.0)\n",
            "Requirement already satisfied: kiwisolver>=1.0.1 in /usr/local/lib/python3.7/dist-packages (from matplotlib->bert_score) (1.4.4)\n",
            "Requirement already satisfied: idna<3,>=2.5 in /usr/local/lib/python3.7/dist-packages (from requests->bert_score) (2.10)\n",
            "Requirement already satisfied: chardet<4,>=3.0.2 in /usr/local/lib/python3.7/dist-packages (from requests->bert_score) (3.0.4)\n",
            "Requirement already satisfied: certifi>=2017.4.17 in /usr/local/lib/python3.7/dist-packages (from requests->bert_score) (2022.6.15)\n",
            "Requirement already satisfied: urllib3!=1.25.0,!=1.25.1,<1.26,>=1.21.1 in /usr/local/lib/python3.7/dist-packages (from requests->bert_score) (1.25.11)\n",
            "Installing collected packages: tokenizers, transformers, bert-score\n",
            "Successfully installed bert-score-0.3.11 tokenizers-0.12.1 transformers-4.21.1\n"
          ]
        }
      ]
    },
    {
      "cell_type": "markdown",
      "source": [
        "#### 4.5.2 Loading the data\n",
        "\n",
        "We saved the data to a json so lets load it in"
      ],
      "metadata": {
        "id": "mFQUXmsGpAPY"
      }
    },
    {
      "cell_type": "code",
      "source": [
        "\n",
        "model_answers = pd.read_json(\"model_answers.json\")\n",
        "\n",
        "answers = []\n",
        "references = []\n",
        "\n",
        "for answer, valid in zip(model_answers[\"model_answer\"], model_answers[\"valid_answers\"]):\n",
        "  answers.append(answer)\n",
        "  references.append(valid[0][\"text\"])\n",
        "    "
      ],
      "metadata": {
        "colab": {
          "base_uri": "https://localhost:8080/"
        },
        "id": "oKxrdxEWpoIN",
        "outputId": "46d21b83-42e0-4ccf-9952-a91f9d025a07"
      },
      "execution_count": 12,
      "outputs": [
        {
          "output_type": "stream",
          "name": "stdout",
          "text": [
            "828\n",
            "828\n"
          ]
        }
      ]
    },
    {
      "cell_type": "markdown",
      "source": [
        "#### 4.5.3 Calculate the metrics"
      ],
      "metadata": {
        "id": "ByjMwni7rm9r"
      }
    },
    {
      "cell_type": "code",
      "source": [
        "results = bertscore.compute(predictions=answers, references=references, lang=\"en\")\n",
        "\n",
        "print(results)"
      ],
      "metadata": {
        "colab": {
          "base_uri": "https://localhost:8080/",
          "height": 443,
          "referenced_widgets": [
            "189e851fc12c49629f04730bbdbe5367",
            "b12fee304a1f4fa1a77faae914679677",
            "dd8ae1ccd3714bc8a9125740dbbd1ba9",
            "806cb9b7cce24cceb734eedc0203ff3c",
            "7b2cf28275704e39ac77e29ebbcf4ba9",
            "4b7316496c154d88a68f90dd65949a75",
            "b0113128555f4d5fa352c0b9505e2f6e",
            "d1d49d091e4342c5a3eb17aa67dc4735",
            "1a37c52d749c41629c6423301c6fdf1a",
            "c1ccef2e30824fd39a57174be2322541",
            "2cb34c160cb7436686159a342ad4955e",
            "5362d2b35e434c4da5d514ec0c8c0aa7",
            "bf24241e8a4c4a6195330b5346ce1782",
            "05f261d127de45ecbff55d5bd6c77e4c",
            "05696f1359734ff1ab0339586c6f2cea",
            "ed2c7bf5a1a7410fb316b845d0a2ff95",
            "7a7faa34485d46769f3cc65ca7aef69d",
            "86366932c6b645c3a5e61c7ca4729d00",
            "57fe3658a779417d96a4c9baaa4237d5",
            "83bdb552762c4f7ca827b9cd243a72f7",
            "1eb9de6733eb409b87153bb39c38b9a2",
            "0141eafdd71b4a4cb0056afbff048f14",
            "caa8aacd3f06469b9a631c6206efc4b5",
            "c2eb877c7834482088f8dd6d99d7c94f",
            "9ebbcd49b8d94fe98815face8d86b7f1",
            "715119141a7f494a8496d82868a44f0e",
            "ee22325678974340bc3128a9f972c440",
            "aca4971217644d86be74e1b25b73c985",
            "c54111768e7b4abbb0c04620662a95d0",
            "ec5c922fd4e2471e8baa331f4cd4294f",
            "799551901d294cd8a1876177ed1c76f4",
            "c48a1bf2be374770ac23641963be6762",
            "62711eccbd2741f1885b7de61edc79c5",
            "63f9ff253a674398bbaa574b3d832111",
            "ae8e840ac48647a9a0056032b5eaf51d",
            "24fa61cedf224c56982f32335cad0b51",
            "c2adf246b4ad40eeb2f58e54849560e4",
            "b9ff9d824fd841ffa7cc1da1ec3d2a0f",
            "3225f0f1b5bc4e6685cd11fc83a39279",
            "c7ec3ea50c344637a5aa1ee05d5345e4",
            "1bb12dad781a492eac909de1a5a62132",
            "f91aaf399e66452b906d283fa32b6df5",
            "b9fb83a2b97b498cbb3bd365fb0df810",
            "3af4f45b55584085a4907739bbbf544d"
          ]
        },
        "id": "BNKyBB6mrrE_",
        "outputId": "50b76ff4-eea1-49bd-9c84-1ae18dbd5fe4"
      },
      "execution_count": 13,
      "outputs": [
        {
          "output_type": "display_data",
          "data": {
            "text/plain": [
              "Downloading config.json:   0%|          | 0.00/482 [00:00<?, ?B/s]"
            ],
            "application/vnd.jupyter.widget-view+json": {
              "version_major": 2,
              "version_minor": 0,
              "model_id": "189e851fc12c49629f04730bbdbe5367"
            }
          },
          "metadata": {}
        },
        {
          "output_type": "display_data",
          "data": {
            "text/plain": [
              "Downloading vocab.json:   0%|          | 0.00/878k [00:00<?, ?B/s]"
            ],
            "application/vnd.jupyter.widget-view+json": {
              "version_major": 2,
              "version_minor": 0,
              "model_id": "5362d2b35e434c4da5d514ec0c8c0aa7"
            }
          },
          "metadata": {}
        },
        {
          "output_type": "display_data",
          "data": {
            "text/plain": [
              "Downloading merges.txt:   0%|          | 0.00/446k [00:00<?, ?B/s]"
            ],
            "application/vnd.jupyter.widget-view+json": {
              "version_major": 2,
              "version_minor": 0,
              "model_id": "caa8aacd3f06469b9a631c6206efc4b5"
            }
          },
          "metadata": {}
        },
        {
          "output_type": "display_data",
          "data": {
            "text/plain": [
              "Downloading pytorch_model.bin:   0%|          | 0.00/1.33G [00:00<?, ?B/s]"
            ],
            "application/vnd.jupyter.widget-view+json": {
              "version_major": 2,
              "version_minor": 0,
              "model_id": "63f9ff253a674398bbaa574b3d832111"
            }
          },
          "metadata": {}
        },
        {
          "output_type": "stream",
          "name": "stdout",
          "text": [
            "{'precision': [0.9686095118522644, 0.9999999403953552, 1.000000238418579, 0.9631285071372986, 0.9554632902145386, 0.8415042161941528, 0.986257791519165, 1.0000001192092896, 0.0, 0.9705690741539001, 0.8393273949623108, 0.9412073493003845, 0.8889396786689758, 0.9049331545829773, 0.9651733636856079, 0.8516417741775513, 0.8685101866722107, 0.8800537586212158, 0.9794119596481323, 0.886131763458252, 0.9329707622528076, 0.0, 0.9146555662155151, 0.8768319487571716, 0.9139076471328735, 1.0, 0.9591159820556641, 0.8846626281738281, 0.8834199905395508, 0.8734580278396606, 0.8433209657669067, 1.0000001192092896, 1.0, 0.9715421199798584, 0.9074413180351257, 0.9716725945472717, 1.0, 0.9074124693870544, 0.992056667804718, 0.9817062020301819, 0.0, 1.0000001192092896, 0.9548692107200623, 0.8183964490890503, 0.9661613702774048, 0.8784549236297607, 1.0000001192092896, 0.8796072602272034, 0.9999998807907104, 1.0, 0.0, 0.971061110496521, 1.000000238418579, 1.000000238418579, 0.9787951707839966, 1.0, 0.9999999403953552, 0.9999998807907104, 0.9999998807907104, 0.0, 0.0, 0.0, 0.0, 0.0, 0.9942713379859924, 1.0000001192092896, 0.8302760124206543, 0.8619253039360046, 0.966926634311676, 0.9574375152587891, 0.973609447479248, 1.0, 0.9142515063285828, 0.9883841276168823, 0.9529924392700195, 0.9253377914428711, 0.9793237447738647, 0.9433950185775757, 0.9665476083755493, 0.9049268960952759, 0.9311246871948242, 0.9999999403953552, 0.9999997019767761, 0.9999997615814209, 0.9680424928665161, 0.962985098361969, 1.0000001192092896, 0.8437784910202026, 0.9524397850036621, 0.8594071865081787, 0.989288866519928, 1.0, 0.9180045127868652, 0.8341771364212036, 0.0, 0.8160398006439209, 0.8603358268737793, 0.0, 0.9605075716972351, 0.9287227988243103, 0.8933025002479553, 0.9437258243560791, 0.9399615526199341, 0.9463443756103516, 0.0, 0.9859236478805542, 0.0, 0.9914560914039612, 0.985828161239624, 0.9891192317008972, 0.90012526512146, 0.9481693506240845, 0.0, 0.834518551826477, 0.0, 0.7841452360153198, 0.8354849219322205, 0.8873583674430847, 0.9914417266845703, 0.9596144556999207, 0.8329785466194153, 0.8943085670471191, 0.0, 0.0, 0.8942070007324219, 0.0, 0.0, 0.0, 0.9999997615814209, 1.0, 0.0, 0.9999998807907104, 0.0, 0.0, 0.9632310271263123, 0.9999995231628418, 0.9866567850112915, 0.0, 1.0, 0.9687888026237488, 0.9383389949798584, 0.0, 0.8807594776153564, 0.9817569255828857, 0.8918280601501465, 0.0, 0.9704933762550354, 0.8642124533653259, 0.8953588604927063, 0.9999997019767761, 1.0000003576278687, 0.0, 0.9999995231628418, 0.829339325428009, 0.822849690914154, 0.8287699222564697, 0.8454142808914185, 0.0, 0.8589470982551575, 0.8112285137176514, 0.8599569797515869, 0.0, 0.8620671629905701, 0.861862063407898, 0.8563213348388672, 0.9307827353477478, 0.0, 0.9574233293533325, 0.9529715776443481, 0.8598830699920654, 1.0000001192092896, 0.0, 0.9903221130371094, 0.8477932214736938, 1.0, 0.9999999403953552, 0.828984260559082, 0.0, 0.9049708247184753, 0.9717392921447754, 0.9999999403953552, 0.9543066024780273, 0.0, 0.98980313539505, 0.8374776840209961, 0.8732839822769165, 0.9728131890296936, 0.9654951095581055, 0.8479535579681396, 0.9076265096664429, 0.868438720703125, 1.0, 0.8479422330856323, 0.8523576259613037, 0.0, 0.9765239953994751, 1.0000001192092896, 0.9794591069221497, 0.0, 0.9999999403953552, 0.9873800277709961, 0.7984086871147156, 0.8636611700057983, 0.0, 0.9999999403953552, 0.0, 0.9536925554275513, 0.9999998211860657, 0.0, 0.9706096649169922, 0.9999998807907104, 0.9509652256965637, 0.9686995148658752, 0.9477758407592773, 0.8566190600395203, 0.9999998807907104, 0.9689456820487976, 0.849347710609436, 0.9679362773895264, 0.0, 0.0, 0.9624254703521729, 0.0, 0.8242302536964417, 0.8605371713638306, 0.9657840728759766, 0.0, 0.9487990736961365, 0.8300315141677856, 1.0, 0.9499882459640503, 1.0000001192092896, 0.8147956132888794, 0.8572907447814941, 0.9476503729820251, 0.9630669951438904, 0.9775116443634033, 0.0, 0.9720556735992432, 0.0, 1.0, 0.9071118831634521, 1.0, 0.928765594959259, 0.9791727066040039, 0.9173665046691895, 1.0, 0.9332355856895447, 1.0000001192092896, 1.0, 0.960783064365387, 0.9411576986312866, 1.0000004768371582, 0.9999996423721313, 1.0, 0.9999998211860657, 0.0, 0.9508333802223206, 0.9169484376907349, 0.9350972175598145, 0.934579610824585, 0.0, 0.9580661058425903, 0.9999998807907104, 1.0000001192092896, 0.9485705494880676, 0.9999998807907104, 0.0, 0.9549039006233215, 0.9300374984741211, 0.9454283714294434, 0.9733474254608154, 0.9999998807907104, 0.8668196201324463, 0.9242727756500244, 1.0000001192092896, 0.9999996423721313, 1.0000001192092896, 0.9535535573959351, 0.9819931387901306, 0.9999997615814209, 0.9391796588897705, 0.9285373687744141, 0.0, 0.9963003993034363, 0.9207053780555725, 0.9901355504989624, 1.0, 1.0, 1.000000238418579, 0.8700149655342102, 0.959707498550415, 0.9999999403953552, 0.9745051860809326, 0.8440129160881042, 0.9733635187149048, 0.8822188973426819, 0.8258845210075378, 0.7865565419197083, 0.8674386739730835, 0.912280797958374, 0.9460164308547974, 0.8747628927230835, 0.9463363885879517, 1.0000003576278687, 1.000000238418579, 0.0, 0.0, 0.9999997615814209, 0.0, 0.9577041864395142, 1.0, 0.9550211429595947, 1.000000238418579, 0.8944556713104248, 0.8946985006332397, 0.9999998807907104, 0.9999998211860657, 0.9783967733383179, 0.9777694344520569, 1.0000003576278687, 0.9999998807907104, 0.9704980254173279, 0.9524329900741577, 0.997428834438324, 0.8854420185089111, 0.9488295316696167, 0.9614914059638977, 0.9999998807907104, 0.0, 0.8021311163902283, 1.000000238418579, 0.9999998211860657, 0.8528817892074585, 0.9999998807907104, 0.9214766025543213, 0.936464786529541, 0.9999998807907104, 0.9263429641723633, 0.8250572681427002, 0.9999999403953552, 0.7581605911254883, 0.9999998807907104, 0.8325587511062622, 0.8307554721832275, 0.9600727558135986, 0.9999997615814209, 1.0, 1.0, 0.7493071556091309, 0.9756149053573608, 1.0000001192092896, 0.8348332643508911, 0.0, 0.9999998807907104, 0.918582558631897, 0.9467777013778687, 1.0, 0.8381825089454651, 0.9999998211860657, 0.8583519458770752, 0.8480955362319946, 0.8570775985717773, 0.8629734516143799, 0.8583290576934814, 0.9616925716400146, 0.918623685836792, 0.8459218144416809, 0.9799385666847229, 1.000000238418579, 0.8964874148368835, 0.8723548650741577, 0.9220983386039734, 0.9340234994888306, 0.9999997615814209, 0.9398950338363647, 0.9855487942695618, 0.8171496391296387, 1.0000003576278687, 1.0000003576278687, 0.9084523320198059, 0.9679299592971802, 0.9659998416900635, 1.0, 0.0, 0.8803733587265015, 0.9999998807907104, 0.8293331861495972, 0.9305641055107117, 0.9326125979423523, 0.9434441328048706, 0.9799832105636597, 0.903234601020813, 0.8642591238021851, 0.9570778012275696, 0.9491761326789856, 0.8525727987289429, 0.974652111530304, 0.0, 0.9588117003440857, 0.9712687134742737, 0.9942519068717957, 0.9069674611091614, 0.9999999403953552, 1.0000001192092896, 1.0, 0.9667943716049194, 0.9999998807907104, 0.9999999403953552, 0.9888050556182861, 1.0000001192092896, 0.8857161402702332, 0.8219496607780457, 0.8497190475463867, 0.0, 0.8566063642501831, 0.8378986120223999, 0.8543045520782471, 0.8679443001747131, 0.8395853638648987, 0.8542642593383789, 0.809566855430603, 0.8238368034362793, 0.9858003854751587, 0.9575766324996948, 0.9550052285194397, 0.8103080987930298, 0.9678647518157959, 0.0, 0.0, 0.9592783451080322, 0.8642075657844543, 0.9564496278762817, 1.0000005960464478, 0.9457728862762451, 0.9152781963348389, 0.9668598175048828, 0.977020800113678, 0.9670487642288208, 0.8305160999298096, 0.9576255679130554, 0.0, 0.0, 0.9062086939811707, 0.9710526466369629, 0.9788578748703003, 0.9393836259841919, 0.9194140434265137, 0.999999463558197, 0.9923138618469238, 0.941159725189209, 0.8588008284568787, 0.9224604368209839, 0.7976821660995483, 0.9665728211402893, 0.9278754591941833, 0.8261255025863647, 0.0, 0.9873276948928833, 1.0, 1.000000238418579, 0.9796609878540039, 0.9667037725448608, 0.9698415994644165, 0.9620561599731445, 0.9999997615814209, 0.9790867567062378, 0.9300276041030884, 0.8612866401672363, 1.0, 0.8876640796661377, 0.9885265827178955, 1.0000001192092896, 0.9999998807907104, 0.8035025000572205, 0.8277621269226074, 0.9518582224845886, 0.9880961179733276, 0.8702155947685242, 0.9446966648101807, 0.9999999403953552, 0.8628849387168884, 0.9849904775619507, 0.9999998807907104, 0.9999998807907104, 0.8767473697662354, 0.9897572994232178, 0.9323388338088989, 0.8741946220397949, 0.9730437397956848, 0.9999999403953552, 0.958681583404541, 0.9527076482772827, 0.8390966653823853, 0.8615448474884033, 0.9705451130867004, 0.9279404878616333, 0.9630224704742432, 0.9465365409851074, 0.8306005001068115, 0.9570809602737427, 0.8721734285354614, 0.970208466053009, 1.0, 1.0, 0.8762512803077698, 0.0, 0.8792647123336792, 0.9481160640716553, 0.8860935568809509, 0.8499116897583008, 0.0, 0.8714028596878052, 1.0, 0.0, 0.9171401858329773, 0.8491405844688416, 0.9060696363449097, 0.9030951261520386, 0.947952151298523, 0.969774067401886, 0.8512051105499268, 0.0, 0.9120146036148071, 0.9252318143844604, 0.9671001434326172, 0.8864622116088867, 0.9999998807907104, 0.9084224700927734, 0.8636935949325562, 0.0, 0.887671709060669, 0.0, 0.9744203090667725, 0.8735736608505249, 0.9638956189155579, 0.9831750392913818, 0.9760545492172241, 0.8421123027801514, 0.8705850839614868, 0.9938549995422363, 0.8838733434677124, 0.9999999403953552, 0.9579424858093262, 0.9608559012413025, 0.8318896889686584, 0.8740555047988892, 0.9056780338287354, 0.9747090935707092, 0.8827202320098877, 0.8935447931289673, 0.9608751535415649, 0.858352541923523, 0.9448419213294983, 0.9537627696990967, 0.9663980007171631, 0.9782295823097229, 0.9310135245323181, 0.9638542532920837, 0.9729084968566895, 0.980744481086731, 0.8558270335197449, 0.8971133232116699, 0.9776668548583984, 0.8368168473243713, 0.8389237523078918, 0.9370689392089844, 0.9677033424377441, 0.8435089588165283, 0.8502017259597778, 0.0, 0.9611474275588989, 0.9272987246513367, 0.9728086590766907, 0.9518155455589294, 0.967536211013794, 0.9551693797111511, 0.9723706841468811, 0.9999998211860657, 0.9445295929908752, 0.991098940372467, 0.8412183523178101, 0.9329622983932495, 0.933516263961792, 0.9999998807907104, 0.9507258534431458, 0.9541445970535278, 0.8252708911895752, 0.941631555557251, 0.9384769201278687, 0.951343834400177, 0.9755759239196777, 0.8681135773658752, 0.9791823029518127, 0.9578889012336731, 1.0, 0.8764093518257141, 0.917375922203064, 0.9658986330032349, 0.883653461933136, 0.982880711555481, 0.9363855719566345, 0.9999998807907104, 0.9814438819885254, 0.9756271243095398, 0.9823299050331116, 0.9483259916305542, 0.929351806640625, 0.8364635109901428, 0.9531242847442627, 1.0, 0.9606186151504517, 0.8567792177200317, 0.9999999403953552, 0.8786810636520386, 0.9646706581115723, 1.0, 0.8705980777740479, 0.986345648765564, 0.8390700817108154, 0.9548428058624268, 0.9643737077713013, 0.9622480273246765, 0.9787619113922119, 0.9999992847442627, 0.971138060092926, 0.9752552509307861, 0.9713426232337952, 0.9754149913787842, 0.9746348857879639, 0.9773799777030945, 0.9747648239135742, 0.9704147577285767, 0.9285897016525269, 0.9760618209838867, 0.9754493832588196, 0.0, 0.9630986452102661, 1.0, 0.8383810520172119, 0.9811450242996216, 0.8624931573867798, 0.9948055744171143, 0.8344610929489136, 0.0, 0.9324111938476562, 0.8323248624801636, 0.8455139398574829, 0.9878727197647095, 0.9380348920822144, 0.956517219543457, 0.8796064853668213, 0.9576049447059631, 0.8843542337417603, 0.8675912618637085, 0.8390559554100037, 0.808468759059906, 0.947036623954773, 0.9999998807907104, 1.0, 0.0, 0.9403703212738037, 0.8492389917373657, 0.8395006656646729, 0.9080053567886353, 0.848893940448761, 0.9007472395896912, 0.8877919316291809, 0.9555996060371399, 0.8418757915496826, 0.9999998211860657, 1.0000003576278687, 0.8740740418434143, 0.9999999403953552, 0.0, 0.9429647326469421, 1.000000238418579, 0.9799567461013794, 0.9826269149780273, 0.9948903322219849, 0.9879876971244812, 0.9501932263374329, 0.0, 0.9487461447715759, 0.9999998807907104, 0.9808864593505859, 0.0, 0.0, 0.8747534155845642, 0.9377281665802002, 0.8868279457092285, 0.8685544729232788, 0.8648538589477539, 0.9425404071807861, 0.9537408351898193, 0.9671528935432434, 0.9346188902854919, 0.854121744632721, 0.9460756182670593, 1.000000238418579, 0.9830365777015686, 0.0, 0.8515468835830688, 0.9598436951637268, 0.9844754934310913, 0.9438838362693787, 0.0, 0.0, 0.8840844631195068, 0.9999998807907104, 0.9702247381210327, 0.8620438575744629, 0.9528894424438477, 0.823643684387207, 0.9857112169265747, 0.9920284152030945, 0.9915533065795898, 0.9999998807907104, 0.0, 0.9251277446746826, 0.979912519454956, 0.9999998807907104, 0.9601542949676514, 0.9764531850814819, 0.9187158346176147, 0.8807018995285034, 0.7923714518547058, 0.9011768698692322, 0.8801508545875549, 0.9090458750724792, 0.810489296913147, 0.0, 0.0, 0.9164497256278992, 0.8308759331703186, 0.9039238691329956, 0.9013501405715942, 0.8858157992362976, 0.0, 0.8054901361465454, 0.8178543448448181, 0.8701096773147583, 0.956698477268219, 0.0, 0.0, 0.0, 0.835077166557312, 0.877347469329834, 0.9556458592414856, 0.0, 1.0, 0.9435705542564392, 0.9642189741134644, 0.9328799247741699, 0.8173346519470215, 0.9240894317626953, 0.967750072479248, 0.992318868637085, 0.950886607170105, 0.9833098649978638, 0.8211785554885864, 0.8945083618164062, 0.9636804461479187, 0.0, 0.0, 0.8549478054046631, 0.8800232410430908, 0.9335623979568481, 0.9729610681533813, 0.9581102132797241, 0.9564101696014404, 0.9925721287727356, 0.8943670392036438, 0.9858904480934143, 0.9489713907241821, 1.0, 0.9685050249099731, 0.0, 0.9999999403953552, 0.886882483959198, 0.9857863187789917, 0.9678541421890259, 0.9594168663024902, 0.0, 0.9907814860343933, 0.9344170093536377, 0.8419947028160095, 0.9239184856414795, 0.9946011304855347, 0.0, 0.0, 0.9935559034347534, 0.0, 0.0, 0.0, 0.0, 0.0, 0.0, 0.0, 0.0, 0.0, 0.0, 0.9220821261405945, 0.9727776050567627, 1.0, 1.0000003576278687, 0.9742806553840637, 0.9675824642181396, 1.0000001192092896, 0.0, 1.0000001192092896, 0.9371395111083984, 0.9543576240539551, 1.000000238418579, 0.9913858771324158, 0.9913250803947449, 0.9453768730163574, 0.9220470190048218, 0.9597277045249939, 0.9337556958198547, 0.9945836067199707, 0.0, 0.99705970287323, 0.9536685943603516, 0.9496668577194214, 1.0, 1.0, 0.9415047764778137], 'recall': [0.9360077381134033, 0.9999999403953552, 1.000000238418579, 0.9906295537948608, 0.963935136795044, 0.7948836088180542, 0.9938420057296753, 1.0000001192092896, 0.0, 0.8725913763046265, 0.7544943690299988, 0.8845736384391785, 0.800913393497467, 0.8533626794815063, 0.8788331151008606, 0.8130769729614258, 0.8272968530654907, 0.8106385469436646, 0.9221235513687134, 0.8384742736816406, 0.8354259729385376, 0.0, 0.8363200426101685, 0.7652477025985718, 0.8346651196479797, 1.0, 0.8606037497520447, 0.8299859166145325, 0.8315485119819641, 0.8127648830413818, 0.7715737819671631, 1.0000001192092896, 1.0, 0.8066688179969788, 0.8324871063232422, 0.9002798795700073, 1.0, 0.8594925403594971, 0.991065263748169, 0.9904310703277588, 0.0, 1.0000001192092896, 0.8983027935028076, 0.9033956527709961, 0.9209451675415039, 0.8066554069519043, 1.0000001192092896, 0.8634347319602966, 0.9999998807907104, 1.0, 0.0, 0.976690411567688, 1.000000238418579, 1.000000238418579, 0.9787951707839966, 1.0, 0.9999999403953552, 0.9999998807907104, 0.9999998807907104, 0.0, 0.0, 0.0, 0.0, 0.0, 0.9931529760360718, 1.0000001192092896, 0.8216255903244019, 0.8057045936584473, 0.8817978501319885, 0.9200305342674255, 0.9897435903549194, 1.0, 0.7422021627426147, 0.9554318785667419, 0.9304701089859009, 0.8414514064788818, 0.9713665246963501, 0.955619752407074, 0.8778402209281921, 0.8243342041969299, 0.9311246871948242, 0.9999999403953552, 0.9999997019767761, 0.9999997615814209, 0.9107486009597778, 0.9483177065849304, 1.0000001192092896, 0.8210638165473938, 0.9241546392440796, 0.7673938870429993, 0.9892889261245728, 1.0, 0.8645663261413574, 0.8238925337791443, 0.0, 0.8132423162460327, 0.8851331472396851, 0.0, 0.8823411464691162, 0.8744153380393982, 0.8452709317207336, 0.8418248891830444, 0.8065614700317383, 0.9043654799461365, 0.0, 0.9852853417396545, 0.0, 0.9876939058303833, 0.9802650809288025, 0.9859123229980469, 0.8953918814659119, 0.8601298332214355, 0.0, 0.8015705347061157, 0.0, 0.7867089509963989, 0.8123312592506409, 0.8029232025146484, 0.9769017696380615, 0.8996188640594482, 0.8113667368888855, 0.8233043551445007, 0.0, 0.0, 0.8274771571159363, 0.0, 0.0, 0.0, 0.9999997615814209, 1.0, 0.0, 0.9999998807907104, 0.0, 0.0, 0.9829108119010925, 0.9999995231628418, 0.9866567850112915, 0.0, 1.0, 0.9684953689575195, 0.9602409601211548, 0.0, 0.9256627559661865, 0.9734787940979004, 0.88634192943573, 0.0, 0.9652127623558044, 0.9112356305122375, 0.9543066024780273, 0.9999997019767761, 1.0000003576278687, 0.0, 0.9999995231628418, 0.8682364821434021, 0.8482145071029663, 0.8467439413070679, 0.8632251024246216, 0.0, 0.8405666947364807, 0.8007572889328003, 0.8495615124702454, 0.0, 0.8389737010002136, 0.7847119569778442, 0.8484362363815308, 0.8704050779342651, 0.0, 0.8920419216156006, 0.8521990180015564, 0.8447530269622803, 1.0000001192092896, 0.0, 0.9834097027778625, 0.808749258518219, 1.0, 1.0, 0.7931432127952576, 0.0, 0.9311450123786926, 0.8525879383087158, 0.9999999403953552, 0.8953588604927063, 0.0, 0.9855227470397949, 0.7644920349121094, 0.7486025094985962, 0.9877712726593018, 0.842276930809021, 0.7664588689804077, 0.8426632881164551, 0.7825648784637451, 1.0, 0.8444836735725403, 0.7909773588180542, 0.0, 0.9495203495025635, 1.0000001192092896, 0.9749817848205566, 0.0, 0.9999999403953552, 0.9821174144744873, 0.807870626449585, 0.8169935941696167, 0.0, 0.9999999403953552, 0.0, 0.9684711694717407, 0.9999998211860657, 0.0, 0.9287123680114746, 0.9999998807907104, 0.9304377436637878, 0.8764834403991699, 0.8611034750938416, 0.7963887453079224, 0.9999998807907104, 0.9211851358413696, 0.8359957933425903, 0.9440613389015198, 0.0, 0.0, 0.8291635513305664, 0.0, 0.771979570388794, 0.7847384810447693, 0.9247771501541138, 0.0, 0.8262108564376831, 0.7550339698791504, 1.0, 0.9048367142677307, 1.0000001192092896, 0.7849412560462952, 0.7993572950363159, 0.9803900718688965, 0.9089658260345459, 0.9657855033874512, 0.0, 0.973609209060669, 0.0, 1.0, 0.9367992877960205, 1.0, 0.9101428985595703, 0.9791727066040039, 0.882145881652832, 1.0, 0.8337001800537109, 1.0000001192092896, 1.0, 0.942159116268158, 0.9430012702941895, 1.0000004768371582, 0.9999996423721313, 1.0, 0.9999998211860657, 0.0, 0.9225553274154663, 0.9054296016693115, 0.8368549942970276, 0.922234058380127, 0.0, 0.8629552125930786, 0.9999998807907104, 1.0000001192092896, 0.8706803321838379, 0.9999998807907104, 0.0, 0.9118876457214355, 0.9051227569580078, 0.8733518123626709, 0.9328151941299438, 0.9999998807907104, 0.8279935717582703, 0.8839396834373474, 1.0000001192092896, 0.9999996423721313, 1.0000001192092896, 0.842279314994812, 0.9819931387901306, 0.9999997615814209, 0.8569120168685913, 0.8836553692817688, 0.0, 0.9965167045593262, 0.7750624418258667, 0.9862250685691833, 1.0, 1.0, 1.000000238418579, 0.825798511505127, 0.8540955185890198, 0.9999999403953552, 0.9452977180480957, 0.7763285040855408, 0.897018551826477, 0.8445314168930054, 0.7924516201019287, 0.8287140727043152, 0.8444687128067017, 0.8472384810447693, 0.8799886107444763, 0.8327222466468811, 0.890297532081604, 1.0000003576278687, 1.000000238418579, 0.0, 0.0, 0.9999997615814209, 0.0, 0.8489481210708618, 1.0, 0.9618101119995117, 1.000000238418579, 0.8580060601234436, 0.8012034296989441, 0.9999998807907104, 0.9999998211860657, 0.8803694844245911, 0.933979868888855, 1.0000003576278687, 0.9999998807907104, 0.8811144828796387, 0.904213547706604, 0.9882747530937195, 0.9114620685577393, 0.8702195882797241, 0.8034107685089111, 0.9999998807907104, 0.0, 0.8399249315261841, 1.0000001192092896, 0.9999998211860657, 0.824654221534729, 0.9999998807907104, 0.8143237233161926, 0.9146074652671814, 0.9999998807907104, 0.8839124441146851, 0.7807828187942505, 0.9999999403953552, 0.8676943182945251, 0.9999998807907104, 0.770187258720398, 0.7969335317611694, 0.9455903768539429, 0.9999997615814209, 1.0, 1.0, 0.7662726640701294, 0.9569011926651001, 1.0000001192092896, 0.8307673931121826, 0.0, 0.9999998807907104, 0.9019527435302734, 0.9307036399841309, 1.0, 0.856401264667511, 0.9999998211860657, 0.8747845888137817, 0.8609681129455566, 0.8342320322990417, 0.8483715057373047, 0.8102105855941772, 0.9529504776000977, 0.9725701808929443, 0.8679826855659485, 0.9767274856567383, 1.000000238418579, 0.8618571162223816, 0.8450263142585754, 0.8742295503616333, 0.8918185234069824, 0.9999997615814209, 0.9567093253135681, 0.9327244162559509, 0.7882581949234009, 1.0000003576278687, 1.0000003576278687, 0.9748672246932983, 0.9656461477279663, 0.9051011800765991, 1.0, 0.0, 0.8101222515106201, 0.9999998807907104, 0.7745723724365234, 0.8697806596755981, 0.8497495055198669, 0.9116117358207703, 0.9634283781051636, 0.8616638779640198, 0.8354438543319702, 0.9240244030952454, 0.849315345287323, 0.7977315187454224, 0.9672305583953857, 0.0, 0.9000205397605896, 0.9526970386505127, 0.9946928024291992, 0.9319063425064087, 0.9999999403953552, 1.0000001192092896, 1.0, 0.8838529586791992, 0.9999998807907104, 0.9999999403953552, 0.9766858816146851, 1.0000001192092896, 0.8128034472465515, 0.816317617893219, 0.7878057360649109, 0.0, 0.7727601528167725, 0.8107429146766663, 0.7597997784614563, 0.7946312427520752, 0.7569897174835205, 0.8194124698638916, 0.7885699272155762, 0.8126301765441895, 0.9845118522644043, 0.8600552678108215, 0.9190632700920105, 0.8094288110733032, 0.8738469481468201, 0.0, 0.0, 0.962003231048584, 0.7494393587112427, 0.8170903921127319, 1.0000005960464478, 0.9387012124061584, 0.8259052038192749, 0.8992649912834167, 0.9636477828025818, 0.9523255825042725, 0.8307890892028809, 0.9213993549346924, 0.0, 0.0, 0.9285943508148193, 0.9411638975143433, 0.9863458275794983, 0.931808590888977, 0.9214982390403748, 0.999999463558197, 0.9706107378005981, 0.9223953485488892, 0.8213227987289429, 0.8511261940002441, 0.7402985095977783, 0.9540058970451355, 0.9090808033943176, 0.7322505116462708, 0.0, 0.9621310830116272, 1.0, 1.000000238418579, 0.9868171215057373, 0.8701311349868774, 0.9532092213630676, 0.9908023476600647, 0.9999997615814209, 0.9820706248283386, 0.9008558988571167, 0.7903594374656677, 1.0, 0.8844310641288757, 0.9668190479278564, 1.0000001192092896, 0.9999998807907104, 0.8432818651199341, 0.8132942914962769, 0.8723524212837219, 0.9812643527984619, 0.8887308835983276, 0.9763936996459961, 0.9999999403953552, 0.7960100173950195, 0.9861432313919067, 0.9999999403953552, 0.9999998807907104, 0.8604451417922974, 0.9833509922027588, 0.9150752425193787, 0.8863497972488403, 0.9175485372543335, 1.0, 0.908361554145813, 0.9448647499084473, 0.8108538389205933, 0.8463889956474304, 0.8953038454055786, 0.8473403453826904, 0.8430318832397461, 0.8009320497512817, 0.782779335975647, 0.9570809602737427, 0.8279795050621033, 0.9108198285102844, 1.0, 1.0, 0.9243484735488892, 0.0, 0.7921091914176941, 0.8906450271606445, 0.8101179599761963, 0.7572683095932007, 0.0, 0.8029919862747192, 1.0000001192092896, 0.0, 0.8475097417831421, 0.7619830369949341, 0.8456678986549377, 0.8693031072616577, 0.9119870066642761, 0.9221736192703247, 0.7732787132263184, 0.0, 0.8107583522796631, 0.7859715223312378, 0.8875236511230469, 0.7741713523864746, 0.9999998807907104, 0.8735605478286743, 0.838080108165741, 0.0, 0.8418859839439392, 0.0, 0.8976294994354248, 0.8178620934486389, 0.9242614507675171, 0.9838144779205322, 0.9137988686561584, 0.8264293074607849, 0.8603705167770386, 0.9896012544631958, 0.8688591122627258, 0.9999999403953552, 0.8658115267753601, 0.9022949934005737, 0.8089039921760559, 0.8305761814117432, 0.8199554085731506, 0.8691115379333496, 0.8344616889953613, 0.8202003836631775, 0.9114603996276855, 0.8243021368980408, 0.8692275881767273, 0.8191766738891602, 0.8633350729942322, 0.9079785346984863, 0.8374683260917664, 0.8858798742294312, 0.9330126047134399, 0.923783004283905, 0.7880352735519409, 0.801599383354187, 0.9370723962783813, 0.8451781272888184, 0.7370586395263672, 0.87592613697052, 0.8426274657249451, 0.8216723799705505, 0.8478006720542908, 0.0, 0.9142614603042603, 0.9141122102737427, 0.9559959173202515, 0.8733870387077332, 0.9038054347038269, 0.9129307866096497, 0.9156891107559204, 0.9999998211860657, 0.909138560295105, 0.9383798837661743, 0.8260809779167175, 0.8500906229019165, 0.8680115342140198, 0.9999998807907104, 0.8703150749206543, 0.887607216835022, 0.8040813207626343, 0.8519369959831238, 0.908825159072876, 0.8820083737373352, 0.8677207231521606, 0.8636882901191711, 0.9791823625564575, 0.8698148727416992, 0.9999999403953552, 0.8754422664642334, 0.8830965757369995, 0.8758568167686462, 0.8648483753204346, 0.9327481389045715, 0.8367054462432861, 0.9999998807907104, 0.9730799198150635, 0.963304877281189, 0.9686638116836548, 0.9196034073829651, 0.9570391178131104, 0.825376570224762, 0.8746611475944519, 1.0, 0.8639484643936157, 0.8589626550674438, 0.9999999403953552, 0.9307634830474854, 0.8493160009384155, 1.0, 0.8824976682662964, 0.9670871496200562, 0.8258451223373413, 0.8854955434799194, 0.942188024520874, 0.8857187032699585, 0.8787457942962646, 0.9999992847442627, 0.9070594906806946, 0.9044888615608215, 0.9070034027099609, 0.9017406702041626, 0.9091763496398926, 0.8990931510925293, 0.8965733051300049, 0.8793680667877197, 0.8700565099716187, 0.9040890336036682, 0.901795506477356, 0.0, 0.9569002985954285, 1.0, 0.859982430934906, 0.9684239625930786, 0.8439395427703857, 0.9944066405296326, 0.7852621674537659, 0.0, 0.9179088473320007, 0.8393021821975708, 0.8346071243286133, 0.9966208934783936, 0.9230517148971558, 0.9837791919708252, 0.8285558223724365, 0.941792368888855, 0.944598376750946, 0.8898612856864929, 0.7978464961051941, 0.8043010234832764, 0.9734188914299011, 0.9999998807907104, 1.0, 0.0, 0.8640209436416626, 0.7847517132759094, 0.7798061966896057, 0.7964446544647217, 0.784257709980011, 0.8281593322753906, 0.8420217633247375, 0.8358103632926941, 0.8034666180610657, 0.9999998211860657, 1.0000003576278687, 0.8390049934387207, 0.9999999403953552, 0.0, 0.9429647326469421, 1.000000238418579, 0.9087897539138794, 0.9343258142471313, 0.9951329231262207, 0.9827637672424316, 0.8780179023742676, 0.0, 0.8611551523208618, 0.9999998807907104, 0.935737669467926, 0.0, 0.0, 0.8006391525268555, 0.8614054918289185, 0.8358111381530762, 0.8308305144309998, 0.833611011505127, 0.8990099430084229, 0.9256429672241211, 0.946500837802887, 0.8838416337966919, 0.8046726584434509, 0.8916985988616943, 1.000000238418579, 0.9041480422019958, 0.0, 0.8096504807472229, 0.921221911907196, 0.9801465272903442, 0.8717392683029175, 0.0, 0.0, 0.8124556541442871, 0.9999998807907104, 0.9282907247543335, 0.789534330368042, 0.9529573321342468, 0.7975320816040039, 0.9790498614311218, 0.9890098571777344, 0.9922024011611938, 0.9999998807907104, 0.0, 0.8677791357040405, 0.9421240091323853, 0.9999998807907104, 0.9168609380722046, 0.9507619738578796, 0.8202314972877502, 0.7955318093299866, 0.8157678246498108, 0.886914074420929, 0.8831437230110168, 0.9090458750724792, 0.7591876983642578, 0.0, 0.0, 0.900526762008667, 0.8374006748199463, 0.8445307016372681, 0.8384923934936523, 0.86234450340271, 0.0, 0.8038069605827332, 0.8221204876899719, 0.7983812093734741, 0.8128690123558044, 0.0, 0.0, 0.0, 0.7266038656234741, 0.7365813851356506, 0.8379302024841309, 0.0, 1.0, 0.8446775674819946, 0.8803060054779053, 0.8443354368209839, 0.8332018256187439, 0.8368948698043823, 0.9281602501869202, 0.9851135015487671, 0.8920799493789673, 0.9833098649978638, 0.860175609588623, 0.8477582931518555, 0.8674613833427429, 0.0, 0.0, 0.7773677110671997, 0.831737756729126, 0.9209680557250977, 0.9729610681533813, 0.8449403047561646, 0.8831565380096436, 0.9854385852813721, 0.8371206521987915, 0.9866728782653809, 0.8682698607444763, 1.0, 0.8774104118347168, 0.0, 1.0, 0.8105170726776123, 0.9808294773101807, 0.9015540480613708, 0.8654414415359497, 0.0, 0.9196591377258301, 0.9170303344726562, 0.7658767700195312, 0.8437669277191162, 0.9942420721054077, 0.0, 0.0, 0.9919477701187134, 0.0, 0.0, 0.0, 0.0, 0.0, 0.0, 0.0, 0.0, 0.0, 0.0, 0.8774434328079224, 0.8748250007629395, 1.0, 1.0000003576278687, 0.9774898290634155, 0.8934327363967896, 1.0000001192092896, 0.0, 1.0000001192092896, 0.8661311864852905, 0.9298094511032104, 1.0000001192092896, 0.9648951888084412, 0.9733532667160034, 0.865254282951355, 0.8615038990974426, 0.9317501187324524, 0.8762205839157104, 0.9840995669364929, 0.0, 0.9889445304870605, 0.8976803421974182, 0.9099711775779724, 1.0, 1.0, 0.8381420373916626], 'f1': [0.9520295858383179, 0.9999999403953552, 1.000000238418579, 0.9766855239868164, 0.9596805572509766, 0.8175297975540161, 0.9900354146957397, 1.0000001192092896, 0.0, 0.9189761281013489, 0.7946532368659973, 0.9120121598243713, 0.842633843421936, 0.878391683101654, 0.9199818968772888, 0.8319126963615417, 0.8474027514457703, 0.8439211249351501, 0.94990473985672, 0.8616445064544678, 0.8815080523490906, 0.0, 0.8737355470657349, 0.8172485828399658, 0.8724907636642456, 1.0, 0.9071933031082153, 0.8564525246620178, 0.8566998243331909, 0.8420191407203674, 0.8058536052703857, 1.0000001192092896, 1.0, 0.8814620971679688, 0.8683497309684753, 0.9346147775650024, 1.0, 0.8828026652336121, 0.9915607571601868, 0.9860493540763855, 0.0, 1.0000001192092896, 0.9257226586341858, 0.8587979674339294, 0.9430115818977356, 0.8410255312919617, 1.0000001192092896, 0.8714459538459778, 0.9999998807907104, 1.0, 0.0, 0.9738675951957703, 1.000000238418579, 1.000000238418579, 0.9787951707839966, 1.0, 0.9999999403953552, 0.9999998807907104, 0.9999998807907104, 0.0, 0.0, 0.0, 0.0, 0.0, 0.9937118291854858, 1.0000001192092896, 0.8259280920028687, 0.8328672051429749, 0.9224022626876831, 0.9383613467216492, 0.9816102385520935, 1.0, 0.8192917704582214, 0.971628725528717, 0.9415966272354126, 0.8814031481742859, 0.9753289222717285, 0.9494680762290955, 0.9200607538223267, 0.8627524971961975, 0.9311246871948242, 0.9999999403953552, 0.9999997019767761, 0.9999997615814209, 0.9385219812393188, 0.9555951356887817, 1.0000001192092896, 0.8322661519050598, 0.938084065914154, 0.8107984066009521, 0.989288866519928, 1.0, 0.8904843926429749, 0.8290029764175415, 0.0, 0.8146386742591858, 0.8725583553314209, 0.0, 0.9197666049003601, 0.9007512331008911, 0.8686231970787048, 0.8898676037788391, 0.8681669235229492, 0.9248787760734558, 0.0, 0.9856043457984924, 0.0, 0.9895713925361633, 0.9830387234687805, 0.9875131845474243, 0.8977522850036621, 0.9020063877105713, 0.0, 0.8177127838134766, 0.0, 0.7854250073432922, 0.8237453699111938, 0.8430318236351013, 0.9841180443763733, 0.9286486506462097, 0.8220306634902954, 0.8573387861251831, 0.0, 0.0, 0.8595488667488098, 0.0, 0.0, 0.0, 0.9999997615814209, 1.0, 0.0, 0.9999998807907104, 0.0, 0.0, 0.9729714393615723, 0.9999995231628418, 0.9866567850112915, 0.0, 1.0, 0.9686420559883118, 0.9491636753082275, 0.0, 0.9026529788970947, 0.9776003360748291, 0.8890765309333801, 0.0, 0.9678458571434021, 0.8871012926101685, 0.9238934516906738, 0.9999997019767761, 1.0000003576278687, 0.0, 0.9999995231628418, 0.8483422994613647, 0.8353396058082581, 0.8376604914665222, 0.85422682762146, 0.0, 0.8496575355529785, 0.8059589266777039, 0.8547276854515076, 0.0, 0.8503636717796326, 0.8214795589447021, 0.8523605465888977, 0.8995819687843323, 0.0, 0.9235769510269165, 0.8997725248336792, 0.852250874042511, 1.0000001192092896, 0.0, 0.986853837966919, 0.827811062335968, 1.0, 0.9999999403953552, 0.8106677532196045, 0.0, 0.917871356010437, 0.9082725644111633, 0.9999999403953552, 0.9238934516906738, 0.0, 0.9876583814620972, 0.799322247505188, 0.8061507940292358, 0.98023521900177, 0.8996866941452026, 0.8051493167877197, 0.8739393353462219, 0.8232685327529907, 1.0, 0.8462094068527222, 0.8205211758613586, 0.0, 0.9628328680992126, 1.0000001192092896, 0.9772153496742249, 0.0, 0.9999999403953552, 0.9847416877746582, 0.8031117916107178, 0.8396794199943542, 0.0, 0.9999999403953552, 0.0, 0.961025059223175, 0.9999998211860657, 0.0, 0.9491989016532898, 0.9999998807907104, 0.9405895471572876, 0.9202871918678284, 0.9023631811141968, 0.8254066705703735, 0.9999998807907104, 0.9444620013237, 0.8426188826560974, 0.955849826335907, 0.0, 0.0, 0.8908383846282959, 0.0, 0.7972497940063477, 0.820891797542572, 0.944835901260376, 0.0, 0.8832718133926392, 0.790758490562439, 1.0, 0.9268629550933838, 1.0000001192092896, 0.7995898723602295, 0.827311098575592, 0.963742196559906, 0.9352346658706665, 0.9716132283210754, 0.0, 0.9728318452835083, 0.0, 1.0, 0.921716570854187, 1.0, 0.9193599820137024, 0.9791727066040039, 0.8994114995002747, 1.0, 0.8806643486022949, 1.0000001192092896, 1.0, 0.9513799548149109, 0.9420785903930664, 1.0000004768371582, 0.9999996423721313, 1.0, 0.9999998211860657, 0.0, 0.9364808797836304, 0.9111526012420654, 0.883252739906311, 0.9283658266067505, 0.0, 0.9080268740653992, 0.9999998807907104, 1.0000001192092896, 0.9079580903053284, 0.9999998807907104, 0.0, 0.9329001903533936, 0.9174110293388367, 0.907961905002594, 0.9526503682136536, 0.9999998807907104, 0.8469617962837219, 0.9036564230918884, 1.0000001192092896, 0.9999996423721313, 1.0000001192092896, 0.8944690227508545, 0.9819931387901306, 0.9999997615814209, 0.8961617350578308, 0.9055406451225281, 0.0, 0.9964085221290588, 0.8416295051574707, 0.9881764650344849, 1.0, 1.0, 1.000000238418579, 0.8473302721977234, 0.9038268327713013, 0.9999999403953552, 0.9596793055534363, 0.8087570667266846, 0.9336329102516174, 0.862963855266571, 0.8088226914405823, 0.8070852160453796, 0.8557995557785034, 0.8785574436187744, 0.9118087887763977, 0.8532249927520752, 0.9174620509147644, 1.0000003576278687, 1.000000238418579, 0.0, 0.0, 0.9999997615814209, 0.0, 0.9000527262687683, 1.0, 0.9584035873413086, 1.000000238418579, 0.8758518099784851, 0.845373809337616, 0.9999998807907104, 0.9999998211860657, 0.9267982244491577, 0.9553731083869934, 1.0000003576278687, 0.9999998807907104, 0.9236488342285156, 0.9276971220970154, 0.9928306937217712, 0.898263692855835, 0.9078260064125061, 0.8753715753555298, 0.9999998807907104, 0.0, 0.8205930590629578, 1.0000001192092896, 0.9999998211860657, 0.8385304808616638, 0.9999998807907104, 0.8645929098129272, 0.9254070520401001, 0.9999998807907104, 0.9046304225921631, 0.8023096919059753, 0.9999999403953552, 0.8092377781867981, 0.9999998807907104, 0.8001593351364136, 0.8134930729866028, 0.9527764916419983, 0.9999997615814209, 1.0, 1.0, 0.7576949000358582, 0.9661674499511719, 1.0000001192092896, 0.8327953815460205, 0.0, 0.9999998807907104, 0.9101916551589966, 0.9386718273162842, 1.0, 0.8471939563751221, 0.9999998211860657, 0.866490364074707, 0.8544833064079285, 0.8455004692077637, 0.8556101322174072, 0.8335760235786438, 0.9573015570640564, 0.9448274970054626, 0.8568102717399597, 0.9783304333686829, 1.000000238418579, 0.8788312077522278, 0.8584731221199036, 0.897526204586029, 0.9124332070350647, 0.9999997615814209, 0.9482276439666748, 0.9584092497825623, 0.8024439811706543, 1.0000003576278687, 1.0000003576278687, 0.9404886960983276, 0.9667866826057434, 0.9345594644546509, 1.0, 0.0, 0.8437880873680115, 0.9999998807907104, 0.8010179400444031, 0.899146318435669, 0.8892548680305481, 0.927254855632782, 0.9716352820396423, 0.8819596171379089, 0.8496072888374329, 0.9402607083320618, 0.8964733481407166, 0.8242409825325012, 0.9709271788597107, 0.0, 0.9284863471984863, 0.9618932604789734, 0.9944722652435303, 0.9192677140235901, 0.9999999403953552, 1.0000001192092896, 1.0, 0.9234650135040283, 0.9999998807907104, 0.9999999403953552, 0.9827080965042114, 1.0000001192092896, 0.8476948142051697, 0.8191239833831787, 0.8175919651985168, 0.0, 0.8125258684158325, 0.8240970373153687, 0.8042855858802795, 0.8296713829040527, 0.7961511015892029, 0.8364754915237427, 0.7989304661750793, 0.8181951642036438, 0.9851557016372681, 0.9061997532844543, 0.9366896152496338, 0.8098682165145874, 0.9184560179710388, 0.0, 0.0, 0.9606388211250305, 0.802742063999176, 0.881294846534729, 1.0000005960464478, 0.9422237873077393, 0.8682979941368103, 0.9318382143974304, 0.9702882170677185, 0.9596307277679443, 0.8306525945663452, 0.9391632080078125, 0.0, 0.0, 0.9172649383544922, 0.9558746814727783, 0.9825875163078308, 0.9355807900428772, 0.9204549193382263, 0.999999463558197, 0.9813423156738281, 0.9316830635070801, 0.8396438360214233, 0.8853588104248047, 0.7679198384284973, 0.9602482318878174, 0.9183819890022278, 0.7763605117797852, 0.0, 0.9745665192604065, 1.0, 1.000000238418579, 0.9832260012626648, 0.9158787727355957, 0.9614534378051758, 0.9762176871299744, 0.9999997615814209, 0.9805764555931091, 0.9152093529701233, 0.8243001103401184, 1.0, 0.8860446214675903, 0.9775522947311401, 1.0000001192092896, 0.9999998807907104, 0.82291179895401, 0.8204644322395325, 0.9103727340698242, 0.9846683740615845, 0.8793758153915405, 0.9602836966514587, 0.9999999403953552, 0.8280994296073914, 0.9855664968490601, 0.9999999403953552, 0.9999998807907104, 0.8685197830200195, 0.9865437150001526, 0.9236264228820801, 0.8802302479743958, 0.944481611251831, 0.9999999403953552, 0.9328435063362122, 0.9487699866294861, 0.824733555316925, 0.8538996577262878, 0.9314073920249939, 0.8858107328414917, 0.8990412354469299, 0.8676682114601135, 0.8059811592102051, 0.9570809602737427, 0.8495021462440491, 0.9395766258239746, 1.0, 1.0, 0.8996574878692627, 0.0, 0.8334145545959473, 0.9184824228286743, 0.8464041948318481, 0.8009198904037476, 0.0, 0.8357998728752136, 1.0000001192092896, 0.0, 0.8809512257575989, 0.803204357624054, 0.8748273253440857, 0.8858769536018372, 0.9296219348907471, 0.9453749656677246, 0.8103728890419006, 0.0, 0.8584107756614685, 0.8499350547790527, 0.9256047010421753, 0.8265202641487122, 0.9999998807907104, 0.8906505107879639, 0.8506941199302673, 0.0, 0.8641728162765503, 0.0, 0.9344499707221985, 0.8448002934455872, 0.9436625242233276, 0.9834946393966675, 0.9439012408256531, 0.8341970443725586, 0.8654477000236511, 0.9917235374450684, 0.8763018846511841, 0.9999999403953552, 0.9095498323440552, 0.9306551814079285, 0.8202358484268188, 0.8517613410949707, 0.8606875538825989, 0.9188864827156067, 0.8579128384590149, 0.8553031086921692, 0.9355157017707825, 0.8409828543663025, 0.9054588675498962, 0.8813613653182983, 0.911963939666748, 0.9417958855628967, 0.8817668557167053, 0.923223614692688, 0.9525429606437683, 0.9514119625091553, 0.8205333352088928, 0.8466711640357971, 0.9569392800331116, 0.8409767150878906, 0.7846992015838623, 0.9054664969444275, 0.9008446335792542, 0.8324474096298218, 0.8489995002746582, 0.0, 0.937118411064148, 0.9206582307815552, 0.964328944683075, 0.910916268825531, 0.9345856308937073, 0.9335725903511047, 0.9431790709495544, 0.9999998211860657, 0.9264962077140808, 0.9640191793441772, 0.8335809707641602, 0.8896006345748901, 0.8995730876922607, 0.9999998807907104, 0.9087451696395874, 0.9196740388870239, 0.814538300037384, 0.8945414423942566, 0.9234130382537842, 0.9153649806976318, 0.9184929132461548, 0.8658952713012695, 0.9791823029518127, 0.9117298722267151, 0.9999999403953552, 0.8759255409240723, 0.8999099135398865, 0.9186767339706421, 0.8741497993469238, 0.9571584463119507, 0.8837435841560364, 0.9999998807907104, 0.9772440195083618, 0.9694268703460693, 0.9754489660263062, 0.9337438941001892, 0.9429922699928284, 0.8308830261230469, 0.9122085571289062, 1.0, 0.909722626209259, 0.857869565486908, 0.9999999403953552, 0.9039727449417114, 0.9033255577087402, 1.0, 0.8765074610710144, 0.9766215085983276, 0.8324050903320312, 0.9188626408576965, 0.9531518220901489, 0.9223987460136414, 0.92606121301651, 0.9999992847442627, 0.9380056858062744, 0.938539981842041, 0.9380711317062378, 0.9371320605278015, 0.9407683610916138, 0.9366034269332886, 0.9340354800224304, 0.9226507544517517, 0.8983706831932068, 0.938697874546051, 0.9371775388717651, 0.0, 0.9599894881248474, 1.0, 0.8490443229675293, 0.9747430086135864, 0.8531154990196228, 0.9946060180664062, 0.8091144561767578, 0.0, 0.9251031279563904, 0.835798978805542, 0.8400251269340515, 0.9922275543212891, 0.9304830431938171, 0.969956636428833, 0.8533183336257935, 0.9496327638626099, 0.9134841561317444, 0.8785852193832397, 0.8179324865341187, 0.8063794374465942, 0.9600465297698975, 0.9999998807907104, 1.0, 0.0, 0.9005803465843201, 0.8157227635383606, 0.808553159236908, 0.8485740423202515, 0.8152967691421509, 0.8629295229911804, 0.864301323890686, 0.8916999101638794, 0.822222888469696, 0.9999998211860657, 1.0000003576278687, 0.8561806082725525, 0.9999999403953552, 0.0, 0.9429647326469421, 1.000000238418579, 0.943032443523407, 0.9578678607940674, 0.9950116276741028, 0.9853687882423401, 0.9126809239387512, 0.0, 0.9028311371803284, 0.9999998807907104, 0.9577803015708923, 0.0, 0.0, 0.8360569477081299, 0.8979479074478149, 0.8605640530586243, 0.8492738008499146, 0.8489450812339783, 0.9202607274055481, 0.9394818544387817, 0.9567154049873352, 0.9085214138031006, 0.8286601305007935, 0.918082594871521, 1.000000238418579, 0.9419434070587158, 0.0, 0.8300703167915344, 0.9401363134384155, 0.9823062419891357, 0.9063782095909119, 0.0, 0.0, 0.8467579483985901, 0.9999998807907104, 0.9487946033477783, 0.8241974115371704, 0.9529233574867249, 0.8103776574134827, 0.9823692440986633, 0.9905168414115906, 0.9918777346611023, 0.9999998807907104, 0.0, 0.8955362439155579, 0.9606468081474304, 0.9999998807907104, 0.9380083084106445, 0.9634363651275635, 0.8666847944259644, 0.8359530568122864, 0.8038994669914246, 0.8939886093139648, 0.8816447257995605, 0.9090458750724792, 0.7840002179145813, 0.0, 0.0, 0.9084184765815735, 0.8341255187988281, 0.8732184767723083, 0.8687857389450073, 0.87392258644104, 0.0, 0.80464768409729, 0.8199818134307861, 0.8327035903930664, 0.8789385557174683, 0.0, 0.0, 0.0, 0.7770732641220093, 0.8008256554603577, 0.8929250836372375, 0.0, 1.0, 0.8913896083831787, 0.9203537702560425, 0.8864019513130188, 0.8251919150352478, 0.8783333897590637, 0.9475418329238892, 0.9887030124664307, 0.9205451011657715, 0.9833098649978638, 0.8402248620986938, 0.8705061078071594, 0.9130429625511169, 0.0, 0.0, 0.8143141865730286, 0.8551994562149048, 0.927222490310669, 0.9729610681533813, 0.8979736566543579, 0.9183248281478882, 0.9889925718307495, 0.8647974729537964, 0.9862815737724304, 0.906828761100769, 1.0, 0.9207099676132202, 0.0, 0.9999999403953552, 0.8469818830490112, 0.9833016991615295, 0.9335284233093262, 0.9100093841552734, 0.0, 0.9538964033126831, 0.9256420731544495, 0.8021339774131775, 0.8820255994796753, 0.9944216012954712, 0.0, 0.0, 0.9927512407302856, 0.0, 0.0, 0.0, 0.0, 0.0, 0.0, 0.0, 0.0, 0.0, 0.0, 0.8992091417312622, 0.9212047457695007, 1.0, 1.0000003576278687, 0.9758825898170471, 0.9290303587913513, 1.0000001192092896, 0.0, 1.0000001192092896, 0.9002372622489929, 0.9419236779212952, 1.0000001192092896, 0.9779611229896545, 0.9822570085525513, 0.9035428166389465, 0.8907478451728821, 0.9455320239067078, 0.9040736556053162, 0.9893137812614441, 0.0, 0.9929854869842529, 0.9248278737068176, 0.9293953776359558, 1.0, 1.0, 0.8868216872215271], 'hashcode': 'roberta-large_L17_no-idf_version=0.3.11(hug_trans=4.21.1)'}\n"
          ]
        },
        {
          "output_type": "stream",
          "name": "stderr",
          "text": [
            "Warning: Empty candidate sentence detected; setting raw BERTscores to 0.\n",
            "Warning: Empty candidate sentence detected; setting raw BERTscores to 0.\n",
            "Warning: Empty candidate sentence detected; setting raw BERTscores to 0.\n",
            "Warning: Empty candidate sentence detected; setting raw BERTscores to 0.\n",
            "Warning: Empty candidate sentence detected; setting raw BERTscores to 0.\n",
            "Warning: Empty candidate sentence detected; setting raw BERTscores to 0.\n",
            "Warning: Empty candidate sentence detected; setting raw BERTscores to 0.\n",
            "Warning: Empty candidate sentence detected; setting raw BERTscores to 0.\n",
            "Warning: Empty candidate sentence detected; setting raw BERTscores to 0.\n",
            "Warning: Empty candidate sentence detected; setting raw BERTscores to 0.\n",
            "Warning: Empty candidate sentence detected; setting raw BERTscores to 0.\n",
            "Warning: Empty candidate sentence detected; setting raw BERTscores to 0.\n",
            "Warning: Empty candidate sentence detected; setting raw BERTscores to 0.\n"
          ]
        }
      ]
    },
    {
      "cell_type": "code",
      "source": [
        "print(results[\"precision\"])\n",
        "print(results[\"recall\"])\n",
        "print(results[\"f1\"])\n",
        "\n",
        "total_precision = 0\n",
        "total_recall = 0\n",
        "total_f1 = 0\n",
        "\n",
        "count = 0\n",
        "\n",
        "for prec, recall, f1 in zip(results[\"precision\"], results[\"recall\"], results[\"f1\"]):\n",
        "  if prec != 0:\n",
        "    count += 1\n",
        "    total_precision += prec\n",
        "    total_recall += recall\n",
        "    total_f1 += f1\n",
        "\n",
        "precision = total_precision / count\n",
        "recall = total_recall / count\n",
        "f1 = total_f1 / count\n",
        "\n",
        "print(\"Precision: \",precision)\n",
        "print(\"Recall: \", recall)\n",
        "print(\"F1: \", f1)"
      ],
      "metadata": {
        "colab": {
          "base_uri": "https://localhost:8080/"
        },
        "id": "tlIHEKE9uXVk",
        "outputId": "8c952462-aae8-4e2f-acce-f8a47670e354"
      },
      "execution_count": 17,
      "outputs": [
        {
          "output_type": "stream",
          "name": "stdout",
          "text": [
            "[0.9686095118522644, 0.9999999403953552, 1.000000238418579, 0.9631285071372986, 0.9554632902145386, 0.8415042161941528, 0.986257791519165, 1.0000001192092896, 0.0, 0.9705690741539001, 0.8393273949623108, 0.9412073493003845, 0.8889396786689758, 0.9049331545829773, 0.9651733636856079, 0.8516417741775513, 0.8685101866722107, 0.8800537586212158, 0.9794119596481323, 0.886131763458252, 0.9329707622528076, 0.0, 0.9146555662155151, 0.8768319487571716, 0.9139076471328735, 1.0, 0.9591159820556641, 0.8846626281738281, 0.8834199905395508, 0.8734580278396606, 0.8433209657669067, 1.0000001192092896, 1.0, 0.9715421199798584, 0.9074413180351257, 0.9716725945472717, 1.0, 0.9074124693870544, 0.992056667804718, 0.9817062020301819, 0.0, 1.0000001192092896, 0.9548692107200623, 0.8183964490890503, 0.9661613702774048, 0.8784549236297607, 1.0000001192092896, 0.8796072602272034, 0.9999998807907104, 1.0, 0.0, 0.971061110496521, 1.000000238418579, 1.000000238418579, 0.9787951707839966, 1.0, 0.9999999403953552, 0.9999998807907104, 0.9999998807907104, 0.0, 0.0, 0.0, 0.0, 0.0, 0.9942713379859924, 1.0000001192092896, 0.8302760124206543, 0.8619253039360046, 0.966926634311676, 0.9574375152587891, 0.973609447479248, 1.0, 0.9142515063285828, 0.9883841276168823, 0.9529924392700195, 0.9253377914428711, 0.9793237447738647, 0.9433950185775757, 0.9665476083755493, 0.9049268960952759, 0.9311246871948242, 0.9999999403953552, 0.9999997019767761, 0.9999997615814209, 0.9680424928665161, 0.962985098361969, 1.0000001192092896, 0.8437784910202026, 0.9524397850036621, 0.8594071865081787, 0.989288866519928, 1.0, 0.9180045127868652, 0.8341771364212036, 0.0, 0.8160398006439209, 0.8603358268737793, 0.0, 0.9605075716972351, 0.9287227988243103, 0.8933025002479553, 0.9437258243560791, 0.9399615526199341, 0.9463443756103516, 0.0, 0.9859236478805542, 0.0, 0.9914560914039612, 0.985828161239624, 0.9891192317008972, 0.90012526512146, 0.9481693506240845, 0.0, 0.834518551826477, 0.0, 0.7841452360153198, 0.8354849219322205, 0.8873583674430847, 0.9914417266845703, 0.9596144556999207, 0.8329785466194153, 0.8943085670471191, 0.0, 0.0, 0.8942070007324219, 0.0, 0.0, 0.0, 0.9999997615814209, 1.0, 0.0, 0.9999998807907104, 0.0, 0.0, 0.9632310271263123, 0.9999995231628418, 0.9866567850112915, 0.0, 1.0, 0.9687888026237488, 0.9383389949798584, 0.0, 0.8807594776153564, 0.9817569255828857, 0.8918280601501465, 0.0, 0.9704933762550354, 0.8642124533653259, 0.8953588604927063, 0.9999997019767761, 1.0000003576278687, 0.0, 0.9999995231628418, 0.829339325428009, 0.822849690914154, 0.8287699222564697, 0.8454142808914185, 0.0, 0.8589470982551575, 0.8112285137176514, 0.8599569797515869, 0.0, 0.8620671629905701, 0.861862063407898, 0.8563213348388672, 0.9307827353477478, 0.0, 0.9574233293533325, 0.9529715776443481, 0.8598830699920654, 1.0000001192092896, 0.0, 0.9903221130371094, 0.8477932214736938, 1.0, 0.9999999403953552, 0.828984260559082, 0.0, 0.9049708247184753, 0.9717392921447754, 0.9999999403953552, 0.9543066024780273, 0.0, 0.98980313539505, 0.8374776840209961, 0.8732839822769165, 0.9728131890296936, 0.9654951095581055, 0.8479535579681396, 0.9076265096664429, 0.868438720703125, 1.0, 0.8479422330856323, 0.8523576259613037, 0.0, 0.9765239953994751, 1.0000001192092896, 0.9794591069221497, 0.0, 0.9999999403953552, 0.9873800277709961, 0.7984086871147156, 0.8636611700057983, 0.0, 0.9999999403953552, 0.0, 0.9536925554275513, 0.9999998211860657, 0.0, 0.9706096649169922, 0.9999998807907104, 0.9509652256965637, 0.9686995148658752, 0.9477758407592773, 0.8566190600395203, 0.9999998807907104, 0.9689456820487976, 0.849347710609436, 0.9679362773895264, 0.0, 0.0, 0.9624254703521729, 0.0, 0.8242302536964417, 0.8605371713638306, 0.9657840728759766, 0.0, 0.9487990736961365, 0.8300315141677856, 1.0, 0.9499882459640503, 1.0000001192092896, 0.8147956132888794, 0.8572907447814941, 0.9476503729820251, 0.9630669951438904, 0.9775116443634033, 0.0, 0.9720556735992432, 0.0, 1.0, 0.9071118831634521, 1.0, 0.928765594959259, 0.9791727066040039, 0.9173665046691895, 1.0, 0.9332355856895447, 1.0000001192092896, 1.0, 0.960783064365387, 0.9411576986312866, 1.0000004768371582, 0.9999996423721313, 1.0, 0.9999998211860657, 0.0, 0.9508333802223206, 0.9169484376907349, 0.9350972175598145, 0.934579610824585, 0.0, 0.9580661058425903, 0.9999998807907104, 1.0000001192092896, 0.9485705494880676, 0.9999998807907104, 0.0, 0.9549039006233215, 0.9300374984741211, 0.9454283714294434, 0.9733474254608154, 0.9999998807907104, 0.8668196201324463, 0.9242727756500244, 1.0000001192092896, 0.9999996423721313, 1.0000001192092896, 0.9535535573959351, 0.9819931387901306, 0.9999997615814209, 0.9391796588897705, 0.9285373687744141, 0.0, 0.9963003993034363, 0.9207053780555725, 0.9901355504989624, 1.0, 1.0, 1.000000238418579, 0.8700149655342102, 0.959707498550415, 0.9999999403953552, 0.9745051860809326, 0.8440129160881042, 0.9733635187149048, 0.8822188973426819, 0.8258845210075378, 0.7865565419197083, 0.8674386739730835, 0.912280797958374, 0.9460164308547974, 0.8747628927230835, 0.9463363885879517, 1.0000003576278687, 1.000000238418579, 0.0, 0.0, 0.9999997615814209, 0.0, 0.9577041864395142, 1.0, 0.9550211429595947, 1.000000238418579, 0.8944556713104248, 0.8946985006332397, 0.9999998807907104, 0.9999998211860657, 0.9783967733383179, 0.9777694344520569, 1.0000003576278687, 0.9999998807907104, 0.9704980254173279, 0.9524329900741577, 0.997428834438324, 0.8854420185089111, 0.9488295316696167, 0.9614914059638977, 0.9999998807907104, 0.0, 0.8021311163902283, 1.000000238418579, 0.9999998211860657, 0.8528817892074585, 0.9999998807907104, 0.9214766025543213, 0.936464786529541, 0.9999998807907104, 0.9263429641723633, 0.8250572681427002, 0.9999999403953552, 0.7581605911254883, 0.9999998807907104, 0.8325587511062622, 0.8307554721832275, 0.9600727558135986, 0.9999997615814209, 1.0, 1.0, 0.7493071556091309, 0.9756149053573608, 1.0000001192092896, 0.8348332643508911, 0.0, 0.9999998807907104, 0.918582558631897, 0.9467777013778687, 1.0, 0.8381825089454651, 0.9999998211860657, 0.8583519458770752, 0.8480955362319946, 0.8570775985717773, 0.8629734516143799, 0.8583290576934814, 0.9616925716400146, 0.918623685836792, 0.8459218144416809, 0.9799385666847229, 1.000000238418579, 0.8964874148368835, 0.8723548650741577, 0.9220983386039734, 0.9340234994888306, 0.9999997615814209, 0.9398950338363647, 0.9855487942695618, 0.8171496391296387, 1.0000003576278687, 1.0000003576278687, 0.9084523320198059, 0.9679299592971802, 0.9659998416900635, 1.0, 0.0, 0.8803733587265015, 0.9999998807907104, 0.8293331861495972, 0.9305641055107117, 0.9326125979423523, 0.9434441328048706, 0.9799832105636597, 0.903234601020813, 0.8642591238021851, 0.9570778012275696, 0.9491761326789856, 0.8525727987289429, 0.974652111530304, 0.0, 0.9588117003440857, 0.9712687134742737, 0.9942519068717957, 0.9069674611091614, 0.9999999403953552, 1.0000001192092896, 1.0, 0.9667943716049194, 0.9999998807907104, 0.9999999403953552, 0.9888050556182861, 1.0000001192092896, 0.8857161402702332, 0.8219496607780457, 0.8497190475463867, 0.0, 0.8566063642501831, 0.8378986120223999, 0.8543045520782471, 0.8679443001747131, 0.8395853638648987, 0.8542642593383789, 0.809566855430603, 0.8238368034362793, 0.9858003854751587, 0.9575766324996948, 0.9550052285194397, 0.8103080987930298, 0.9678647518157959, 0.0, 0.0, 0.9592783451080322, 0.8642075657844543, 0.9564496278762817, 1.0000005960464478, 0.9457728862762451, 0.9152781963348389, 0.9668598175048828, 0.977020800113678, 0.9670487642288208, 0.8305160999298096, 0.9576255679130554, 0.0, 0.0, 0.9062086939811707, 0.9710526466369629, 0.9788578748703003, 0.9393836259841919, 0.9194140434265137, 0.999999463558197, 0.9923138618469238, 0.941159725189209, 0.8588008284568787, 0.9224604368209839, 0.7976821660995483, 0.9665728211402893, 0.9278754591941833, 0.8261255025863647, 0.0, 0.9873276948928833, 1.0, 1.000000238418579, 0.9796609878540039, 0.9667037725448608, 0.9698415994644165, 0.9620561599731445, 0.9999997615814209, 0.9790867567062378, 0.9300276041030884, 0.8612866401672363, 1.0, 0.8876640796661377, 0.9885265827178955, 1.0000001192092896, 0.9999998807907104, 0.8035025000572205, 0.8277621269226074, 0.9518582224845886, 0.9880961179733276, 0.8702155947685242, 0.9446966648101807, 0.9999999403953552, 0.8628849387168884, 0.9849904775619507, 0.9999998807907104, 0.9999998807907104, 0.8767473697662354, 0.9897572994232178, 0.9323388338088989, 0.8741946220397949, 0.9730437397956848, 0.9999999403953552, 0.958681583404541, 0.9527076482772827, 0.8390966653823853, 0.8615448474884033, 0.9705451130867004, 0.9279404878616333, 0.9630224704742432, 0.9465365409851074, 0.8306005001068115, 0.9570809602737427, 0.8721734285354614, 0.970208466053009, 1.0, 1.0, 0.8762512803077698, 0.0, 0.8792647123336792, 0.9481160640716553, 0.8860935568809509, 0.8499116897583008, 0.0, 0.8714028596878052, 1.0, 0.0, 0.9171401858329773, 0.8491405844688416, 0.9060696363449097, 0.9030951261520386, 0.947952151298523, 0.969774067401886, 0.8512051105499268, 0.0, 0.9120146036148071, 0.9252318143844604, 0.9671001434326172, 0.8864622116088867, 0.9999998807907104, 0.9084224700927734, 0.8636935949325562, 0.0, 0.887671709060669, 0.0, 0.9744203090667725, 0.8735736608505249, 0.9638956189155579, 0.9831750392913818, 0.9760545492172241, 0.8421123027801514, 0.8705850839614868, 0.9938549995422363, 0.8838733434677124, 0.9999999403953552, 0.9579424858093262, 0.9608559012413025, 0.8318896889686584, 0.8740555047988892, 0.9056780338287354, 0.9747090935707092, 0.8827202320098877, 0.8935447931289673, 0.9608751535415649, 0.858352541923523, 0.9448419213294983, 0.9537627696990967, 0.9663980007171631, 0.9782295823097229, 0.9310135245323181, 0.9638542532920837, 0.9729084968566895, 0.980744481086731, 0.8558270335197449, 0.8971133232116699, 0.9776668548583984, 0.8368168473243713, 0.8389237523078918, 0.9370689392089844, 0.9677033424377441, 0.8435089588165283, 0.8502017259597778, 0.0, 0.9611474275588989, 0.9272987246513367, 0.9728086590766907, 0.9518155455589294, 0.967536211013794, 0.9551693797111511, 0.9723706841468811, 0.9999998211860657, 0.9445295929908752, 0.991098940372467, 0.8412183523178101, 0.9329622983932495, 0.933516263961792, 0.9999998807907104, 0.9507258534431458, 0.9541445970535278, 0.8252708911895752, 0.941631555557251, 0.9384769201278687, 0.951343834400177, 0.9755759239196777, 0.8681135773658752, 0.9791823029518127, 0.9578889012336731, 1.0, 0.8764093518257141, 0.917375922203064, 0.9658986330032349, 0.883653461933136, 0.982880711555481, 0.9363855719566345, 0.9999998807907104, 0.9814438819885254, 0.9756271243095398, 0.9823299050331116, 0.9483259916305542, 0.929351806640625, 0.8364635109901428, 0.9531242847442627, 1.0, 0.9606186151504517, 0.8567792177200317, 0.9999999403953552, 0.8786810636520386, 0.9646706581115723, 1.0, 0.8705980777740479, 0.986345648765564, 0.8390700817108154, 0.9548428058624268, 0.9643737077713013, 0.9622480273246765, 0.9787619113922119, 0.9999992847442627, 0.971138060092926, 0.9752552509307861, 0.9713426232337952, 0.9754149913787842, 0.9746348857879639, 0.9773799777030945, 0.9747648239135742, 0.9704147577285767, 0.9285897016525269, 0.9760618209838867, 0.9754493832588196, 0.0, 0.9630986452102661, 1.0, 0.8383810520172119, 0.9811450242996216, 0.8624931573867798, 0.9948055744171143, 0.8344610929489136, 0.0, 0.9324111938476562, 0.8323248624801636, 0.8455139398574829, 0.9878727197647095, 0.9380348920822144, 0.956517219543457, 0.8796064853668213, 0.9576049447059631, 0.8843542337417603, 0.8675912618637085, 0.8390559554100037, 0.808468759059906, 0.947036623954773, 0.9999998807907104, 1.0, 0.0, 0.9403703212738037, 0.8492389917373657, 0.8395006656646729, 0.9080053567886353, 0.848893940448761, 0.9007472395896912, 0.8877919316291809, 0.9555996060371399, 0.8418757915496826, 0.9999998211860657, 1.0000003576278687, 0.8740740418434143, 0.9999999403953552, 0.0, 0.9429647326469421, 1.000000238418579, 0.9799567461013794, 0.9826269149780273, 0.9948903322219849, 0.9879876971244812, 0.9501932263374329, 0.0, 0.9487461447715759, 0.9999998807907104, 0.9808864593505859, 0.0, 0.0, 0.8747534155845642, 0.9377281665802002, 0.8868279457092285, 0.8685544729232788, 0.8648538589477539, 0.9425404071807861, 0.9537408351898193, 0.9671528935432434, 0.9346188902854919, 0.854121744632721, 0.9460756182670593, 1.000000238418579, 0.9830365777015686, 0.0, 0.8515468835830688, 0.9598436951637268, 0.9844754934310913, 0.9438838362693787, 0.0, 0.0, 0.8840844631195068, 0.9999998807907104, 0.9702247381210327, 0.8620438575744629, 0.9528894424438477, 0.823643684387207, 0.9857112169265747, 0.9920284152030945, 0.9915533065795898, 0.9999998807907104, 0.0, 0.9251277446746826, 0.979912519454956, 0.9999998807907104, 0.9601542949676514, 0.9764531850814819, 0.9187158346176147, 0.8807018995285034, 0.7923714518547058, 0.9011768698692322, 0.8801508545875549, 0.9090458750724792, 0.810489296913147, 0.0, 0.0, 0.9164497256278992, 0.8308759331703186, 0.9039238691329956, 0.9013501405715942, 0.8858157992362976, 0.0, 0.8054901361465454, 0.8178543448448181, 0.8701096773147583, 0.956698477268219, 0.0, 0.0, 0.0, 0.835077166557312, 0.877347469329834, 0.9556458592414856, 0.0, 1.0, 0.9435705542564392, 0.9642189741134644, 0.9328799247741699, 0.8173346519470215, 0.9240894317626953, 0.967750072479248, 0.992318868637085, 0.950886607170105, 0.9833098649978638, 0.8211785554885864, 0.8945083618164062, 0.9636804461479187, 0.0, 0.0, 0.8549478054046631, 0.8800232410430908, 0.9335623979568481, 0.9729610681533813, 0.9581102132797241, 0.9564101696014404, 0.9925721287727356, 0.8943670392036438, 0.9858904480934143, 0.9489713907241821, 1.0, 0.9685050249099731, 0.0, 0.9999999403953552, 0.886882483959198, 0.9857863187789917, 0.9678541421890259, 0.9594168663024902, 0.0, 0.9907814860343933, 0.9344170093536377, 0.8419947028160095, 0.9239184856414795, 0.9946011304855347, 0.0, 0.0, 0.9935559034347534, 0.0, 0.0, 0.0, 0.0, 0.0, 0.0, 0.0, 0.0, 0.0, 0.0, 0.9220821261405945, 0.9727776050567627, 1.0, 1.0000003576278687, 0.9742806553840637, 0.9675824642181396, 1.0000001192092896, 0.0, 1.0000001192092896, 0.9371395111083984, 0.9543576240539551, 1.000000238418579, 0.9913858771324158, 0.9913250803947449, 0.9453768730163574, 0.9220470190048218, 0.9597277045249939, 0.9337556958198547, 0.9945836067199707, 0.0, 0.99705970287323, 0.9536685943603516, 0.9496668577194214, 1.0, 1.0, 0.9415047764778137]\n",
            "[0.9360077381134033, 0.9999999403953552, 1.000000238418579, 0.9906295537948608, 0.963935136795044, 0.7948836088180542, 0.9938420057296753, 1.0000001192092896, 0.0, 0.8725913763046265, 0.7544943690299988, 0.8845736384391785, 0.800913393497467, 0.8533626794815063, 0.8788331151008606, 0.8130769729614258, 0.8272968530654907, 0.8106385469436646, 0.9221235513687134, 0.8384742736816406, 0.8354259729385376, 0.0, 0.8363200426101685, 0.7652477025985718, 0.8346651196479797, 1.0, 0.8606037497520447, 0.8299859166145325, 0.8315485119819641, 0.8127648830413818, 0.7715737819671631, 1.0000001192092896, 1.0, 0.8066688179969788, 0.8324871063232422, 0.9002798795700073, 1.0, 0.8594925403594971, 0.991065263748169, 0.9904310703277588, 0.0, 1.0000001192092896, 0.8983027935028076, 0.9033956527709961, 0.9209451675415039, 0.8066554069519043, 1.0000001192092896, 0.8634347319602966, 0.9999998807907104, 1.0, 0.0, 0.976690411567688, 1.000000238418579, 1.000000238418579, 0.9787951707839966, 1.0, 0.9999999403953552, 0.9999998807907104, 0.9999998807907104, 0.0, 0.0, 0.0, 0.0, 0.0, 0.9931529760360718, 1.0000001192092896, 0.8216255903244019, 0.8057045936584473, 0.8817978501319885, 0.9200305342674255, 0.9897435903549194, 1.0, 0.7422021627426147, 0.9554318785667419, 0.9304701089859009, 0.8414514064788818, 0.9713665246963501, 0.955619752407074, 0.8778402209281921, 0.8243342041969299, 0.9311246871948242, 0.9999999403953552, 0.9999997019767761, 0.9999997615814209, 0.9107486009597778, 0.9483177065849304, 1.0000001192092896, 0.8210638165473938, 0.9241546392440796, 0.7673938870429993, 0.9892889261245728, 1.0, 0.8645663261413574, 0.8238925337791443, 0.0, 0.8132423162460327, 0.8851331472396851, 0.0, 0.8823411464691162, 0.8744153380393982, 0.8452709317207336, 0.8418248891830444, 0.8065614700317383, 0.9043654799461365, 0.0, 0.9852853417396545, 0.0, 0.9876939058303833, 0.9802650809288025, 0.9859123229980469, 0.8953918814659119, 0.8601298332214355, 0.0, 0.8015705347061157, 0.0, 0.7867089509963989, 0.8123312592506409, 0.8029232025146484, 0.9769017696380615, 0.8996188640594482, 0.8113667368888855, 0.8233043551445007, 0.0, 0.0, 0.8274771571159363, 0.0, 0.0, 0.0, 0.9999997615814209, 1.0, 0.0, 0.9999998807907104, 0.0, 0.0, 0.9829108119010925, 0.9999995231628418, 0.9866567850112915, 0.0, 1.0, 0.9684953689575195, 0.9602409601211548, 0.0, 0.9256627559661865, 0.9734787940979004, 0.88634192943573, 0.0, 0.9652127623558044, 0.9112356305122375, 0.9543066024780273, 0.9999997019767761, 1.0000003576278687, 0.0, 0.9999995231628418, 0.8682364821434021, 0.8482145071029663, 0.8467439413070679, 0.8632251024246216, 0.0, 0.8405666947364807, 0.8007572889328003, 0.8495615124702454, 0.0, 0.8389737010002136, 0.7847119569778442, 0.8484362363815308, 0.8704050779342651, 0.0, 0.8920419216156006, 0.8521990180015564, 0.8447530269622803, 1.0000001192092896, 0.0, 0.9834097027778625, 0.808749258518219, 1.0, 1.0, 0.7931432127952576, 0.0, 0.9311450123786926, 0.8525879383087158, 0.9999999403953552, 0.8953588604927063, 0.0, 0.9855227470397949, 0.7644920349121094, 0.7486025094985962, 0.9877712726593018, 0.842276930809021, 0.7664588689804077, 0.8426632881164551, 0.7825648784637451, 1.0, 0.8444836735725403, 0.7909773588180542, 0.0, 0.9495203495025635, 1.0000001192092896, 0.9749817848205566, 0.0, 0.9999999403953552, 0.9821174144744873, 0.807870626449585, 0.8169935941696167, 0.0, 0.9999999403953552, 0.0, 0.9684711694717407, 0.9999998211860657, 0.0, 0.9287123680114746, 0.9999998807907104, 0.9304377436637878, 0.8764834403991699, 0.8611034750938416, 0.7963887453079224, 0.9999998807907104, 0.9211851358413696, 0.8359957933425903, 0.9440613389015198, 0.0, 0.0, 0.8291635513305664, 0.0, 0.771979570388794, 0.7847384810447693, 0.9247771501541138, 0.0, 0.8262108564376831, 0.7550339698791504, 1.0, 0.9048367142677307, 1.0000001192092896, 0.7849412560462952, 0.7993572950363159, 0.9803900718688965, 0.9089658260345459, 0.9657855033874512, 0.0, 0.973609209060669, 0.0, 1.0, 0.9367992877960205, 1.0, 0.9101428985595703, 0.9791727066040039, 0.882145881652832, 1.0, 0.8337001800537109, 1.0000001192092896, 1.0, 0.942159116268158, 0.9430012702941895, 1.0000004768371582, 0.9999996423721313, 1.0, 0.9999998211860657, 0.0, 0.9225553274154663, 0.9054296016693115, 0.8368549942970276, 0.922234058380127, 0.0, 0.8629552125930786, 0.9999998807907104, 1.0000001192092896, 0.8706803321838379, 0.9999998807907104, 0.0, 0.9118876457214355, 0.9051227569580078, 0.8733518123626709, 0.9328151941299438, 0.9999998807907104, 0.8279935717582703, 0.8839396834373474, 1.0000001192092896, 0.9999996423721313, 1.0000001192092896, 0.842279314994812, 0.9819931387901306, 0.9999997615814209, 0.8569120168685913, 0.8836553692817688, 0.0, 0.9965167045593262, 0.7750624418258667, 0.9862250685691833, 1.0, 1.0, 1.000000238418579, 0.825798511505127, 0.8540955185890198, 0.9999999403953552, 0.9452977180480957, 0.7763285040855408, 0.897018551826477, 0.8445314168930054, 0.7924516201019287, 0.8287140727043152, 0.8444687128067017, 0.8472384810447693, 0.8799886107444763, 0.8327222466468811, 0.890297532081604, 1.0000003576278687, 1.000000238418579, 0.0, 0.0, 0.9999997615814209, 0.0, 0.8489481210708618, 1.0, 0.9618101119995117, 1.000000238418579, 0.8580060601234436, 0.8012034296989441, 0.9999998807907104, 0.9999998211860657, 0.8803694844245911, 0.933979868888855, 1.0000003576278687, 0.9999998807907104, 0.8811144828796387, 0.904213547706604, 0.9882747530937195, 0.9114620685577393, 0.8702195882797241, 0.8034107685089111, 0.9999998807907104, 0.0, 0.8399249315261841, 1.0000001192092896, 0.9999998211860657, 0.824654221534729, 0.9999998807907104, 0.8143237233161926, 0.9146074652671814, 0.9999998807907104, 0.8839124441146851, 0.7807828187942505, 0.9999999403953552, 0.8676943182945251, 0.9999998807907104, 0.770187258720398, 0.7969335317611694, 0.9455903768539429, 0.9999997615814209, 1.0, 1.0, 0.7662726640701294, 0.9569011926651001, 1.0000001192092896, 0.8307673931121826, 0.0, 0.9999998807907104, 0.9019527435302734, 0.9307036399841309, 1.0, 0.856401264667511, 0.9999998211860657, 0.8747845888137817, 0.8609681129455566, 0.8342320322990417, 0.8483715057373047, 0.8102105855941772, 0.9529504776000977, 0.9725701808929443, 0.8679826855659485, 0.9767274856567383, 1.000000238418579, 0.8618571162223816, 0.8450263142585754, 0.8742295503616333, 0.8918185234069824, 0.9999997615814209, 0.9567093253135681, 0.9327244162559509, 0.7882581949234009, 1.0000003576278687, 1.0000003576278687, 0.9748672246932983, 0.9656461477279663, 0.9051011800765991, 1.0, 0.0, 0.8101222515106201, 0.9999998807907104, 0.7745723724365234, 0.8697806596755981, 0.8497495055198669, 0.9116117358207703, 0.9634283781051636, 0.8616638779640198, 0.8354438543319702, 0.9240244030952454, 0.849315345287323, 0.7977315187454224, 0.9672305583953857, 0.0, 0.9000205397605896, 0.9526970386505127, 0.9946928024291992, 0.9319063425064087, 0.9999999403953552, 1.0000001192092896, 1.0, 0.8838529586791992, 0.9999998807907104, 0.9999999403953552, 0.9766858816146851, 1.0000001192092896, 0.8128034472465515, 0.816317617893219, 0.7878057360649109, 0.0, 0.7727601528167725, 0.8107429146766663, 0.7597997784614563, 0.7946312427520752, 0.7569897174835205, 0.8194124698638916, 0.7885699272155762, 0.8126301765441895, 0.9845118522644043, 0.8600552678108215, 0.9190632700920105, 0.8094288110733032, 0.8738469481468201, 0.0, 0.0, 0.962003231048584, 0.7494393587112427, 0.8170903921127319, 1.0000005960464478, 0.9387012124061584, 0.8259052038192749, 0.8992649912834167, 0.9636477828025818, 0.9523255825042725, 0.8307890892028809, 0.9213993549346924, 0.0, 0.0, 0.9285943508148193, 0.9411638975143433, 0.9863458275794983, 0.931808590888977, 0.9214982390403748, 0.999999463558197, 0.9706107378005981, 0.9223953485488892, 0.8213227987289429, 0.8511261940002441, 0.7402985095977783, 0.9540058970451355, 0.9090808033943176, 0.7322505116462708, 0.0, 0.9621310830116272, 1.0, 1.000000238418579, 0.9868171215057373, 0.8701311349868774, 0.9532092213630676, 0.9908023476600647, 0.9999997615814209, 0.9820706248283386, 0.9008558988571167, 0.7903594374656677, 1.0, 0.8844310641288757, 0.9668190479278564, 1.0000001192092896, 0.9999998807907104, 0.8432818651199341, 0.8132942914962769, 0.8723524212837219, 0.9812643527984619, 0.8887308835983276, 0.9763936996459961, 0.9999999403953552, 0.7960100173950195, 0.9861432313919067, 0.9999999403953552, 0.9999998807907104, 0.8604451417922974, 0.9833509922027588, 0.9150752425193787, 0.8863497972488403, 0.9175485372543335, 1.0, 0.908361554145813, 0.9448647499084473, 0.8108538389205933, 0.8463889956474304, 0.8953038454055786, 0.8473403453826904, 0.8430318832397461, 0.8009320497512817, 0.782779335975647, 0.9570809602737427, 0.8279795050621033, 0.9108198285102844, 1.0, 1.0, 0.9243484735488892, 0.0, 0.7921091914176941, 0.8906450271606445, 0.8101179599761963, 0.7572683095932007, 0.0, 0.8029919862747192, 1.0000001192092896, 0.0, 0.8475097417831421, 0.7619830369949341, 0.8456678986549377, 0.8693031072616577, 0.9119870066642761, 0.9221736192703247, 0.7732787132263184, 0.0, 0.8107583522796631, 0.7859715223312378, 0.8875236511230469, 0.7741713523864746, 0.9999998807907104, 0.8735605478286743, 0.838080108165741, 0.0, 0.8418859839439392, 0.0, 0.8976294994354248, 0.8178620934486389, 0.9242614507675171, 0.9838144779205322, 0.9137988686561584, 0.8264293074607849, 0.8603705167770386, 0.9896012544631958, 0.8688591122627258, 0.9999999403953552, 0.8658115267753601, 0.9022949934005737, 0.8089039921760559, 0.8305761814117432, 0.8199554085731506, 0.8691115379333496, 0.8344616889953613, 0.8202003836631775, 0.9114603996276855, 0.8243021368980408, 0.8692275881767273, 0.8191766738891602, 0.8633350729942322, 0.9079785346984863, 0.8374683260917664, 0.8858798742294312, 0.9330126047134399, 0.923783004283905, 0.7880352735519409, 0.801599383354187, 0.9370723962783813, 0.8451781272888184, 0.7370586395263672, 0.87592613697052, 0.8426274657249451, 0.8216723799705505, 0.8478006720542908, 0.0, 0.9142614603042603, 0.9141122102737427, 0.9559959173202515, 0.8733870387077332, 0.9038054347038269, 0.9129307866096497, 0.9156891107559204, 0.9999998211860657, 0.909138560295105, 0.9383798837661743, 0.8260809779167175, 0.8500906229019165, 0.8680115342140198, 0.9999998807907104, 0.8703150749206543, 0.887607216835022, 0.8040813207626343, 0.8519369959831238, 0.908825159072876, 0.8820083737373352, 0.8677207231521606, 0.8636882901191711, 0.9791823625564575, 0.8698148727416992, 0.9999999403953552, 0.8754422664642334, 0.8830965757369995, 0.8758568167686462, 0.8648483753204346, 0.9327481389045715, 0.8367054462432861, 0.9999998807907104, 0.9730799198150635, 0.963304877281189, 0.9686638116836548, 0.9196034073829651, 0.9570391178131104, 0.825376570224762, 0.8746611475944519, 1.0, 0.8639484643936157, 0.8589626550674438, 0.9999999403953552, 0.9307634830474854, 0.8493160009384155, 1.0, 0.8824976682662964, 0.9670871496200562, 0.8258451223373413, 0.8854955434799194, 0.942188024520874, 0.8857187032699585, 0.8787457942962646, 0.9999992847442627, 0.9070594906806946, 0.9044888615608215, 0.9070034027099609, 0.9017406702041626, 0.9091763496398926, 0.8990931510925293, 0.8965733051300049, 0.8793680667877197, 0.8700565099716187, 0.9040890336036682, 0.901795506477356, 0.0, 0.9569002985954285, 1.0, 0.859982430934906, 0.9684239625930786, 0.8439395427703857, 0.9944066405296326, 0.7852621674537659, 0.0, 0.9179088473320007, 0.8393021821975708, 0.8346071243286133, 0.9966208934783936, 0.9230517148971558, 0.9837791919708252, 0.8285558223724365, 0.941792368888855, 0.944598376750946, 0.8898612856864929, 0.7978464961051941, 0.8043010234832764, 0.9734188914299011, 0.9999998807907104, 1.0, 0.0, 0.8640209436416626, 0.7847517132759094, 0.7798061966896057, 0.7964446544647217, 0.784257709980011, 0.8281593322753906, 0.8420217633247375, 0.8358103632926941, 0.8034666180610657, 0.9999998211860657, 1.0000003576278687, 0.8390049934387207, 0.9999999403953552, 0.0, 0.9429647326469421, 1.000000238418579, 0.9087897539138794, 0.9343258142471313, 0.9951329231262207, 0.9827637672424316, 0.8780179023742676, 0.0, 0.8611551523208618, 0.9999998807907104, 0.935737669467926, 0.0, 0.0, 0.8006391525268555, 0.8614054918289185, 0.8358111381530762, 0.8308305144309998, 0.833611011505127, 0.8990099430084229, 0.9256429672241211, 0.946500837802887, 0.8838416337966919, 0.8046726584434509, 0.8916985988616943, 1.000000238418579, 0.9041480422019958, 0.0, 0.8096504807472229, 0.921221911907196, 0.9801465272903442, 0.8717392683029175, 0.0, 0.0, 0.8124556541442871, 0.9999998807907104, 0.9282907247543335, 0.789534330368042, 0.9529573321342468, 0.7975320816040039, 0.9790498614311218, 0.9890098571777344, 0.9922024011611938, 0.9999998807907104, 0.0, 0.8677791357040405, 0.9421240091323853, 0.9999998807907104, 0.9168609380722046, 0.9507619738578796, 0.8202314972877502, 0.7955318093299866, 0.8157678246498108, 0.886914074420929, 0.8831437230110168, 0.9090458750724792, 0.7591876983642578, 0.0, 0.0, 0.900526762008667, 0.8374006748199463, 0.8445307016372681, 0.8384923934936523, 0.86234450340271, 0.0, 0.8038069605827332, 0.8221204876899719, 0.7983812093734741, 0.8128690123558044, 0.0, 0.0, 0.0, 0.7266038656234741, 0.7365813851356506, 0.8379302024841309, 0.0, 1.0, 0.8446775674819946, 0.8803060054779053, 0.8443354368209839, 0.8332018256187439, 0.8368948698043823, 0.9281602501869202, 0.9851135015487671, 0.8920799493789673, 0.9833098649978638, 0.860175609588623, 0.8477582931518555, 0.8674613833427429, 0.0, 0.0, 0.7773677110671997, 0.831737756729126, 0.9209680557250977, 0.9729610681533813, 0.8449403047561646, 0.8831565380096436, 0.9854385852813721, 0.8371206521987915, 0.9866728782653809, 0.8682698607444763, 1.0, 0.8774104118347168, 0.0, 1.0, 0.8105170726776123, 0.9808294773101807, 0.9015540480613708, 0.8654414415359497, 0.0, 0.9196591377258301, 0.9170303344726562, 0.7658767700195312, 0.8437669277191162, 0.9942420721054077, 0.0, 0.0, 0.9919477701187134, 0.0, 0.0, 0.0, 0.0, 0.0, 0.0, 0.0, 0.0, 0.0, 0.0, 0.8774434328079224, 0.8748250007629395, 1.0, 1.0000003576278687, 0.9774898290634155, 0.8934327363967896, 1.0000001192092896, 0.0, 1.0000001192092896, 0.8661311864852905, 0.9298094511032104, 1.0000001192092896, 0.9648951888084412, 0.9733532667160034, 0.865254282951355, 0.8615038990974426, 0.9317501187324524, 0.8762205839157104, 0.9840995669364929, 0.0, 0.9889445304870605, 0.8976803421974182, 0.9099711775779724, 1.0, 1.0, 0.8381420373916626]\n",
            "[0.9520295858383179, 0.9999999403953552, 1.000000238418579, 0.9766855239868164, 0.9596805572509766, 0.8175297975540161, 0.9900354146957397, 1.0000001192092896, 0.0, 0.9189761281013489, 0.7946532368659973, 0.9120121598243713, 0.842633843421936, 0.878391683101654, 0.9199818968772888, 0.8319126963615417, 0.8474027514457703, 0.8439211249351501, 0.94990473985672, 0.8616445064544678, 0.8815080523490906, 0.0, 0.8737355470657349, 0.8172485828399658, 0.8724907636642456, 1.0, 0.9071933031082153, 0.8564525246620178, 0.8566998243331909, 0.8420191407203674, 0.8058536052703857, 1.0000001192092896, 1.0, 0.8814620971679688, 0.8683497309684753, 0.9346147775650024, 1.0, 0.8828026652336121, 0.9915607571601868, 0.9860493540763855, 0.0, 1.0000001192092896, 0.9257226586341858, 0.8587979674339294, 0.9430115818977356, 0.8410255312919617, 1.0000001192092896, 0.8714459538459778, 0.9999998807907104, 1.0, 0.0, 0.9738675951957703, 1.000000238418579, 1.000000238418579, 0.9787951707839966, 1.0, 0.9999999403953552, 0.9999998807907104, 0.9999998807907104, 0.0, 0.0, 0.0, 0.0, 0.0, 0.9937118291854858, 1.0000001192092896, 0.8259280920028687, 0.8328672051429749, 0.9224022626876831, 0.9383613467216492, 0.9816102385520935, 1.0, 0.8192917704582214, 0.971628725528717, 0.9415966272354126, 0.8814031481742859, 0.9753289222717285, 0.9494680762290955, 0.9200607538223267, 0.8627524971961975, 0.9311246871948242, 0.9999999403953552, 0.9999997019767761, 0.9999997615814209, 0.9385219812393188, 0.9555951356887817, 1.0000001192092896, 0.8322661519050598, 0.938084065914154, 0.8107984066009521, 0.989288866519928, 1.0, 0.8904843926429749, 0.8290029764175415, 0.0, 0.8146386742591858, 0.8725583553314209, 0.0, 0.9197666049003601, 0.9007512331008911, 0.8686231970787048, 0.8898676037788391, 0.8681669235229492, 0.9248787760734558, 0.0, 0.9856043457984924, 0.0, 0.9895713925361633, 0.9830387234687805, 0.9875131845474243, 0.8977522850036621, 0.9020063877105713, 0.0, 0.8177127838134766, 0.0, 0.7854250073432922, 0.8237453699111938, 0.8430318236351013, 0.9841180443763733, 0.9286486506462097, 0.8220306634902954, 0.8573387861251831, 0.0, 0.0, 0.8595488667488098, 0.0, 0.0, 0.0, 0.9999997615814209, 1.0, 0.0, 0.9999998807907104, 0.0, 0.0, 0.9729714393615723, 0.9999995231628418, 0.9866567850112915, 0.0, 1.0, 0.9686420559883118, 0.9491636753082275, 0.0, 0.9026529788970947, 0.9776003360748291, 0.8890765309333801, 0.0, 0.9678458571434021, 0.8871012926101685, 0.9238934516906738, 0.9999997019767761, 1.0000003576278687, 0.0, 0.9999995231628418, 0.8483422994613647, 0.8353396058082581, 0.8376604914665222, 0.85422682762146, 0.0, 0.8496575355529785, 0.8059589266777039, 0.8547276854515076, 0.0, 0.8503636717796326, 0.8214795589447021, 0.8523605465888977, 0.8995819687843323, 0.0, 0.9235769510269165, 0.8997725248336792, 0.852250874042511, 1.0000001192092896, 0.0, 0.986853837966919, 0.827811062335968, 1.0, 0.9999999403953552, 0.8106677532196045, 0.0, 0.917871356010437, 0.9082725644111633, 0.9999999403953552, 0.9238934516906738, 0.0, 0.9876583814620972, 0.799322247505188, 0.8061507940292358, 0.98023521900177, 0.8996866941452026, 0.8051493167877197, 0.8739393353462219, 0.8232685327529907, 1.0, 0.8462094068527222, 0.8205211758613586, 0.0, 0.9628328680992126, 1.0000001192092896, 0.9772153496742249, 0.0, 0.9999999403953552, 0.9847416877746582, 0.8031117916107178, 0.8396794199943542, 0.0, 0.9999999403953552, 0.0, 0.961025059223175, 0.9999998211860657, 0.0, 0.9491989016532898, 0.9999998807907104, 0.9405895471572876, 0.9202871918678284, 0.9023631811141968, 0.8254066705703735, 0.9999998807907104, 0.9444620013237, 0.8426188826560974, 0.955849826335907, 0.0, 0.0, 0.8908383846282959, 0.0, 0.7972497940063477, 0.820891797542572, 0.944835901260376, 0.0, 0.8832718133926392, 0.790758490562439, 1.0, 0.9268629550933838, 1.0000001192092896, 0.7995898723602295, 0.827311098575592, 0.963742196559906, 0.9352346658706665, 0.9716132283210754, 0.0, 0.9728318452835083, 0.0, 1.0, 0.921716570854187, 1.0, 0.9193599820137024, 0.9791727066040039, 0.8994114995002747, 1.0, 0.8806643486022949, 1.0000001192092896, 1.0, 0.9513799548149109, 0.9420785903930664, 1.0000004768371582, 0.9999996423721313, 1.0, 0.9999998211860657, 0.0, 0.9364808797836304, 0.9111526012420654, 0.883252739906311, 0.9283658266067505, 0.0, 0.9080268740653992, 0.9999998807907104, 1.0000001192092896, 0.9079580903053284, 0.9999998807907104, 0.0, 0.9329001903533936, 0.9174110293388367, 0.907961905002594, 0.9526503682136536, 0.9999998807907104, 0.8469617962837219, 0.9036564230918884, 1.0000001192092896, 0.9999996423721313, 1.0000001192092896, 0.8944690227508545, 0.9819931387901306, 0.9999997615814209, 0.8961617350578308, 0.9055406451225281, 0.0, 0.9964085221290588, 0.8416295051574707, 0.9881764650344849, 1.0, 1.0, 1.000000238418579, 0.8473302721977234, 0.9038268327713013, 0.9999999403953552, 0.9596793055534363, 0.8087570667266846, 0.9336329102516174, 0.862963855266571, 0.8088226914405823, 0.8070852160453796, 0.8557995557785034, 0.8785574436187744, 0.9118087887763977, 0.8532249927520752, 0.9174620509147644, 1.0000003576278687, 1.000000238418579, 0.0, 0.0, 0.9999997615814209, 0.0, 0.9000527262687683, 1.0, 0.9584035873413086, 1.000000238418579, 0.8758518099784851, 0.845373809337616, 0.9999998807907104, 0.9999998211860657, 0.9267982244491577, 0.9553731083869934, 1.0000003576278687, 0.9999998807907104, 0.9236488342285156, 0.9276971220970154, 0.9928306937217712, 0.898263692855835, 0.9078260064125061, 0.8753715753555298, 0.9999998807907104, 0.0, 0.8205930590629578, 1.0000001192092896, 0.9999998211860657, 0.8385304808616638, 0.9999998807907104, 0.8645929098129272, 0.9254070520401001, 0.9999998807907104, 0.9046304225921631, 0.8023096919059753, 0.9999999403953552, 0.8092377781867981, 0.9999998807907104, 0.8001593351364136, 0.8134930729866028, 0.9527764916419983, 0.9999997615814209, 1.0, 1.0, 0.7576949000358582, 0.9661674499511719, 1.0000001192092896, 0.8327953815460205, 0.0, 0.9999998807907104, 0.9101916551589966, 0.9386718273162842, 1.0, 0.8471939563751221, 0.9999998211860657, 0.866490364074707, 0.8544833064079285, 0.8455004692077637, 0.8556101322174072, 0.8335760235786438, 0.9573015570640564, 0.9448274970054626, 0.8568102717399597, 0.9783304333686829, 1.000000238418579, 0.8788312077522278, 0.8584731221199036, 0.897526204586029, 0.9124332070350647, 0.9999997615814209, 0.9482276439666748, 0.9584092497825623, 0.8024439811706543, 1.0000003576278687, 1.0000003576278687, 0.9404886960983276, 0.9667866826057434, 0.9345594644546509, 1.0, 0.0, 0.8437880873680115, 0.9999998807907104, 0.8010179400444031, 0.899146318435669, 0.8892548680305481, 0.927254855632782, 0.9716352820396423, 0.8819596171379089, 0.8496072888374329, 0.9402607083320618, 0.8964733481407166, 0.8242409825325012, 0.9709271788597107, 0.0, 0.9284863471984863, 0.9618932604789734, 0.9944722652435303, 0.9192677140235901, 0.9999999403953552, 1.0000001192092896, 1.0, 0.9234650135040283, 0.9999998807907104, 0.9999999403953552, 0.9827080965042114, 1.0000001192092896, 0.8476948142051697, 0.8191239833831787, 0.8175919651985168, 0.0, 0.8125258684158325, 0.8240970373153687, 0.8042855858802795, 0.8296713829040527, 0.7961511015892029, 0.8364754915237427, 0.7989304661750793, 0.8181951642036438, 0.9851557016372681, 0.9061997532844543, 0.9366896152496338, 0.8098682165145874, 0.9184560179710388, 0.0, 0.0, 0.9606388211250305, 0.802742063999176, 0.881294846534729, 1.0000005960464478, 0.9422237873077393, 0.8682979941368103, 0.9318382143974304, 0.9702882170677185, 0.9596307277679443, 0.8306525945663452, 0.9391632080078125, 0.0, 0.0, 0.9172649383544922, 0.9558746814727783, 0.9825875163078308, 0.9355807900428772, 0.9204549193382263, 0.999999463558197, 0.9813423156738281, 0.9316830635070801, 0.8396438360214233, 0.8853588104248047, 0.7679198384284973, 0.9602482318878174, 0.9183819890022278, 0.7763605117797852, 0.0, 0.9745665192604065, 1.0, 1.000000238418579, 0.9832260012626648, 0.9158787727355957, 0.9614534378051758, 0.9762176871299744, 0.9999997615814209, 0.9805764555931091, 0.9152093529701233, 0.8243001103401184, 1.0, 0.8860446214675903, 0.9775522947311401, 1.0000001192092896, 0.9999998807907104, 0.82291179895401, 0.8204644322395325, 0.9103727340698242, 0.9846683740615845, 0.8793758153915405, 0.9602836966514587, 0.9999999403953552, 0.8280994296073914, 0.9855664968490601, 0.9999999403953552, 0.9999998807907104, 0.8685197830200195, 0.9865437150001526, 0.9236264228820801, 0.8802302479743958, 0.944481611251831, 0.9999999403953552, 0.9328435063362122, 0.9487699866294861, 0.824733555316925, 0.8538996577262878, 0.9314073920249939, 0.8858107328414917, 0.8990412354469299, 0.8676682114601135, 0.8059811592102051, 0.9570809602737427, 0.8495021462440491, 0.9395766258239746, 1.0, 1.0, 0.8996574878692627, 0.0, 0.8334145545959473, 0.9184824228286743, 0.8464041948318481, 0.8009198904037476, 0.0, 0.8357998728752136, 1.0000001192092896, 0.0, 0.8809512257575989, 0.803204357624054, 0.8748273253440857, 0.8858769536018372, 0.9296219348907471, 0.9453749656677246, 0.8103728890419006, 0.0, 0.8584107756614685, 0.8499350547790527, 0.9256047010421753, 0.8265202641487122, 0.9999998807907104, 0.8906505107879639, 0.8506941199302673, 0.0, 0.8641728162765503, 0.0, 0.9344499707221985, 0.8448002934455872, 0.9436625242233276, 0.9834946393966675, 0.9439012408256531, 0.8341970443725586, 0.8654477000236511, 0.9917235374450684, 0.8763018846511841, 0.9999999403953552, 0.9095498323440552, 0.9306551814079285, 0.8202358484268188, 0.8517613410949707, 0.8606875538825989, 0.9188864827156067, 0.8579128384590149, 0.8553031086921692, 0.9355157017707825, 0.8409828543663025, 0.9054588675498962, 0.8813613653182983, 0.911963939666748, 0.9417958855628967, 0.8817668557167053, 0.923223614692688, 0.9525429606437683, 0.9514119625091553, 0.8205333352088928, 0.8466711640357971, 0.9569392800331116, 0.8409767150878906, 0.7846992015838623, 0.9054664969444275, 0.9008446335792542, 0.8324474096298218, 0.8489995002746582, 0.0, 0.937118411064148, 0.9206582307815552, 0.964328944683075, 0.910916268825531, 0.9345856308937073, 0.9335725903511047, 0.9431790709495544, 0.9999998211860657, 0.9264962077140808, 0.9640191793441772, 0.8335809707641602, 0.8896006345748901, 0.8995730876922607, 0.9999998807907104, 0.9087451696395874, 0.9196740388870239, 0.814538300037384, 0.8945414423942566, 0.9234130382537842, 0.9153649806976318, 0.9184929132461548, 0.8658952713012695, 0.9791823029518127, 0.9117298722267151, 0.9999999403953552, 0.8759255409240723, 0.8999099135398865, 0.9186767339706421, 0.8741497993469238, 0.9571584463119507, 0.8837435841560364, 0.9999998807907104, 0.9772440195083618, 0.9694268703460693, 0.9754489660263062, 0.9337438941001892, 0.9429922699928284, 0.8308830261230469, 0.9122085571289062, 1.0, 0.909722626209259, 0.857869565486908, 0.9999999403953552, 0.9039727449417114, 0.9033255577087402, 1.0, 0.8765074610710144, 0.9766215085983276, 0.8324050903320312, 0.9188626408576965, 0.9531518220901489, 0.9223987460136414, 0.92606121301651, 0.9999992847442627, 0.9380056858062744, 0.938539981842041, 0.9380711317062378, 0.9371320605278015, 0.9407683610916138, 0.9366034269332886, 0.9340354800224304, 0.9226507544517517, 0.8983706831932068, 0.938697874546051, 0.9371775388717651, 0.0, 0.9599894881248474, 1.0, 0.8490443229675293, 0.9747430086135864, 0.8531154990196228, 0.9946060180664062, 0.8091144561767578, 0.0, 0.9251031279563904, 0.835798978805542, 0.8400251269340515, 0.9922275543212891, 0.9304830431938171, 0.969956636428833, 0.8533183336257935, 0.9496327638626099, 0.9134841561317444, 0.8785852193832397, 0.8179324865341187, 0.8063794374465942, 0.9600465297698975, 0.9999998807907104, 1.0, 0.0, 0.9005803465843201, 0.8157227635383606, 0.808553159236908, 0.8485740423202515, 0.8152967691421509, 0.8629295229911804, 0.864301323890686, 0.8916999101638794, 0.822222888469696, 0.9999998211860657, 1.0000003576278687, 0.8561806082725525, 0.9999999403953552, 0.0, 0.9429647326469421, 1.000000238418579, 0.943032443523407, 0.9578678607940674, 0.9950116276741028, 0.9853687882423401, 0.9126809239387512, 0.0, 0.9028311371803284, 0.9999998807907104, 0.9577803015708923, 0.0, 0.0, 0.8360569477081299, 0.8979479074478149, 0.8605640530586243, 0.8492738008499146, 0.8489450812339783, 0.9202607274055481, 0.9394818544387817, 0.9567154049873352, 0.9085214138031006, 0.8286601305007935, 0.918082594871521, 1.000000238418579, 0.9419434070587158, 0.0, 0.8300703167915344, 0.9401363134384155, 0.9823062419891357, 0.9063782095909119, 0.0, 0.0, 0.8467579483985901, 0.9999998807907104, 0.9487946033477783, 0.8241974115371704, 0.9529233574867249, 0.8103776574134827, 0.9823692440986633, 0.9905168414115906, 0.9918777346611023, 0.9999998807907104, 0.0, 0.8955362439155579, 0.9606468081474304, 0.9999998807907104, 0.9380083084106445, 0.9634363651275635, 0.8666847944259644, 0.8359530568122864, 0.8038994669914246, 0.8939886093139648, 0.8816447257995605, 0.9090458750724792, 0.7840002179145813, 0.0, 0.0, 0.9084184765815735, 0.8341255187988281, 0.8732184767723083, 0.8687857389450073, 0.87392258644104, 0.0, 0.80464768409729, 0.8199818134307861, 0.8327035903930664, 0.8789385557174683, 0.0, 0.0, 0.0, 0.7770732641220093, 0.8008256554603577, 0.8929250836372375, 0.0, 1.0, 0.8913896083831787, 0.9203537702560425, 0.8864019513130188, 0.8251919150352478, 0.8783333897590637, 0.9475418329238892, 0.9887030124664307, 0.9205451011657715, 0.9833098649978638, 0.8402248620986938, 0.8705061078071594, 0.9130429625511169, 0.0, 0.0, 0.8143141865730286, 0.8551994562149048, 0.927222490310669, 0.9729610681533813, 0.8979736566543579, 0.9183248281478882, 0.9889925718307495, 0.8647974729537964, 0.9862815737724304, 0.906828761100769, 1.0, 0.9207099676132202, 0.0, 0.9999999403953552, 0.8469818830490112, 0.9833016991615295, 0.9335284233093262, 0.9100093841552734, 0.0, 0.9538964033126831, 0.9256420731544495, 0.8021339774131775, 0.8820255994796753, 0.9944216012954712, 0.0, 0.0, 0.9927512407302856, 0.0, 0.0, 0.0, 0.0, 0.0, 0.0, 0.0, 0.0, 0.0, 0.0, 0.8992091417312622, 0.9212047457695007, 1.0, 1.0000003576278687, 0.9758825898170471, 0.9290303587913513, 1.0000001192092896, 0.0, 1.0000001192092896, 0.9002372622489929, 0.9419236779212952, 1.0000001192092896, 0.9779611229896545, 0.9822570085525513, 0.9035428166389465, 0.8907478451728821, 0.9455320239067078, 0.9040736556053162, 0.9893137812614441, 0.0, 0.9929854869842529, 0.9248278737068176, 0.9293953776359558, 1.0, 1.0, 0.8868216872215271]\n",
            "Precision:  0.9365515055248091\n",
            "Recall:  0.9036791500794953\n",
            "F1:  0.9193306580103563\n"
          ]
        }
      ]
    },
    {
      "cell_type": "markdown",
      "source": [
        "## 5.0 So How does it Perform for questions using the CDCs covid advice website?"
      ],
      "metadata": {
        "id": "Y1C_EjEWnExZ"
      }
    },
    {
      "cell_type": "code",
      "source": [
        "cdc_guidance = \"IF YOU Were exposed to COVID-19 and are NOT up to date on COVID-19 vaccinations Quarantine for at least 5 days Stay home Stay home and quarantine for at least 5 full days. Wear a well-fitting mask if you must be around others in your home. Do not travel. Get tested Even if you don’t develop symptoms, get tested at least 5 days after you last had close contact with someone with COVID-19. After quarantine Watch for symptoms Watch for symptoms until 10 days after you last had close contact with someone with COVID-19. Avoid travel It is best to avoid travel until a full 10 days after you last had close contact with someone with COVID-19. If you develop symptoms Isolate immediately and get tested. Continue to stay home until you know the results. Wear a well-fitting mask around others. Take precautions until day 10 Wear a well-fitting mask Wear a well-fitting mask for 10 full days any time you are around others inside your home or in public. Do not go to places where you are unable to wear a well-fitting mask. If you must travel during days 6-10, take precautions. Avoid being around people who are more likely to get very sick from COVID-19. IF YOU Were exposed to COVID-19 and are up to date on COVID-19 vaccinations No quarantine You do not need to stay home unless you develop symptoms. Get tested Even if you don’t develop symptoms, get tested at least 5 days after you last had close contact with someone with COVID-19. Watch for symptoms Watch for symptoms until 10 days after you last had close contact with someone with COVID-19. If you develop symptoms Isolate immediately and get tested. Continue to stay home until you know the results. Wear a well-fitting mask around others. Take precautions until day 10 Wear a well-fitting mask Wear a well-fitting mask for 10 full days any time you are around others inside your home or in public. Do not go to places where you are unable to wear a well-fitting mask. Take precautions if traveling Avoid being around people who are more likely to get very sick from COVID-19. IF YOU were exposed to COVID-19 and had confirmed COVID-19 within the past 90 days (you tested positive using a viral test) No quarantine You do not need to stay home unless you develop symptoms. Watch for symptoms Watch for symptoms until 10 days after you last had close contact with someone with COVID-19.  If you develop symptoms Isolate immediately and get tested. Continue to stay home until you know the results. Wear a well-fitting mask around others. Take precautions until day 10 Wear a well-fitting mask Wear a well-fitting mask for 10 full days any time you are around others inside your home or in public. Do not go to places where you are unable to wear a well-fitting mask. Take precautions if traveling Avoid being around people who are more likely to get very sick from COVID-19. Calculating Isolation Day 0 is your first day of symptoms or a positive viral test. Day 1 is the first full day after your symptoms developed or your test specimen was collected. If you have COVID-19 or have symptoms, isolate for at least 5 days. IF YOU Tested positive for COVID-19 or have symptoms, regardless of vaccination status Stay home for at least 5 days Stay home for 5 days and isolate from others in your home. Wear a well-fitting mask if you must be around others in your home. Do not travel. Ending isolation if you had symptoms End isolation after 5 full days if you are fever-free for 24 hours (without the use of fever-reducing medication) and your symptoms are improving. Ending isolation if you did NOT have symptoms End isolation after at least 5 full days after your positive test. If you got very sick from COVID-19 or have a weakened immune system You should isolate for at least 10 days. Consult your doctor before ending isolation. Take precautions until day 10 Wear a well-fitting mask  Wear a well-fitting mask for 10 full days any time you are around others inside your home or in public. Do not go to places where you are unable to wear a mask. Do not travel Do not travel until a full 10 days after your symptoms started or the date your positive test was taken if you had no symptoms. Avoid being around people who are more likely to get very sick from COVID-19.  DEFINITIONS Exposure Contact with someone infected with SARS-CoV-2, the virus that causes COVID-19, in a way that increases the likelihood of getting infected with the virus. Close Contact A close contact is someone who was less than 6 feet away from an infected person (laboratory-confirmed or a clinical diagnosis) for a cumulative total of 15 minutes or more over a 24-hour period. For example, three individual 5-minute exposures for a total of 15 minutes. People who are exposed to someone with COVID-19 after they completed at least 5 days of isolation are not considered close contacts. Quarantine Quarantine is a strategy used to prevent transmission of COVID-19 by keeping people who have been in close contact with someone with COVID-19 apart from others. Who does not need to quarantine? If you had close contact with someone with COVID-19 and you are in one of the following groups, you do not need to quarantine. You are up to date with your COVID-19 vaccines. You had confirmed COVID-19 within the last 90 days (meaning you tested positive using a viral test). If you are up to date with COVID-19 vaccines, you should wear a well-fitting mask around others for 10 days from the date of your last close contact with someone with COVID-19 (the date of last close contact is considered day 0). Get tested at least 5 days after you last had close contact with someone with COVID-19. If you test positive or develop COVID-19 symptoms, isolate from other people and follow recommendations in the Isolation section below. If you tested positive for COVID-19 with a viral test within the previous 90 days and subsequently recovered and remain without COVID-19 symptoms, you do not need to quarantine or get tested after close contact. You should wear a well-fitting mask around others for 10 days from the date of your last close contact with someone with COVID-19 (the date of last close contact is considered day 0). If you have COVID-19 symptoms, get tested and isolate from other people and follow recommendations in the Isolation section below. Who should quarantine? If you come into close contact with someone with COVID-19, you should quarantine if you are not up to date on COVID-19 vaccines. This includes people who are not vaccinated. What to do for quarantine Stay home and away from other people for at least 5 days (day 0 through day 5) after your last contact with a person who has COVID-19. The date of your exposure is considered day 0. Wear a well-fitting mask when around others at home, if possible. For 10 days after your last close contact with someone with COVID-19, watch for fever (100.4◦F or greater), cough, shortness of breath, or other COVID-19 symptoms. If you develop symptoms, get tested immediately and isolate until you receive your test results. If you test positive, follow isolation recommendations. If you do not develop symptoms, get tested at least 5 days after you last had close contact with someone with COVID-19. If you test negative, you can leave your home, but continue to wear a well-fitting mask when around others at home and in public until 10 days after your last close contact with someone with COVID-19. If you test positive, you should isolate for at least 5 days from the date of your positive test (if you do not have symptoms). If you do develop COVID-19 symptoms, isolate for at least 5 days from the date your symptoms began (the date the symptoms started is day 0). Follow recommendations in the isolation section below. If you are unable to get a test 5 days after last close contact with someone with COVID-19, you can leave your home after day 5 if you have been without COVID-19 symptoms throughout the 5-day period. Wear a well-fitting mask for 10 days after your date of last close contact when around others at home and in public. Avoid people who are have weakened immune systems or are more likely to get very sick from COVID-19, and nursing homes and other high-risk settings, until after at least 10 days. If possible, stay away from people you live with, especially people who are at higher risk for getting very sick from COVID-19, as well as others outside your home throughout the full 10 days after your last close contact with someone with COVID-19. If you are unable to quarantine, you should wear a well-fitting mask for 10 days when around others at home and in public. If you are unable to wear a mask when around others, you should continue to quarantine for 10 days. Avoid people who have weakened immune systems or are more likely to get very sick from COVID-19, and nursing homes and other high-risk settings, until after at least 10 days. See additional information about travel. Do not go to places where you are unable to wear a mask, such as restaurants and some gyms, and avoid eating around others at home and at work until after 10 days after your last close contact with someone with COVID-19. After quarantine Watch for symptoms until 10 days after your last close contact with someone with COVID-19. If you have symptoms, isolate immediately and get tested. Quarantine in high-risk congregate settings In certain congregate settings that have high risk of secondary transmission (such as correctional and detention facilities, homeless shelters, or cruise ships), CDC recommends a 10-day quarantine for residents, regardless of vaccination and booster status. During periods of critical staffing shortages, facilities may consider shortening the quarantine period for staff to ensure continuity of operations. Decisions to shorten quarantine in these settings should be made in consultation with state, local, tribal, or territorial health departments and should take into consideration the context and characteristics of the facility. CDC’s setting-specific guidance provides additional recommendations for these settings. Isolation Isolation is used to separate people with confirmed or suspected COVID-19 from those without COVID-19. People who are in isolation should stay home until it’s safe for them to be around others. At home, anyone sick or infected should separate from others, or wear a well-fitting mask when they need to be around others. People in isolation should stay in a specific “sick room” or area and use a separate bathroom if available. Everyone who has presumed or confirmed COVID-19 should stay home and isolate from other people for at least 5 full days (day 0 is the first day of symptoms or the date of the day of the positive viral test for asymptomatic persons). They should wear a mask when around others at home and in public for an additional 5 days. People who are confirmed to have COVID-19 or are showing symptoms of COVID-19 need to isolate regardless of their vaccination status. This includes: People who have a positive viral test for COVID-19, regardless of whether or not they have symptoms. People with symptoms of COVID-19, including people who are awaiting test results or have not been tested. People with symptoms should isolate even if they do not know if they have been in close contact with someone with COVID-19. What to do for isolation Monitor your symptoms. If you have an emergency warning sign (including trouble breathing), seek emergency medical care immediately. Stay in a separate room from other household members, if possible. Use a separate bathroom, if possible. Take steps to improve ventilation at home, if possible. Avoid contact with other members of the household and pets. Don’t share personal household items, like cups, towels, and utensils. Wear a well-fitting mask when you need to be around other people. Learn more about what to do if you are sick and how to notify your contacts. Top of Page Ending isolation for people who had COVID-19 and had symptoms If you had COVID-19 and had symptoms, isolate for at least 5 days. To calculate your 5-day isolation period, day 0 is your first day of symptoms. Day 1 is the first full day after your symptoms developed. You can leave isolation after 5 full days. You can end isolation after 5 full days if you are fever-free for 24 hours without the use of fever-reducing medication and your other symptoms have improved (Loss of taste and smell may persist for weeks or months after recovery and need not delay the end of isolation ). You should continue to wear a well-fitting mask around others at home and in public for 5 additional days (day 6 through day 10) after the end of your 5-day isolation period. If you are unable to wear a mask when around others, you should continue to isolate for a full 10 days. Avoid people who have weakened immune systems or are more likely to get very sick from COVID-19, and nursing homes and other high-risk settings, until after at least 10 days. If you continue to have fever or your other symptoms have not improved after 5 days of isolation, you should wait to end your isolation until you are fever-free for 24 hours without the use of fever-reducing medication and your other symptoms have improved. Continue to wear a well-fitting mask through day 10. Contact your healthcare provider if you have questions. See additional information about travel. Do not go to places where you are unable to wear a mask, such as restaurants and some gyms, and avoid eating around others at home and at work until a full 10 days after your first day of symptoms. If an individual has access to a test and wants to test, the best approach is to use an antigen test1 towards the end of the 5-day isolation period. Collect the test sample only if you are fever-free for 24 hours without the use of fever-reducing medication and your other symptoms have improved (loss of taste and smell may persist for weeks or months after recovery and need not delay the end of isolation). If your test result is positive, you should continue to isolate until day 10. If your test result is negative, you can end isolation, but continue to wear a well-fitting mask around others at home and in public until day 10. Follow additional recommendations for masking and avoiding travel as described above. 1As noted in the labeling for authorized over-the counter antigen tests:   Negative results should be treated as presumptive. Negative results do not rule out SARS-CoV-2 infection and should not be used as the sole basis for treatment or patient management decisions, including infection control decisions. To improve results, antigen tests should be used twice over a three-day period with at least 24 hours and no more than 48 hours between tests. Note that these recommendations on ending isolation do not apply to people who are moderately ill or very sick from COVID-19 or have weakened immune systems. See section below for recommendations for when to end isolation for these groups. Ending isolation for people who tested positive for COVID-19 but had no symptoms If you test positive for COVID-19 and never develop symptoms, isolate for at least 5 days. Day 0 is the day of your positive viral test (based on the date you were tested) and day 1 is the first full day after the specimen was collected for your positive test. You can leave isolation after 5 full days. If you continue to have no symptoms, you can end isolation after at least 5 days. You should continue to wear a well-fitting mask around others at home and in public until day 10 (day 6 through day 10). If you are unable to wear a mask when around others, you should continue to isolate for 10 days. Avoid people who have weakened immune systems or are more likely to get very sick from COVID-19, and nursing homes and other high-risk settings, until after at least 10 days. If you develop symptoms after testing positive, your 5-day isolation period should start over. Day 0 is your first day of symptoms. Follow the recommendations above for ending isolation for people who had COVID-19 and had symptoms. See additional information about travel. Do not go to places where you are unable to wear a mask, such as restaurants and some gyms, and avoid eating around others at home and at work until 10 days after the day of your positive test. If an individual has access to a test and wants to test, the best approach is to use an antigen test1 towards the end of the 5-day isolation period. If your test result is positive, you should continue to isolate until day 10. If your test result is positive, you can also choose to test daily and if your test result is negative, you can end isolation, but continue to wear a well-fitting mask around others at home and in public until day 10. Follow additional recommendations for masking and avoiding travel as described above. 1As noted in the labeling for authorized over-the counter antigen tests external icon external icon  : Negative results should be treated as presumptive. Negative results do not rule out SARS-CoV-2 infection and should not be used as the sole basis for treatment or patient management decisions, including infection control decisions. To improve results, antigen tests should be used twice over a three-day period with at least 24 hours and no more than 48 hours between tests. Ending isolation for people who were moderately or very sick from COVID-19 or have a weakened immune system People who are moderately ill from COVID-19 (experiencing symptoms that affect the lungs like shortness of breath or difficulty breathing) should isolate for 10 days and follow all other isolation precautions.  To calculate your 10-day isolation period, day 0 is your first day of symptoms. Day 1 is the first full day after your symptoms developed. If you are unsure if your symptoms are moderate, talk to a healthcare provider for further guidance. People who are very sick from COVID-19 (this means people who were hospitalized or required intensive care or ventilation support) and people who have weakened immune systems might need to isolate at home longer. They may also require testing with a viral test to determine when they can be around others. CDC recommends an isolation period of at least 10 and up to 20 days for people who were very sick from COVID-19 and for people with weakened immune systems. Consult with your healthcare provider about when you can resume being around other people. If you are unsure if your symptoms are severe or if you have a weakened immune system, talk to a healthcare provider for further guidance. People who have a weakened immune system should talk to their healthcare provider about the potential for reduced immune responses to COVID-19 vaccines and the need to continue to follow current prevention measures (including wearing a well-fitting mask and avoiding crowds and poorly ventilated indoor spaces) to protect themselves against COVID-19 until advised otherwise by their healthcare provider. Close contacts of immunocompromised people—including household members—should also be encouraged to receive all recommended COVID-19 vaccine doses to help protect these people.  Isolation in high-risk congregate settings In certain high-risk congregate settings that have high risk of secondary transmission and where it is not feasible to cohort people (such as correctional and detention facilities, homeless shelters, and cruise ships), CDC recommends a 10-day isolation period for residents. During periods of critical staffing shortages, facilities may consider shortening the isolation period for staff to ensure continuity of operations. Decisions to shorten isolation in these settings should be made in consultation with state, local, tribal, or territorial health departments and should take into consideration the context and characteristics of the facility. CDC’s setting-specific guidance provides additional recommendations for these settings. This CDC guidance is meant to supplement—not replace—any federal, state, local, territorial, or tribal health and safety laws, rules, and regulations. \"\n",
        "\n",
        "prediction = run_prediction([\"What do I do if I am exposed to COVID-19?\", \"What should I do if I have a weakened immune system?\", \"How long should I isolate if I get Covid?\"], cdc_guidance)"
      ],
      "metadata": {
        "colab": {
          "base_uri": "https://localhost:8080/"
        },
        "id": "Yu4pOCenoM3w",
        "outputId": "2e10235a-6618-45c7-fed4-118e33d4dbbf"
      },
      "execution_count": null,
      "outputs": [
        {
          "output_type": "stream",
          "name": "stderr",
          "text": [
            "convert squad examples to features: 100%|██████████| 3/3 [00:01<00:00,  1.60it/s]\n",
            "add example index and unique id: 100%|██████████| 3/3 [00:00<00:00, 14413.42it/s]\n"
          ]
        }
      ]
    },
    {
      "cell_type": "code",
      "source": [
        "for key, value in prediction.items(): \n",
        "  print(value)"
      ],
      "metadata": {
        "colab": {
          "base_uri": "https://localhost:8080/"
        },
        "id": "Qe9bo6KoRsO_",
        "outputId": "69e04220-45cb-4d64-b9e0-faa1dcf70769"
      },
      "execution_count": null,
      "outputs": [
        {
          "output_type": "stream",
          "name": "stdout",
          "text": [
            "isolate for at least 5 days\n",
            "You should isolate for at least 10 days\n",
            "5 days\n"
          ]
        }
      ]
    },
    {
      "cell_type": "markdown",
      "source": [
        "## 6.0 Conclusion\n",
        "\n",
        "ALBERT is a highly accesible classifier for anyone who has enough RAM and GPU to run it. It is marketed as a lighter, higher speed version of the BERT classifier, but from what I found it's speed is highly dependent on the amount of context provided. With smaller amounts of context, BERT ran "
      ],
      "metadata": {
        "id": "sLpCCAy_7vey"
      }
    },
    {
      "cell_type": "markdown",
      "source": [
        ""
      ],
      "metadata": {
        "id": "-r-ttItl8eb3"
      }
    }
  ]
}